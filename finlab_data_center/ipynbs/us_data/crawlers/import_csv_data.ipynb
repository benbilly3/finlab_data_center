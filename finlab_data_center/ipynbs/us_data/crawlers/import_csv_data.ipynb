{
 "cells": [
  {
   "cell_type": "markdown",
   "metadata": {},
   "source": [
    "# import old  csv data"
   ]
  },
  {
   "cell_type": "code",
   "execution_count": 2,
   "metadata": {},
   "outputs": [],
   "source": [
    "import sys,os\n",
    "sys.path.append(\"..\")\n",
    "import django\n",
    "django.setup()\n",
    "from sqlalchemy import create_engine\n",
    "import pymysql\n",
    "import pandas as pd\n",
    "import sqlite3\n",
    "from etl.import_sql import *\n",
    "\n",
    "\n"
   ]
  },
  {
   "cell_type": "code",
   "execution_count": null,
   "metadata": {},
   "outputs": [],
   "source": [
    "# 美股財報\n",
    "# sf1_df=pd.read_csv('/Users/benbilly3/us_stocks_example_sourcecode/us_stock_rnd_strategy/SHARADAR_SF1_017f04a0d2ef7cc409f920be72167ada.csv')\n",
    "# sf1_df=sf1_df.rename(columns={'ticker': 'stock_id',\"datekey\":'date'})\n",
    "# sf1_df=sf1_df.sort_values(['stock_id','date'])\n",
    "# for i in ['date','calendardate','reportperiod','lastupdated']:\n",
    "#     sf1_df[i]=pd.to_datetime(sf1_df[i])\n",
    "# sf1_df=sf1_df.drop_duplicates(['stock_id', 'calendardate', 'dimension'], keep='first')\n",
    "# sf1_df.index=[i for i in range(1,len(sf1_df)+1)]\n",
    "# sf1_df"
   ]
  },
  {
   "cell_type": "code",
   "execution_count": null,
   "metadata": {},
   "outputs": [],
   "source": [
    "# # connect to finlab_django mysql\n",
    "# connect_info = 'mysql+pymysql://{}:{}@{}:{}/{}?charset=utf8'.format(\"finlab\",\"finlab\",\"localhost\",3306,\"dev_us_data\")\n",
    "# engine = create_engine(connect_info)\n",
    "# sf1_df.to_sql(con=engine,name='sharadar_sf1',index_label='id', if_exists='append')"
   ]
  },
  {
   "cell_type": "code",
   "execution_count": 3,
   "metadata": {},
   "outputs": [
    {
     "data": {
      "text/html": [
       "<div>\n",
       "<style scoped>\n",
       "    .dataframe tbody tr th:only-of-type {\n",
       "        vertical-align: middle;\n",
       "    }\n",
       "\n",
       "    .dataframe tbody tr th {\n",
       "        vertical-align: top;\n",
       "    }\n",
       "\n",
       "    .dataframe thead th {\n",
       "        text-align: right;\n",
       "    }\n",
       "</style>\n",
       "<table border=\"1\" class=\"dataframe\">\n",
       "  <thead>\n",
       "    <tr style=\"text-align: right;\">\n",
       "      <th></th>\n",
       "      <th>stock_id</th>\n",
       "      <th>date</th>\n",
       "      <th>open</th>\n",
       "      <th>high</th>\n",
       "      <th>low</th>\n",
       "      <th>close</th>\n",
       "      <th>volume</th>\n",
       "      <th>dividends</th>\n",
       "      <th>closeunadj</th>\n",
       "    </tr>\n",
       "  </thead>\n",
       "  <tbody>\n",
       "    <tr>\n",
       "      <th>1</th>\n",
       "      <td>A</td>\n",
       "      <td>2019-11-29</td>\n",
       "      <td>80.960</td>\n",
       "      <td>81.240</td>\n",
       "      <td>80.470</td>\n",
       "      <td>80.770</td>\n",
       "      <td>835780.0</td>\n",
       "      <td>0.0</td>\n",
       "      <td>80.770</td>\n",
       "    </tr>\n",
       "    <tr>\n",
       "      <th>2</th>\n",
       "      <td>AA</td>\n",
       "      <td>2019-11-29</td>\n",
       "      <td>20.430</td>\n",
       "      <td>20.470</td>\n",
       "      <td>20.158</td>\n",
       "      <td>20.350</td>\n",
       "      <td>1223254.0</td>\n",
       "      <td>0.0</td>\n",
       "      <td>20.350</td>\n",
       "    </tr>\n",
       "    <tr>\n",
       "      <th>3</th>\n",
       "      <td>AACG</td>\n",
       "      <td>2019-11-29</td>\n",
       "      <td>1.813</td>\n",
       "      <td>1.813</td>\n",
       "      <td>1.805</td>\n",
       "      <td>1.805</td>\n",
       "      <td>963.0</td>\n",
       "      <td>0.0</td>\n",
       "      <td>1.805</td>\n",
       "    </tr>\n",
       "    <tr>\n",
       "      <th>4</th>\n",
       "      <td>AAGIY</td>\n",
       "      <td>2019-11-29</td>\n",
       "      <td>40.580</td>\n",
       "      <td>40.580</td>\n",
       "      <td>40.010</td>\n",
       "      <td>40.020</td>\n",
       "      <td>163700.0</td>\n",
       "      <td>0.0</td>\n",
       "      <td>40.020</td>\n",
       "    </tr>\n",
       "    <tr>\n",
       "      <th>5</th>\n",
       "      <td>AAL</td>\n",
       "      <td>2019-11-29</td>\n",
       "      <td>28.920</td>\n",
       "      <td>29.265</td>\n",
       "      <td>28.660</td>\n",
       "      <td>28.740</td>\n",
       "      <td>2970843.0</td>\n",
       "      <td>0.0</td>\n",
       "      <td>28.740</td>\n",
       "    </tr>\n",
       "    <tr>\n",
       "      <th>...</th>\n",
       "      <td>...</td>\n",
       "      <td>...</td>\n",
       "      <td>...</td>\n",
       "      <td>...</td>\n",
       "      <td>...</td>\n",
       "      <td>...</td>\n",
       "      <td>...</td>\n",
       "      <td>...</td>\n",
       "      <td>...</td>\n",
       "    </tr>\n",
       "    <tr>\n",
       "      <th>37313276</th>\n",
       "      <td>WSTE1</td>\n",
       "      <td>1998-01-05</td>\n",
       "      <td>1.500</td>\n",
       "      <td>1.500</td>\n",
       "      <td>1.375</td>\n",
       "      <td>1.438</td>\n",
       "      <td>191168.0</td>\n",
       "      <td>0.0</td>\n",
       "      <td>1.438</td>\n",
       "    </tr>\n",
       "    <tr>\n",
       "      <th>37313277</th>\n",
       "      <td>WSTE1</td>\n",
       "      <td>1998-01-02</td>\n",
       "      <td>1.625</td>\n",
       "      <td>1.625</td>\n",
       "      <td>1.500</td>\n",
       "      <td>1.500</td>\n",
       "      <td>98920.0</td>\n",
       "      <td>0.0</td>\n",
       "      <td>1.500</td>\n",
       "    </tr>\n",
       "    <tr>\n",
       "      <th>37313278</th>\n",
       "      <td>WSTE1</td>\n",
       "      <td>1997-12-31</td>\n",
       "      <td>1.250</td>\n",
       "      <td>1.625</td>\n",
       "      <td>1.250</td>\n",
       "      <td>1.500</td>\n",
       "      <td>583066.0</td>\n",
       "      <td>0.0</td>\n",
       "      <td>1.500</td>\n",
       "    </tr>\n",
       "    <tr>\n",
       "      <th>37313279</th>\n",
       "      <td>YPPN</td>\n",
       "      <td>2020-06-15</td>\n",
       "      <td>0.002</td>\n",
       "      <td>0.002</td>\n",
       "      <td>0.002</td>\n",
       "      <td>0.002</td>\n",
       "      <td>0.0</td>\n",
       "      <td>0.0</td>\n",
       "      <td>0.002</td>\n",
       "    </tr>\n",
       "    <tr>\n",
       "      <th>37313280</th>\n",
       "      <td>ZIMCF</td>\n",
       "      <td>2020-06-15</td>\n",
       "      <td>0.030</td>\n",
       "      <td>0.030</td>\n",
       "      <td>0.030</td>\n",
       "      <td>0.030</td>\n",
       "      <td>0.0</td>\n",
       "      <td>0.0</td>\n",
       "      <td>0.030</td>\n",
       "    </tr>\n",
       "  </tbody>\n",
       "</table>\n",
       "<p>37313280 rows × 9 columns</p>\n",
       "</div>"
      ],
      "text/plain": [
       "         stock_id       date    open    high     low   close     volume  \\\n",
       "1               A 2019-11-29  80.960  81.240  80.470  80.770   835780.0   \n",
       "2              AA 2019-11-29  20.430  20.470  20.158  20.350  1223254.0   \n",
       "3            AACG 2019-11-29   1.813   1.813   1.805   1.805      963.0   \n",
       "4           AAGIY 2019-11-29  40.580  40.580  40.010  40.020   163700.0   \n",
       "5             AAL 2019-11-29  28.920  29.265  28.660  28.740  2970843.0   \n",
       "...           ...        ...     ...     ...     ...     ...        ...   \n",
       "37313276    WSTE1 1998-01-05   1.500   1.500   1.375   1.438   191168.0   \n",
       "37313277    WSTE1 1998-01-02   1.625   1.625   1.500   1.500    98920.0   \n",
       "37313278    WSTE1 1997-12-31   1.250   1.625   1.250   1.500   583066.0   \n",
       "37313279     YPPN 2020-06-15   0.002   0.002   0.002   0.002        0.0   \n",
       "37313280    ZIMCF 2020-06-15   0.030   0.030   0.030   0.030        0.0   \n",
       "\n",
       "          dividends  closeunadj  \n",
       "1               0.0      80.770  \n",
       "2               0.0      20.350  \n",
       "3               0.0       1.805  \n",
       "4               0.0      40.020  \n",
       "5               0.0      28.740  \n",
       "...             ...         ...  \n",
       "37313276        0.0       1.438  \n",
       "37313277        0.0       1.500  \n",
       "37313278        0.0       1.500  \n",
       "37313279        0.0       0.002  \n",
       "37313280        0.0       0.030  \n",
       "\n",
       "[37313280 rows x 9 columns]"
      ]
     },
     "execution_count": 3,
     "metadata": {},
     "output_type": "execute_result"
    }
   ],
   "source": [
    "# 美股價格\n",
    "df2=pd.read_csv('/Users/benbilly3/us_stocks_example_sourcecode/us_stock_rnd_strategy/SHARADAR_SEP_5659e77b6ffc1f36d023b6a3987da31c.csv')\n",
    "df2=df2.drop(columns='lastupdated')\n",
    "df2=df2.rename(columns={\"ticker\": \"stock_id\"})\n",
    "df2['date']=pd.to_datetime(df2['date'])\n",
    "df2=df2.drop_duplicates(['stock_id','date'], keep='first')\n",
    "df2.index=[i for i in range(1,len(df2)+1)]\n",
    "df2\n"
   ]
  },
  {
   "cell_type": "code",
   "execution_count": 5,
   "metadata": {},
   "outputs": [
    {
     "data": {
      "text/html": [
       "<div>\n",
       "<style scoped>\n",
       "    .dataframe tbody tr th:only-of-type {\n",
       "        vertical-align: middle;\n",
       "    }\n",
       "\n",
       "    .dataframe tbody tr th {\n",
       "        vertical-align: top;\n",
       "    }\n",
       "\n",
       "    .dataframe thead th {\n",
       "        text-align: right;\n",
       "    }\n",
       "</style>\n",
       "<table border=\"1\" class=\"dataframe\">\n",
       "  <thead>\n",
       "    <tr style=\"text-align: right;\">\n",
       "      <th></th>\n",
       "      <th>stock_id</th>\n",
       "      <th>date</th>\n",
       "      <th>open</th>\n",
       "      <th>high</th>\n",
       "      <th>low</th>\n",
       "      <th>close</th>\n",
       "      <th>volume</th>\n",
       "      <th>dividends</th>\n",
       "      <th>closeunadj</th>\n",
       "    </tr>\n",
       "  </thead>\n",
       "  <tbody>\n",
       "    <tr>\n",
       "      <th>32057137</th>\n",
       "      <td>A</td>\n",
       "      <td>1999-11-18</td>\n",
       "      <td>45.50</td>\n",
       "      <td>50.00</td>\n",
       "      <td>40.00</td>\n",
       "      <td>44.00</td>\n",
       "      <td>44739900.0</td>\n",
       "      <td>0.0</td>\n",
       "      <td>44.00</td>\n",
       "    </tr>\n",
       "    <tr>\n",
       "      <th>32049421</th>\n",
       "      <td>A</td>\n",
       "      <td>1999-11-19</td>\n",
       "      <td>42.94</td>\n",
       "      <td>43.00</td>\n",
       "      <td>39.81</td>\n",
       "      <td>40.38</td>\n",
       "      <td>10897100.0</td>\n",
       "      <td>0.0</td>\n",
       "      <td>40.38</td>\n",
       "    </tr>\n",
       "    <tr>\n",
       "      <th>32041713</th>\n",
       "      <td>A</td>\n",
       "      <td>1999-11-22</td>\n",
       "      <td>41.31</td>\n",
       "      <td>44.00</td>\n",
       "      <td>40.06</td>\n",
       "      <td>44.00</td>\n",
       "      <td>4705200.0</td>\n",
       "      <td>0.0</td>\n",
       "      <td>44.00</td>\n",
       "    </tr>\n",
       "    <tr>\n",
       "      <th>32034001</th>\n",
       "      <td>A</td>\n",
       "      <td>1999-11-23</td>\n",
       "      <td>42.50</td>\n",
       "      <td>43.63</td>\n",
       "      <td>40.25</td>\n",
       "      <td>40.25</td>\n",
       "      <td>4274400.0</td>\n",
       "      <td>0.0</td>\n",
       "      <td>40.25</td>\n",
       "    </tr>\n",
       "    <tr>\n",
       "      <th>32026291</th>\n",
       "      <td>A</td>\n",
       "      <td>1999-11-24</td>\n",
       "      <td>40.13</td>\n",
       "      <td>41.94</td>\n",
       "      <td>40.00</td>\n",
       "      <td>41.06</td>\n",
       "      <td>3464400.0</td>\n",
       "      <td>0.0</td>\n",
       "      <td>41.06</td>\n",
       "    </tr>\n",
       "    <tr>\n",
       "      <th>...</th>\n",
       "      <td>...</td>\n",
       "      <td>...</td>\n",
       "      <td>...</td>\n",
       "      <td>...</td>\n",
       "      <td>...</td>\n",
       "      <td>...</td>\n",
       "      <td>...</td>\n",
       "      <td>...</td>\n",
       "      <td>...</td>\n",
       "    </tr>\n",
       "    <tr>\n",
       "      <th>10719989</th>\n",
       "      <td>ZZ</td>\n",
       "      <td>2013-03-08</td>\n",
       "      <td>2.21</td>\n",
       "      <td>2.21</td>\n",
       "      <td>2.20</td>\n",
       "      <td>2.20</td>\n",
       "      <td>6352900.0</td>\n",
       "      <td>0.0</td>\n",
       "      <td>2.20</td>\n",
       "    </tr>\n",
       "    <tr>\n",
       "      <th>10714145</th>\n",
       "      <td>ZZ</td>\n",
       "      <td>2013-03-11</td>\n",
       "      <td>2.20</td>\n",
       "      <td>2.21</td>\n",
       "      <td>2.20</td>\n",
       "      <td>2.20</td>\n",
       "      <td>407100.0</td>\n",
       "      <td>0.0</td>\n",
       "      <td>2.20</td>\n",
       "    </tr>\n",
       "    <tr>\n",
       "      <th>10708304</th>\n",
       "      <td>ZZ</td>\n",
       "      <td>2013-03-12</td>\n",
       "      <td>2.20</td>\n",
       "      <td>2.21</td>\n",
       "      <td>2.20</td>\n",
       "      <td>2.21</td>\n",
       "      <td>160000.0</td>\n",
       "      <td>0.0</td>\n",
       "      <td>2.21</td>\n",
       "    </tr>\n",
       "    <tr>\n",
       "      <th>10702464</th>\n",
       "      <td>ZZ</td>\n",
       "      <td>2013-03-13</td>\n",
       "      <td>2.20</td>\n",
       "      <td>2.21</td>\n",
       "      <td>2.20</td>\n",
       "      <td>2.21</td>\n",
       "      <td>308900.0</td>\n",
       "      <td>0.0</td>\n",
       "      <td>2.21</td>\n",
       "    </tr>\n",
       "    <tr>\n",
       "      <th>10696624</th>\n",
       "      <td>ZZ</td>\n",
       "      <td>2013-03-14</td>\n",
       "      <td>2.20</td>\n",
       "      <td>2.21</td>\n",
       "      <td>2.20</td>\n",
       "      <td>2.21</td>\n",
       "      <td>275000.0</td>\n",
       "      <td>0.0</td>\n",
       "      <td>2.21</td>\n",
       "    </tr>\n",
       "  </tbody>\n",
       "</table>\n",
       "<p>37313280 rows × 9 columns</p>\n",
       "</div>"
      ],
      "text/plain": [
       "         stock_id       date   open   high    low  close      volume  \\\n",
       "32057137        A 1999-11-18  45.50  50.00  40.00  44.00  44739900.0   \n",
       "32049421        A 1999-11-19  42.94  43.00  39.81  40.38  10897100.0   \n",
       "32041713        A 1999-11-22  41.31  44.00  40.06  44.00   4705200.0   \n",
       "32034001        A 1999-11-23  42.50  43.63  40.25  40.25   4274400.0   \n",
       "32026291        A 1999-11-24  40.13  41.94  40.00  41.06   3464400.0   \n",
       "...           ...        ...    ...    ...    ...    ...         ...   \n",
       "10719989       ZZ 2013-03-08   2.21   2.21   2.20   2.20   6352900.0   \n",
       "10714145       ZZ 2013-03-11   2.20   2.21   2.20   2.20    407100.0   \n",
       "10708304       ZZ 2013-03-12   2.20   2.21   2.20   2.21    160000.0   \n",
       "10702464       ZZ 2013-03-13   2.20   2.21   2.20   2.21    308900.0   \n",
       "10696624       ZZ 2013-03-14   2.20   2.21   2.20   2.21    275000.0   \n",
       "\n",
       "          dividends  closeunadj  \n",
       "32057137        0.0       44.00  \n",
       "32049421        0.0       40.38  \n",
       "32041713        0.0       44.00  \n",
       "32034001        0.0       40.25  \n",
       "32026291        0.0       41.06  \n",
       "...             ...         ...  \n",
       "10719989        0.0        2.20  \n",
       "10714145        0.0        2.20  \n",
       "10708304        0.0        2.21  \n",
       "10702464        0.0        2.21  \n",
       "10696624        0.0        2.21  \n",
       "\n",
       "[37313280 rows x 9 columns]"
      ]
     },
     "execution_count": 5,
     "metadata": {},
     "output_type": "execute_result"
    }
   ],
   "source": [
    "df2=df2.sort_values(['stock_id','date'])\n",
    "df2"
   ]
  },
  {
   "cell_type": "code",
   "execution_count": 4,
   "metadata": {},
   "outputs": [
    {
     "name": "stdout",
     "output_type": "stream",
     "text": [
      "0 100000\n",
      "100000 200000\n",
      "200000 300000\n",
      "300000 400000\n",
      "400000 500000\n",
      "500000 600000\n",
      "600000 700000\n",
      "700000 800000\n",
      "800000 900000\n",
      "900000 1000000\n",
      "1000000 1100000\n",
      "1100000 1200000\n",
      "1200000 1300000\n",
      "1300000 1400000\n",
      "1400000 1500000\n",
      "1500000 1600000\n",
      "1600000 1700000\n",
      "1700000 1800000\n",
      "1800000 1900000\n",
      "1900000 2000000\n",
      "2000000 2100000\n",
      "2100000 2200000\n",
      "2200000 2300000\n",
      "2300000 2400000\n",
      "2400000 2500000\n",
      "2500000 2600000\n",
      "2600000 2700000\n",
      "2700000 2800000\n",
      "2800000 2900000\n",
      "2900000 3000000\n",
      "3000000 3100000\n",
      "3100000 3200000\n",
      "3200000 3300000\n",
      "3300000 3400000\n",
      "3400000 3500000\n",
      "3500000 3600000\n",
      "3600000 3700000\n",
      "3700000 3800000\n",
      "3800000 3900000\n",
      "3900000 4000000\n",
      "4000000 4100000\n",
      "4100000 4200000\n",
      "4200000 4300000\n",
      "4300000 4400000\n",
      "4400000 4500000\n",
      "4500000 4600000\n",
      "4600000 4700000\n",
      "4700000 4800000\n",
      "4800000 4900000\n",
      "4900000 5000000\n",
      "5000000 5100000\n",
      "5100000 5200000\n",
      "5200000 5300000\n",
      "5300000 5400000\n",
      "5400000 5500000\n",
      "5500000 5600000\n",
      "5600000 5700000\n",
      "5700000 5800000\n",
      "5800000 5900000\n",
      "5900000 6000000\n",
      "6000000 6100000\n",
      "6100000 6200000\n",
      "6200000 6300000\n",
      "6300000 6400000\n",
      "6400000 6500000\n",
      "6500000 6600000\n",
      "6600000 6700000\n",
      "6700000 6800000\n",
      "6800000 6900000\n",
      "6900000 7000000\n",
      "7000000 7100000\n",
      "7100000 7200000\n",
      "7200000 7300000\n",
      "7300000 7400000\n",
      "7400000 7500000\n",
      "7500000 7600000\n",
      "7600000 7700000\n",
      "7700000 7800000\n",
      "7800000 7900000\n",
      "7900000 8000000\n",
      "8000000 8100000\n",
      "8100000 8200000\n",
      "8200000 8300000\n",
      "8300000 8400000\n",
      "8400000 8500000\n",
      "8500000 8600000\n",
      "8600000 8700000\n",
      "8700000 8800000\n",
      "8800000 8900000\n",
      "8900000 9000000\n",
      "9000000 9100000\n",
      "9100000 9200000\n",
      "9200000 9300000\n",
      "9300000 9400000\n",
      "9400000 9500000\n",
      "9500000 9600000\n",
      "9600000 9700000\n",
      "9700000 9800000\n",
      "9800000 9900000\n",
      "9900000 10000000\n",
      "10000000 10100000\n",
      "10100000 10200000\n",
      "10200000 10300000\n",
      "10300000 10400000\n",
      "10400000 10500000\n",
      "10500000 10600000\n",
      "10600000 10700000\n",
      "10700000 10800000\n",
      "10800000 10900000\n",
      "10900000 11000000\n",
      "11000000 11100000\n",
      "11100000 11200000\n",
      "11200000 11300000\n",
      "11300000 11400000\n",
      "11400000 11500000\n",
      "11500000 11600000\n",
      "11600000 11700000\n",
      "11700000 11800000\n",
      "11800000 11900000\n",
      "11900000 12000000\n",
      "12000000 12100000\n",
      "12100000 12200000\n",
      "12200000 12300000\n",
      "12300000 12400000\n",
      "12400000 12500000\n",
      "12500000 12600000\n",
      "12600000 12700000\n",
      "12700000 12800000\n",
      "12800000 12900000\n",
      "12900000 13000000\n",
      "13000000 13100000\n",
      "13100000 13200000\n",
      "13200000 13300000\n",
      "13300000 13400000\n",
      "13400000 13500000\n",
      "13500000 13600000\n",
      "13600000 13700000\n",
      "13700000 13800000\n",
      "13800000 13900000\n",
      "13900000 14000000\n",
      "14000000 14100000\n",
      "14100000 14200000\n",
      "14200000 14300000\n",
      "14300000 14400000\n",
      "14400000 14500000\n",
      "14500000 14600000\n",
      "14600000 14700000\n",
      "14700000 14800000\n",
      "14800000 14900000\n",
      "14900000 15000000\n",
      "15000000 15100000\n",
      "15100000 15200000\n",
      "15200000 15300000\n",
      "15300000 15400000\n",
      "15400000 15500000\n",
      "15500000 15600000\n",
      "15600000 15700000\n",
      "15700000 15800000\n",
      "15800000 15900000\n",
      "15900000 16000000\n",
      "16000000 16100000\n",
      "16100000 16200000\n",
      "16200000 16300000\n",
      "16300000 16400000\n",
      "16400000 16500000\n",
      "16500000 16600000\n",
      "16600000 16700000\n",
      "16700000 16800000\n",
      "16800000 16900000\n",
      "16900000 17000000\n",
      "17000000 17100000\n",
      "17100000 17200000\n",
      "17200000 17300000\n",
      "17300000 17400000\n",
      "17400000 17500000\n",
      "17500000 17600000\n",
      "17600000 17700000\n",
      "17700000 17800000\n",
      "17800000 17900000\n",
      "17900000 18000000\n",
      "18000000 18100000\n",
      "18100000 18200000\n",
      "18200000 18300000\n",
      "18300000 18400000\n",
      "18400000 18500000\n",
      "18500000 18600000\n",
      "18600000 18700000\n",
      "18700000 18800000\n",
      "18800000 18900000\n",
      "18900000 19000000\n",
      "19000000 19100000\n",
      "19100000 19200000\n",
      "19200000 19300000\n",
      "19300000 19400000\n",
      "19400000 19500000\n",
      "19500000 19600000\n",
      "19600000 19700000\n",
      "19700000 19800000\n",
      "19800000 19900000\n",
      "19900000 20000000\n",
      "20000000 20100000\n",
      "20100000 20200000\n",
      "20200000 20300000\n",
      "20300000 20400000\n",
      "20400000 20500000\n",
      "20500000 20600000\n",
      "20600000 20700000\n",
      "20700000 20800000\n",
      "20800000 20900000\n",
      "20900000 21000000\n",
      "21000000 21100000\n",
      "21100000 21200000\n",
      "21200000 21300000\n",
      "21300000 21400000\n",
      "21400000 21500000\n",
      "21500000 21600000\n",
      "21600000 21700000\n",
      "21700000 21800000\n",
      "21800000 21900000\n",
      "21900000 22000000\n",
      "22000000 22100000\n",
      "22100000 22200000\n",
      "22200000 22300000\n",
      "22300000 22400000\n",
      "22400000 22500000\n",
      "22500000 22600000\n",
      "22600000 22700000\n",
      "22700000 22800000\n",
      "22800000 22900000\n",
      "22900000 23000000\n",
      "23000000 23100000\n",
      "23100000 23200000\n",
      "23200000 23300000\n",
      "23300000 23400000\n",
      "23400000 23500000\n",
      "23500000 23600000\n",
      "23600000 23700000\n",
      "23700000 23800000\n",
      "23800000 23900000\n",
      "23900000 24000000\n",
      "24000000 24100000\n",
      "24100000 24200000\n",
      "24200000 24300000\n",
      "24300000 24400000\n",
      "24400000 24500000\n",
      "24500000 24600000\n",
      "24600000 24700000\n",
      "24700000 24800000\n",
      "24800000 24900000\n",
      "24900000 25000000\n",
      "25000000 25100000\n",
      "25100000 25200000\n",
      "25200000 25300000\n",
      "25300000 25400000\n",
      "25400000 25500000\n",
      "25500000 25600000\n",
      "25600000 25700000\n",
      "25700000 25800000\n",
      "25800000 25900000\n",
      "25900000 26000000\n",
      "26000000 26100000\n",
      "26100000 26200000\n",
      "26200000 26300000\n",
      "26300000 26400000\n",
      "26400000 26500000\n",
      "26500000 26600000\n",
      "26600000 26700000\n",
      "26700000 26800000\n",
      "26800000 26900000\n",
      "26900000 27000000\n",
      "27000000 27100000\n",
      "27100000 27200000\n",
      "27200000 27300000\n",
      "27300000 27400000\n",
      "27400000 27500000\n",
      "27500000 27600000\n",
      "27600000 27700000\n",
      "27700000 27800000\n",
      "27800000 27900000\n",
      "27900000 28000000\n",
      "28000000 28100000\n",
      "28100000 28200000\n",
      "28200000 28300000\n",
      "28300000 28400000\n",
      "28400000 28500000\n",
      "28500000 28600000\n",
      "28600000 28700000\n",
      "28700000 28800000\n",
      "28800000 28900000\n",
      "28900000 29000000\n",
      "29000000 29100000\n",
      "29100000 29200000\n",
      "29200000 29300000\n",
      "29300000 29400000\n",
      "29400000 29500000\n",
      "29500000 29600000\n",
      "29600000 29700000\n",
      "29700000 29800000\n",
      "29800000 29900000\n",
      "29900000 30000000\n",
      "30000000 30100000\n",
      "30100000 30200000\n",
      "30200000 30300000\n",
      "30300000 30400000\n",
      "30400000 30500000\n",
      "30500000 30600000\n",
      "30600000 30700000\n",
      "30700000 30800000\n",
      "30800000 30900000\n",
      "30900000 31000000\n",
      "31000000 31100000\n",
      "31100000 31200000\n",
      "31200000 31300000\n",
      "31300000 31400000\n",
      "31400000 31500000\n",
      "31500000 31600000\n",
      "31600000 31700000\n",
      "31700000 31800000\n",
      "31800000 31900000\n",
      "31900000 32000000\n",
      "32000000 32100000\n",
      "32100000 32200000\n",
      "32200000 32300000\n",
      "32300000 32400000\n",
      "32400000 32500000\n",
      "32500000 32600000\n",
      "32600000 32700000\n",
      "32700000 32800000\n",
      "32800000 32900000\n",
      "32900000 33000000\n",
      "33000000 33100000\n",
      "33100000 33200000\n",
      "33200000 33300000\n",
      "33300000 33400000\n",
      "33400000 33500000\n",
      "33500000 33600000\n",
      "33600000 33700000\n",
      "33700000 33800000\n",
      "33800000 33900000\n",
      "33900000 34000000\n",
      "34000000 34100000\n",
      "34100000 34200000\n",
      "34200000 34300000\n",
      "34300000 34400000\n",
      "34400000 34500000\n",
      "34500000 34600000\n",
      "34600000 34700000\n",
      "34700000 34800000\n",
      "34800000 34900000\n",
      "34900000 35000000\n",
      "35000000 35100000\n",
      "35100000 35200000\n",
      "35200000 35300000\n",
      "35300000 35400000\n",
      "35400000 35500000\n",
      "35500000 35600000\n",
      "35600000 35700000\n",
      "35700000 35800000\n",
      "35800000 35900000\n",
      "35900000 36000000\n",
      "36000000 36100000\n",
      "36100000 36200000\n",
      "36200000 36300000\n",
      "36300000 36400000\n",
      "36400000 36500000\n",
      "36500000 36600000\n",
      "36600000 36700000\n",
      "36700000 36800000\n",
      "36800000 36900000\n",
      "36900000 37000000\n",
      "37000000 37100000\n",
      "37100000 37200000\n",
      "37200000 37300000\n",
      "37300000 37400000\n"
     ]
    }
   ],
   "source": [
    "total=len(df2)\n",
    "num_list=[i for i in range(0,37413280,100000)]\n",
    "for s,e in zip(num_list[:-1],num_list[1:]):\n",
    "    print(s,e)\n"
   ]
  },
  {
   "cell_type": "code",
   "execution_count": 6,
   "metadata": {},
   "outputs": [
    {
     "name": "stdout",
     "output_type": "stream",
     "text": [
      "1.0 0 100000\n"
     ]
    },
    {
     "name": "stderr",
     "output_type": "stream",
     "text": [
      "INFO:etl.import_sql:Finish!<class 'us_data.models.SharadarSep'> date:from 1997-12-31 to 2020-06-15 bulk_create:100000\n",
      "INFO:etl.import_sql:Finish!<class 'us_data.models.SharadarSep'> date:from 1997-12-31 to 2020-06-15 bulk_update:0\n"
     ]
    },
    {
     "name": "stdout",
     "output_type": "stream",
     "text": [
      "2.0 100000 200000\n"
     ]
    },
    {
     "name": "stderr",
     "output_type": "stream",
     "text": [
      "INFO:etl.import_sql:Finish!<class 'us_data.models.SharadarSep'> date:from 1997-12-31 to 2020-06-15 bulk_create:100000\n",
      "INFO:etl.import_sql:Finish!<class 'us_data.models.SharadarSep'> date:from 1997-12-31 to 2020-06-15 bulk_update:0\n"
     ]
    },
    {
     "name": "stdout",
     "output_type": "stream",
     "text": [
      "3.0 200000 300000\n"
     ]
    },
    {
     "name": "stderr",
     "output_type": "stream",
     "text": [
      "INFO:etl.import_sql:Finish!<class 'us_data.models.SharadarSep'> date:from 1997-12-31 to 2020-06-15 bulk_create:100000\n",
      "INFO:etl.import_sql:Finish!<class 'us_data.models.SharadarSep'> date:from 1997-12-31 to 2020-06-15 bulk_update:0\n"
     ]
    },
    {
     "name": "stdout",
     "output_type": "stream",
     "text": [
      "4.0 300000 400000\n"
     ]
    },
    {
     "name": "stderr",
     "output_type": "stream",
     "text": [
      "INFO:etl.import_sql:Finish!<class 'us_data.models.SharadarSep'> date:from 1997-12-31 to 2020-06-15 bulk_create:100000\n",
      "INFO:etl.import_sql:Finish!<class 'us_data.models.SharadarSep'> date:from 1997-12-31 to 2020-06-15 bulk_update:0\n"
     ]
    },
    {
     "name": "stdout",
     "output_type": "stream",
     "text": [
      "5.0 400000 500000\n"
     ]
    },
    {
     "name": "stderr",
     "output_type": "stream",
     "text": [
      "INFO:etl.import_sql:Finish!<class 'us_data.models.SharadarSep'> date:from 1997-12-31 to 2020-06-15 bulk_create:100000\n",
      "INFO:etl.import_sql:Finish!<class 'us_data.models.SharadarSep'> date:from 1997-12-31 to 2020-06-15 bulk_update:0\n"
     ]
    },
    {
     "name": "stdout",
     "output_type": "stream",
     "text": [
      "6.0 500000 600000\n"
     ]
    },
    {
     "name": "stderr",
     "output_type": "stream",
     "text": [
      "INFO:etl.import_sql:Finish!<class 'us_data.models.SharadarSep'> date:from 1997-12-31 to 2020-06-15 bulk_create:100000\n",
      "INFO:etl.import_sql:Finish!<class 'us_data.models.SharadarSep'> date:from 1997-12-31 to 2020-06-15 bulk_update:0\n"
     ]
    },
    {
     "name": "stdout",
     "output_type": "stream",
     "text": [
      "7.0 600000 700000\n"
     ]
    },
    {
     "name": "stderr",
     "output_type": "stream",
     "text": [
      "INFO:etl.import_sql:Finish!<class 'us_data.models.SharadarSep'> date:from 1997-12-31 to 2020-06-15 bulk_create:100000\n",
      "INFO:etl.import_sql:Finish!<class 'us_data.models.SharadarSep'> date:from 1997-12-31 to 2020-06-15 bulk_update:0\n"
     ]
    },
    {
     "name": "stdout",
     "output_type": "stream",
     "text": [
      "8.0 700000 800000\n"
     ]
    },
    {
     "name": "stderr",
     "output_type": "stream",
     "text": [
      "INFO:etl.import_sql:Finish!<class 'us_data.models.SharadarSep'> date:from 1997-12-31 to 2020-06-15 bulk_create:100000\n",
      "INFO:etl.import_sql:Finish!<class 'us_data.models.SharadarSep'> date:from 1997-12-31 to 2020-06-15 bulk_update:0\n"
     ]
    },
    {
     "name": "stdout",
     "output_type": "stream",
     "text": [
      "9.0 800000 900000\n"
     ]
    },
    {
     "name": "stderr",
     "output_type": "stream",
     "text": [
      "INFO:etl.import_sql:Finish!<class 'us_data.models.SharadarSep'> date:from 1997-12-31 to 2020-06-15 bulk_create:100000\n",
      "INFO:etl.import_sql:Finish!<class 'us_data.models.SharadarSep'> date:from 1997-12-31 to 2020-06-15 bulk_update:0\n"
     ]
    },
    {
     "name": "stdout",
     "output_type": "stream",
     "text": [
      "10.0 900000 1000000\n"
     ]
    },
    {
     "name": "stderr",
     "output_type": "stream",
     "text": [
      "INFO:etl.import_sql:Finish!<class 'us_data.models.SharadarSep'> date:from 1997-12-31 to 2020-06-15 bulk_create:100000\n",
      "INFO:etl.import_sql:Finish!<class 'us_data.models.SharadarSep'> date:from 1997-12-31 to 2020-06-15 bulk_update:0\n"
     ]
    },
    {
     "name": "stdout",
     "output_type": "stream",
     "text": [
      "11.0 1000000 1100000\n"
     ]
    },
    {
     "name": "stderr",
     "output_type": "stream",
     "text": [
      "INFO:etl.import_sql:Finish!<class 'us_data.models.SharadarSep'> date:from 1997-12-31 to 2020-06-15 bulk_create:100000\n",
      "INFO:etl.import_sql:Finish!<class 'us_data.models.SharadarSep'> date:from 1997-12-31 to 2020-06-15 bulk_update:0\n"
     ]
    },
    {
     "name": "stdout",
     "output_type": "stream",
     "text": [
      "12.0 1100000 1200000\n"
     ]
    },
    {
     "name": "stderr",
     "output_type": "stream",
     "text": [
      "INFO:etl.import_sql:Finish!<class 'us_data.models.SharadarSep'> date:from 1997-12-31 to 2020-06-15 bulk_create:100000\n",
      "INFO:etl.import_sql:Finish!<class 'us_data.models.SharadarSep'> date:from 1997-12-31 to 2020-06-15 bulk_update:0\n"
     ]
    },
    {
     "name": "stdout",
     "output_type": "stream",
     "text": [
      "13.0 1200000 1300000\n"
     ]
    },
    {
     "name": "stderr",
     "output_type": "stream",
     "text": [
      "INFO:etl.import_sql:Finish!<class 'us_data.models.SharadarSep'> date:from 1997-12-31 to 2020-06-15 bulk_create:100000\n",
      "INFO:etl.import_sql:Finish!<class 'us_data.models.SharadarSep'> date:from 1997-12-31 to 2020-06-15 bulk_update:0\n"
     ]
    },
    {
     "name": "stdout",
     "output_type": "stream",
     "text": [
      "14.0 1300000 1400000\n"
     ]
    },
    {
     "name": "stderr",
     "output_type": "stream",
     "text": [
      "INFO:etl.import_sql:Finish!<class 'us_data.models.SharadarSep'> date:from 1997-12-31 to 2020-06-15 bulk_create:100000\n",
      "INFO:etl.import_sql:Finish!<class 'us_data.models.SharadarSep'> date:from 1997-12-31 to 2020-06-15 bulk_update:0\n"
     ]
    },
    {
     "name": "stdout",
     "output_type": "stream",
     "text": [
      "15.0 1400000 1500000\n"
     ]
    },
    {
     "name": "stderr",
     "output_type": "stream",
     "text": [
      "INFO:etl.import_sql:Finish!<class 'us_data.models.SharadarSep'> date:from 1997-12-31 to 2020-06-15 bulk_create:100000\n",
      "INFO:etl.import_sql:Finish!<class 'us_data.models.SharadarSep'> date:from 1997-12-31 to 2020-06-15 bulk_update:0\n"
     ]
    },
    {
     "name": "stdout",
     "output_type": "stream",
     "text": [
      "16.0 1500000 1600000\n"
     ]
    },
    {
     "name": "stderr",
     "output_type": "stream",
     "text": [
      "INFO:etl.import_sql:Finish!<class 'us_data.models.SharadarSep'> date:from 1997-12-31 to 2020-06-15 bulk_create:100000\n",
      "INFO:etl.import_sql:Finish!<class 'us_data.models.SharadarSep'> date:from 1997-12-31 to 2020-06-15 bulk_update:0\n"
     ]
    },
    {
     "name": "stdout",
     "output_type": "stream",
     "text": [
      "17.0 1600000 1700000\n"
     ]
    },
    {
     "name": "stderr",
     "output_type": "stream",
     "text": [
      "INFO:etl.import_sql:Finish!<class 'us_data.models.SharadarSep'> date:from 1997-12-31 to 2020-06-15 bulk_create:100000\n",
      "INFO:etl.import_sql:Finish!<class 'us_data.models.SharadarSep'> date:from 1997-12-31 to 2020-06-15 bulk_update:0\n"
     ]
    },
    {
     "name": "stdout",
     "output_type": "stream",
     "text": [
      "18.0 1700000 1800000\n"
     ]
    },
    {
     "name": "stderr",
     "output_type": "stream",
     "text": [
      "INFO:etl.import_sql:Finish!<class 'us_data.models.SharadarSep'> date:from 1997-12-31 to 2020-06-15 bulk_create:100000\n",
      "INFO:etl.import_sql:Finish!<class 'us_data.models.SharadarSep'> date:from 1997-12-31 to 2020-06-15 bulk_update:0\n"
     ]
    },
    {
     "name": "stdout",
     "output_type": "stream",
     "text": [
      "19.0 1800000 1900000\n"
     ]
    },
    {
     "name": "stderr",
     "output_type": "stream",
     "text": [
      "INFO:etl.import_sql:Finish!<class 'us_data.models.SharadarSep'> date:from 1997-12-31 to 2020-06-15 bulk_create:100000\n",
      "INFO:etl.import_sql:Finish!<class 'us_data.models.SharadarSep'> date:from 1997-12-31 to 2020-06-15 bulk_update:0\n"
     ]
    },
    {
     "name": "stdout",
     "output_type": "stream",
     "text": [
      "20.0 1900000 2000000\n"
     ]
    },
    {
     "name": "stderr",
     "output_type": "stream",
     "text": [
      "INFO:etl.import_sql:Finish!<class 'us_data.models.SharadarSep'> date:from 1997-12-31 to 2020-06-15 bulk_create:100000\n",
      "INFO:etl.import_sql:Finish!<class 'us_data.models.SharadarSep'> date:from 1997-12-31 to 2020-06-15 bulk_update:0\n"
     ]
    },
    {
     "name": "stdout",
     "output_type": "stream",
     "text": [
      "21.0 2000000 2100000\n"
     ]
    },
    {
     "name": "stderr",
     "output_type": "stream",
     "text": [
      "INFO:etl.import_sql:Finish!<class 'us_data.models.SharadarSep'> date:from 1997-12-31 to 2020-06-15 bulk_create:100000\n",
      "INFO:etl.import_sql:Finish!<class 'us_data.models.SharadarSep'> date:from 1997-12-31 to 2020-06-15 bulk_update:0\n"
     ]
    },
    {
     "name": "stdout",
     "output_type": "stream",
     "text": [
      "22.0 2100000 2200000\n"
     ]
    },
    {
     "name": "stderr",
     "output_type": "stream",
     "text": [
      "INFO:etl.import_sql:Finish!<class 'us_data.models.SharadarSep'> date:from 1997-12-31 to 2020-06-15 bulk_create:100000\n",
      "INFO:etl.import_sql:Finish!<class 'us_data.models.SharadarSep'> date:from 1997-12-31 to 2020-06-15 bulk_update:0\n"
     ]
    },
    {
     "name": "stdout",
     "output_type": "stream",
     "text": [
      "23.0 2200000 2300000\n"
     ]
    },
    {
     "name": "stderr",
     "output_type": "stream",
     "text": [
      "INFO:etl.import_sql:Finish!<class 'us_data.models.SharadarSep'> date:from 1997-12-31 to 2020-06-15 bulk_create:100000\n",
      "INFO:etl.import_sql:Finish!<class 'us_data.models.SharadarSep'> date:from 1997-12-31 to 2020-06-15 bulk_update:0\n"
     ]
    },
    {
     "name": "stdout",
     "output_type": "stream",
     "text": [
      "24.0 2300000 2400000\n"
     ]
    },
    {
     "name": "stderr",
     "output_type": "stream",
     "text": [
      "INFO:etl.import_sql:Finish!<class 'us_data.models.SharadarSep'> date:from 1997-12-31 to 2020-06-15 bulk_create:100000\n",
      "INFO:etl.import_sql:Finish!<class 'us_data.models.SharadarSep'> date:from 1997-12-31 to 2020-06-15 bulk_update:0\n"
     ]
    },
    {
     "name": "stdout",
     "output_type": "stream",
     "text": [
      "25.0 2400000 2500000\n"
     ]
    },
    {
     "name": "stderr",
     "output_type": "stream",
     "text": [
      "INFO:etl.import_sql:Finish!<class 'us_data.models.SharadarSep'> date:from 1997-12-31 to 2020-06-15 bulk_create:100000\n",
      "INFO:etl.import_sql:Finish!<class 'us_data.models.SharadarSep'> date:from 1997-12-31 to 2020-06-15 bulk_update:0\n"
     ]
    },
    {
     "name": "stdout",
     "output_type": "stream",
     "text": [
      "26.0 2500000 2600000\n"
     ]
    },
    {
     "name": "stderr",
     "output_type": "stream",
     "text": [
      "INFO:etl.import_sql:Finish!<class 'us_data.models.SharadarSep'> date:from 1997-12-31 to 2020-06-15 bulk_create:100000\n",
      "INFO:etl.import_sql:Finish!<class 'us_data.models.SharadarSep'> date:from 1997-12-31 to 2020-06-15 bulk_update:0\n"
     ]
    },
    {
     "name": "stdout",
     "output_type": "stream",
     "text": [
      "27.0 2600000 2700000\n"
     ]
    },
    {
     "name": "stderr",
     "output_type": "stream",
     "text": [
      "INFO:etl.import_sql:Finish!<class 'us_data.models.SharadarSep'> date:from 1997-12-31 to 2020-06-15 bulk_create:100000\n",
      "INFO:etl.import_sql:Finish!<class 'us_data.models.SharadarSep'> date:from 1997-12-31 to 2020-06-15 bulk_update:0\n"
     ]
    },
    {
     "name": "stdout",
     "output_type": "stream",
     "text": [
      "28.0 2700000 2800000\n"
     ]
    },
    {
     "name": "stderr",
     "output_type": "stream",
     "text": [
      "INFO:etl.import_sql:Finish!<class 'us_data.models.SharadarSep'> date:from 1997-12-31 to 2020-06-15 bulk_create:100000\n",
      "INFO:etl.import_sql:Finish!<class 'us_data.models.SharadarSep'> date:from 1997-12-31 to 2020-06-15 bulk_update:0\n"
     ]
    },
    {
     "name": "stdout",
     "output_type": "stream",
     "text": [
      "29.0 2800000 2900000\n"
     ]
    },
    {
     "name": "stderr",
     "output_type": "stream",
     "text": [
      "INFO:etl.import_sql:Finish!<class 'us_data.models.SharadarSep'> date:from 1997-12-31 to 2020-06-15 bulk_create:100000\n",
      "INFO:etl.import_sql:Finish!<class 'us_data.models.SharadarSep'> date:from 1997-12-31 to 2020-06-15 bulk_update:0\n"
     ]
    },
    {
     "name": "stdout",
     "output_type": "stream",
     "text": [
      "30.0 2900000 3000000\n"
     ]
    },
    {
     "name": "stderr",
     "output_type": "stream",
     "text": [
      "INFO:etl.import_sql:Finish!<class 'us_data.models.SharadarSep'> date:from 1997-12-31 to 2020-06-15 bulk_create:100000\n",
      "INFO:etl.import_sql:Finish!<class 'us_data.models.SharadarSep'> date:from 1997-12-31 to 2020-06-15 bulk_update:0\n"
     ]
    },
    {
     "name": "stdout",
     "output_type": "stream",
     "text": [
      "31.0 3000000 3100000\n"
     ]
    },
    {
     "name": "stderr",
     "output_type": "stream",
     "text": [
      "INFO:etl.import_sql:Finish!<class 'us_data.models.SharadarSep'> date:from 1997-12-31 to 2020-06-15 bulk_create:100000\n",
      "INFO:etl.import_sql:Finish!<class 'us_data.models.SharadarSep'> date:from 1997-12-31 to 2020-06-15 bulk_update:0\n"
     ]
    },
    {
     "name": "stdout",
     "output_type": "stream",
     "text": [
      "32.0 3100000 3200000\n"
     ]
    },
    {
     "name": "stderr",
     "output_type": "stream",
     "text": [
      "INFO:etl.import_sql:Finish!<class 'us_data.models.SharadarSep'> date:from 1997-12-31 to 2020-06-15 bulk_create:100000\n",
      "INFO:etl.import_sql:Finish!<class 'us_data.models.SharadarSep'> date:from 1997-12-31 to 2020-06-15 bulk_update:0\n"
     ]
    },
    {
     "name": "stdout",
     "output_type": "stream",
     "text": [
      "33.0 3200000 3300000\n"
     ]
    },
    {
     "name": "stderr",
     "output_type": "stream",
     "text": [
      "INFO:etl.import_sql:Finish!<class 'us_data.models.SharadarSep'> date:from 1997-12-31 to 2020-06-15 bulk_create:100000\n",
      "INFO:etl.import_sql:Finish!<class 'us_data.models.SharadarSep'> date:from 1997-12-31 to 2020-06-15 bulk_update:0\n"
     ]
    },
    {
     "name": "stdout",
     "output_type": "stream",
     "text": [
      "34.0 3300000 3400000\n"
     ]
    },
    {
     "name": "stderr",
     "output_type": "stream",
     "text": [
      "INFO:etl.import_sql:Finish!<class 'us_data.models.SharadarSep'> date:from 1997-12-31 to 2020-06-15 bulk_create:100000\n",
      "INFO:etl.import_sql:Finish!<class 'us_data.models.SharadarSep'> date:from 1997-12-31 to 2020-06-15 bulk_update:0\n"
     ]
    },
    {
     "name": "stdout",
     "output_type": "stream",
     "text": [
      "35.0 3400000 3500000\n"
     ]
    },
    {
     "name": "stderr",
     "output_type": "stream",
     "text": [
      "INFO:etl.import_sql:Finish!<class 'us_data.models.SharadarSep'> date:from 1997-12-31 to 2020-06-15 bulk_create:100000\n",
      "INFO:etl.import_sql:Finish!<class 'us_data.models.SharadarSep'> date:from 1997-12-31 to 2020-06-15 bulk_update:0\n"
     ]
    },
    {
     "name": "stdout",
     "output_type": "stream",
     "text": [
      "36.0 3500000 3600000\n"
     ]
    },
    {
     "name": "stderr",
     "output_type": "stream",
     "text": [
      "INFO:etl.import_sql:Finish!<class 'us_data.models.SharadarSep'> date:from 1997-12-31 to 2020-06-15 bulk_create:100000\n",
      "INFO:etl.import_sql:Finish!<class 'us_data.models.SharadarSep'> date:from 1997-12-31 to 2020-06-15 bulk_update:0\n"
     ]
    },
    {
     "name": "stdout",
     "output_type": "stream",
     "text": [
      "37.0 3600000 3700000\n"
     ]
    },
    {
     "name": "stderr",
     "output_type": "stream",
     "text": [
      "INFO:etl.import_sql:Finish!<class 'us_data.models.SharadarSep'> date:from 1997-12-31 to 2020-06-15 bulk_create:100000\n",
      "INFO:etl.import_sql:Finish!<class 'us_data.models.SharadarSep'> date:from 1997-12-31 to 2020-06-15 bulk_update:0\n"
     ]
    },
    {
     "name": "stdout",
     "output_type": "stream",
     "text": [
      "38.0 3700000 3800000\n"
     ]
    },
    {
     "name": "stderr",
     "output_type": "stream",
     "text": [
      "INFO:etl.import_sql:Finish!<class 'us_data.models.SharadarSep'> date:from 1997-12-31 to 2020-06-15 bulk_create:100000\n",
      "INFO:etl.import_sql:Finish!<class 'us_data.models.SharadarSep'> date:from 1997-12-31 to 2020-06-15 bulk_update:0\n"
     ]
    },
    {
     "name": "stdout",
     "output_type": "stream",
     "text": [
      "39.0 3800000 3900000\n"
     ]
    },
    {
     "name": "stderr",
     "output_type": "stream",
     "text": [
      "INFO:etl.import_sql:Finish!<class 'us_data.models.SharadarSep'> date:from 1997-12-31 to 2020-06-15 bulk_create:100000\n",
      "INFO:etl.import_sql:Finish!<class 'us_data.models.SharadarSep'> date:from 1997-12-31 to 2020-06-15 bulk_update:0\n"
     ]
    },
    {
     "name": "stdout",
     "output_type": "stream",
     "text": [
      "40.0 3900000 4000000\n"
     ]
    },
    {
     "name": "stderr",
     "output_type": "stream",
     "text": [
      "INFO:etl.import_sql:Finish!<class 'us_data.models.SharadarSep'> date:from 1997-12-31 to 2020-06-15 bulk_create:100000\n",
      "INFO:etl.import_sql:Finish!<class 'us_data.models.SharadarSep'> date:from 1997-12-31 to 2020-06-15 bulk_update:0\n"
     ]
    },
    {
     "name": "stdout",
     "output_type": "stream",
     "text": [
      "41.0 4000000 4100000\n"
     ]
    },
    {
     "name": "stderr",
     "output_type": "stream",
     "text": [
      "INFO:etl.import_sql:Finish!<class 'us_data.models.SharadarSep'> date:from 1997-12-31 to 2020-06-15 bulk_create:100000\n",
      "INFO:etl.import_sql:Finish!<class 'us_data.models.SharadarSep'> date:from 1997-12-31 to 2020-06-15 bulk_update:0\n"
     ]
    },
    {
     "name": "stdout",
     "output_type": "stream",
     "text": [
      "42.0 4100000 4200000\n"
     ]
    },
    {
     "name": "stderr",
     "output_type": "stream",
     "text": [
      "INFO:etl.import_sql:Finish!<class 'us_data.models.SharadarSep'> date:from 1997-12-31 to 2020-06-15 bulk_create:100000\n",
      "INFO:etl.import_sql:Finish!<class 'us_data.models.SharadarSep'> date:from 1997-12-31 to 2020-06-15 bulk_update:0\n"
     ]
    },
    {
     "name": "stdout",
     "output_type": "stream",
     "text": [
      "43.0 4200000 4300000\n"
     ]
    },
    {
     "name": "stderr",
     "output_type": "stream",
     "text": [
      "INFO:etl.import_sql:Finish!<class 'us_data.models.SharadarSep'> date:from 1997-12-31 to 2020-06-15 bulk_create:100000\n",
      "INFO:etl.import_sql:Finish!<class 'us_data.models.SharadarSep'> date:from 1997-12-31 to 2020-06-15 bulk_update:0\n"
     ]
    },
    {
     "name": "stdout",
     "output_type": "stream",
     "text": [
      "44.0 4300000 4400000\n"
     ]
    },
    {
     "name": "stderr",
     "output_type": "stream",
     "text": [
      "INFO:etl.import_sql:Finish!<class 'us_data.models.SharadarSep'> date:from 1997-12-31 to 2020-06-15 bulk_create:100000\n",
      "INFO:etl.import_sql:Finish!<class 'us_data.models.SharadarSep'> date:from 1997-12-31 to 2020-06-15 bulk_update:0\n"
     ]
    },
    {
     "name": "stdout",
     "output_type": "stream",
     "text": [
      "45.0 4400000 4500000\n"
     ]
    },
    {
     "name": "stderr",
     "output_type": "stream",
     "text": [
      "INFO:etl.import_sql:Finish!<class 'us_data.models.SharadarSep'> date:from 1997-12-31 to 2020-06-15 bulk_create:100000\n",
      "INFO:etl.import_sql:Finish!<class 'us_data.models.SharadarSep'> date:from 1997-12-31 to 2020-06-15 bulk_update:0\n"
     ]
    },
    {
     "name": "stdout",
     "output_type": "stream",
     "text": [
      "46.0 4500000 4600000\n"
     ]
    },
    {
     "name": "stderr",
     "output_type": "stream",
     "text": [
      "INFO:etl.import_sql:Finish!<class 'us_data.models.SharadarSep'> date:from 1997-12-31 to 2020-06-15 bulk_create:100000\n",
      "INFO:etl.import_sql:Finish!<class 'us_data.models.SharadarSep'> date:from 1997-12-31 to 2020-06-15 bulk_update:0\n"
     ]
    },
    {
     "name": "stdout",
     "output_type": "stream",
     "text": [
      "47.0 4600000 4700000\n"
     ]
    },
    {
     "name": "stderr",
     "output_type": "stream",
     "text": [
      "INFO:etl.import_sql:Finish!<class 'us_data.models.SharadarSep'> date:from 1997-12-31 to 2020-06-15 bulk_create:100000\n",
      "INFO:etl.import_sql:Finish!<class 'us_data.models.SharadarSep'> date:from 1997-12-31 to 2020-06-15 bulk_update:0\n"
     ]
    },
    {
     "name": "stdout",
     "output_type": "stream",
     "text": [
      "48.0 4700000 4800000\n"
     ]
    },
    {
     "name": "stderr",
     "output_type": "stream",
     "text": [
      "INFO:etl.import_sql:Finish!<class 'us_data.models.SharadarSep'> date:from 1997-12-31 to 2020-06-15 bulk_create:100000\n",
      "INFO:etl.import_sql:Finish!<class 'us_data.models.SharadarSep'> date:from 1997-12-31 to 2020-06-15 bulk_update:0\n"
     ]
    },
    {
     "name": "stdout",
     "output_type": "stream",
     "text": [
      "49.0 4800000 4900000\n"
     ]
    },
    {
     "name": "stderr",
     "output_type": "stream",
     "text": [
      "INFO:etl.import_sql:Finish!<class 'us_data.models.SharadarSep'> date:from 1997-12-31 to 2020-06-15 bulk_create:100000\n",
      "INFO:etl.import_sql:Finish!<class 'us_data.models.SharadarSep'> date:from 1997-12-31 to 2020-06-15 bulk_update:0\n"
     ]
    },
    {
     "name": "stdout",
     "output_type": "stream",
     "text": [
      "50.0 4900000 5000000\n"
     ]
    },
    {
     "name": "stderr",
     "output_type": "stream",
     "text": [
      "INFO:etl.import_sql:Finish!<class 'us_data.models.SharadarSep'> date:from 1997-12-31 to 2020-06-15 bulk_create:100000\n",
      "INFO:etl.import_sql:Finish!<class 'us_data.models.SharadarSep'> date:from 1997-12-31 to 2020-06-15 bulk_update:0\n"
     ]
    },
    {
     "name": "stdout",
     "output_type": "stream",
     "text": [
      "51.0 5000000 5100000\n"
     ]
    },
    {
     "name": "stderr",
     "output_type": "stream",
     "text": [
      "INFO:etl.import_sql:Finish!<class 'us_data.models.SharadarSep'> date:from 1997-12-31 to 2020-06-15 bulk_create:100000\n",
      "INFO:etl.import_sql:Finish!<class 'us_data.models.SharadarSep'> date:from 1997-12-31 to 2020-06-15 bulk_update:0\n"
     ]
    },
    {
     "name": "stdout",
     "output_type": "stream",
     "text": [
      "52.0 5100000 5200000\n"
     ]
    },
    {
     "name": "stderr",
     "output_type": "stream",
     "text": [
      "INFO:etl.import_sql:Finish!<class 'us_data.models.SharadarSep'> date:from 1997-12-31 to 2020-06-15 bulk_create:100000\n",
      "INFO:etl.import_sql:Finish!<class 'us_data.models.SharadarSep'> date:from 1997-12-31 to 2020-06-15 bulk_update:0\n"
     ]
    },
    {
     "name": "stdout",
     "output_type": "stream",
     "text": [
      "53.0 5200000 5300000\n"
     ]
    },
    {
     "name": "stderr",
     "output_type": "stream",
     "text": [
      "INFO:etl.import_sql:Finish!<class 'us_data.models.SharadarSep'> date:from 1997-12-31 to 2020-06-15 bulk_create:100000\n",
      "INFO:etl.import_sql:Finish!<class 'us_data.models.SharadarSep'> date:from 1997-12-31 to 2020-06-15 bulk_update:0\n"
     ]
    },
    {
     "name": "stdout",
     "output_type": "stream",
     "text": [
      "54.0 5300000 5400000\n"
     ]
    },
    {
     "name": "stderr",
     "output_type": "stream",
     "text": [
      "INFO:etl.import_sql:Finish!<class 'us_data.models.SharadarSep'> date:from 1997-12-31 to 2020-06-15 bulk_create:100000\n",
      "INFO:etl.import_sql:Finish!<class 'us_data.models.SharadarSep'> date:from 1997-12-31 to 2020-06-15 bulk_update:0\n"
     ]
    },
    {
     "name": "stdout",
     "output_type": "stream",
     "text": [
      "55.0 5400000 5500000\n"
     ]
    },
    {
     "name": "stderr",
     "output_type": "stream",
     "text": [
      "INFO:etl.import_sql:Finish!<class 'us_data.models.SharadarSep'> date:from 1997-12-31 to 2020-06-15 bulk_create:100000\n",
      "INFO:etl.import_sql:Finish!<class 'us_data.models.SharadarSep'> date:from 1997-12-31 to 2020-06-15 bulk_update:0\n"
     ]
    },
    {
     "name": "stdout",
     "output_type": "stream",
     "text": [
      "56.0 5500000 5600000\n"
     ]
    },
    {
     "name": "stderr",
     "output_type": "stream",
     "text": [
      "INFO:etl.import_sql:Finish!<class 'us_data.models.SharadarSep'> date:from 1997-12-31 to 2020-06-15 bulk_create:100000\n",
      "INFO:etl.import_sql:Finish!<class 'us_data.models.SharadarSep'> date:from 1997-12-31 to 2020-06-15 bulk_update:0\n"
     ]
    },
    {
     "name": "stdout",
     "output_type": "stream",
     "text": [
      "57.0 5600000 5700000\n"
     ]
    },
    {
     "name": "stderr",
     "output_type": "stream",
     "text": [
      "INFO:etl.import_sql:Finish!<class 'us_data.models.SharadarSep'> date:from 1997-12-31 to 2020-06-15 bulk_create:100000\n",
      "INFO:etl.import_sql:Finish!<class 'us_data.models.SharadarSep'> date:from 1997-12-31 to 2020-06-15 bulk_update:0\n"
     ]
    },
    {
     "name": "stdout",
     "output_type": "stream",
     "text": [
      "58.0 5700000 5800000\n"
     ]
    },
    {
     "name": "stderr",
     "output_type": "stream",
     "text": [
      "INFO:etl.import_sql:Finish!<class 'us_data.models.SharadarSep'> date:from 1997-12-31 to 2020-06-15 bulk_create:100000\n",
      "INFO:etl.import_sql:Finish!<class 'us_data.models.SharadarSep'> date:from 1997-12-31 to 2020-06-15 bulk_update:0\n"
     ]
    },
    {
     "name": "stdout",
     "output_type": "stream",
     "text": [
      "59.0 5800000 5900000\n"
     ]
    },
    {
     "name": "stderr",
     "output_type": "stream",
     "text": [
      "INFO:etl.import_sql:Finish!<class 'us_data.models.SharadarSep'> date:from 1997-12-31 to 2020-06-15 bulk_create:100000\n",
      "INFO:etl.import_sql:Finish!<class 'us_data.models.SharadarSep'> date:from 1997-12-31 to 2020-06-15 bulk_update:0\n"
     ]
    },
    {
     "name": "stdout",
     "output_type": "stream",
     "text": [
      "60.0 5900000 6000000\n"
     ]
    },
    {
     "name": "stderr",
     "output_type": "stream",
     "text": [
      "INFO:etl.import_sql:Finish!<class 'us_data.models.SharadarSep'> date:from 1997-12-31 to 2020-06-15 bulk_create:100000\n",
      "INFO:etl.import_sql:Finish!<class 'us_data.models.SharadarSep'> date:from 1997-12-31 to 2020-06-15 bulk_update:0\n"
     ]
    },
    {
     "name": "stdout",
     "output_type": "stream",
     "text": [
      "61.0 6000000 6100000\n"
     ]
    },
    {
     "name": "stderr",
     "output_type": "stream",
     "text": [
      "INFO:etl.import_sql:Finish!<class 'us_data.models.SharadarSep'> date:from 1997-12-31 to 2020-06-15 bulk_create:100000\n",
      "INFO:etl.import_sql:Finish!<class 'us_data.models.SharadarSep'> date:from 1997-12-31 to 2020-06-15 bulk_update:0\n"
     ]
    },
    {
     "name": "stdout",
     "output_type": "stream",
     "text": [
      "62.0 6100000 6200000\n"
     ]
    },
    {
     "name": "stderr",
     "output_type": "stream",
     "text": [
      "INFO:etl.import_sql:Finish!<class 'us_data.models.SharadarSep'> date:from 1997-12-31 to 2020-06-15 bulk_create:100000\n",
      "INFO:etl.import_sql:Finish!<class 'us_data.models.SharadarSep'> date:from 1997-12-31 to 2020-06-15 bulk_update:0\n"
     ]
    },
    {
     "name": "stdout",
     "output_type": "stream",
     "text": [
      "63.0 6200000 6300000\n"
     ]
    },
    {
     "name": "stderr",
     "output_type": "stream",
     "text": [
      "INFO:etl.import_sql:Finish!<class 'us_data.models.SharadarSep'> date:from 1997-12-31 to 2020-06-15 bulk_create:100000\n",
      "INFO:etl.import_sql:Finish!<class 'us_data.models.SharadarSep'> date:from 1997-12-31 to 2020-06-15 bulk_update:0\n"
     ]
    },
    {
     "name": "stdout",
     "output_type": "stream",
     "text": [
      "64.0 6300000 6400000\n"
     ]
    },
    {
     "name": "stderr",
     "output_type": "stream",
     "text": [
      "INFO:etl.import_sql:Finish!<class 'us_data.models.SharadarSep'> date:from 1997-12-31 to 2020-06-15 bulk_create:100000\n",
      "INFO:etl.import_sql:Finish!<class 'us_data.models.SharadarSep'> date:from 1997-12-31 to 2020-06-15 bulk_update:0\n"
     ]
    },
    {
     "name": "stdout",
     "output_type": "stream",
     "text": [
      "65.0 6400000 6500000\n"
     ]
    },
    {
     "name": "stderr",
     "output_type": "stream",
     "text": [
      "INFO:etl.import_sql:Finish!<class 'us_data.models.SharadarSep'> date:from 1997-12-31 to 2020-06-15 bulk_create:100000\n",
      "INFO:etl.import_sql:Finish!<class 'us_data.models.SharadarSep'> date:from 1997-12-31 to 2020-06-15 bulk_update:0\n"
     ]
    },
    {
     "name": "stdout",
     "output_type": "stream",
     "text": [
      "66.0 6500000 6600000\n"
     ]
    },
    {
     "name": "stderr",
     "output_type": "stream",
     "text": [
      "INFO:etl.import_sql:Finish!<class 'us_data.models.SharadarSep'> date:from 1997-12-31 to 2020-06-15 bulk_create:100000\n",
      "INFO:etl.import_sql:Finish!<class 'us_data.models.SharadarSep'> date:from 1997-12-31 to 2020-06-15 bulk_update:0\n"
     ]
    },
    {
     "name": "stdout",
     "output_type": "stream",
     "text": [
      "67.0 6600000 6700000\n"
     ]
    },
    {
     "name": "stderr",
     "output_type": "stream",
     "text": [
      "INFO:etl.import_sql:Finish!<class 'us_data.models.SharadarSep'> date:from 1997-12-31 to 2020-06-15 bulk_create:100000\n",
      "INFO:etl.import_sql:Finish!<class 'us_data.models.SharadarSep'> date:from 1997-12-31 to 2020-06-15 bulk_update:0\n"
     ]
    },
    {
     "name": "stdout",
     "output_type": "stream",
     "text": [
      "68.0 6700000 6800000\n"
     ]
    },
    {
     "name": "stderr",
     "output_type": "stream",
     "text": [
      "INFO:etl.import_sql:Finish!<class 'us_data.models.SharadarSep'> date:from 1997-12-31 to 2020-06-15 bulk_create:100000\n",
      "INFO:etl.import_sql:Finish!<class 'us_data.models.SharadarSep'> date:from 1997-12-31 to 2020-06-15 bulk_update:0\n"
     ]
    },
    {
     "name": "stdout",
     "output_type": "stream",
     "text": [
      "69.0 6800000 6900000\n"
     ]
    },
    {
     "name": "stderr",
     "output_type": "stream",
     "text": [
      "INFO:etl.import_sql:Finish!<class 'us_data.models.SharadarSep'> date:from 1997-12-31 to 2020-06-15 bulk_create:100000\n",
      "INFO:etl.import_sql:Finish!<class 'us_data.models.SharadarSep'> date:from 1997-12-31 to 2020-06-15 bulk_update:0\n"
     ]
    },
    {
     "name": "stdout",
     "output_type": "stream",
     "text": [
      "70.0 6900000 7000000\n"
     ]
    },
    {
     "name": "stderr",
     "output_type": "stream",
     "text": [
      "INFO:etl.import_sql:Finish!<class 'us_data.models.SharadarSep'> date:from 1997-12-31 to 2020-06-15 bulk_create:100000\n",
      "INFO:etl.import_sql:Finish!<class 'us_data.models.SharadarSep'> date:from 1997-12-31 to 2020-06-15 bulk_update:0\n"
     ]
    },
    {
     "name": "stdout",
     "output_type": "stream",
     "text": [
      "71.0 7000000 7100000\n"
     ]
    },
    {
     "name": "stderr",
     "output_type": "stream",
     "text": [
      "INFO:etl.import_sql:Finish!<class 'us_data.models.SharadarSep'> date:from 1997-12-31 to 2020-06-15 bulk_create:100000\n",
      "INFO:etl.import_sql:Finish!<class 'us_data.models.SharadarSep'> date:from 1997-12-31 to 2020-06-15 bulk_update:0\n"
     ]
    },
    {
     "name": "stdout",
     "output_type": "stream",
     "text": [
      "72.0 7100000 7200000\n"
     ]
    },
    {
     "name": "stderr",
     "output_type": "stream",
     "text": [
      "INFO:etl.import_sql:Finish!<class 'us_data.models.SharadarSep'> date:from 1997-12-31 to 2020-06-15 bulk_create:100000\n",
      "INFO:etl.import_sql:Finish!<class 'us_data.models.SharadarSep'> date:from 1997-12-31 to 2020-06-15 bulk_update:0\n"
     ]
    },
    {
     "name": "stdout",
     "output_type": "stream",
     "text": [
      "73.0 7200000 7300000\n"
     ]
    },
    {
     "name": "stderr",
     "output_type": "stream",
     "text": [
      "INFO:etl.import_sql:Finish!<class 'us_data.models.SharadarSep'> date:from 1997-12-31 to 2020-06-15 bulk_create:100000\n",
      "INFO:etl.import_sql:Finish!<class 'us_data.models.SharadarSep'> date:from 1997-12-31 to 2020-06-15 bulk_update:0\n"
     ]
    },
    {
     "name": "stdout",
     "output_type": "stream",
     "text": [
      "74.0 7300000 7400000\n"
     ]
    },
    {
     "name": "stderr",
     "output_type": "stream",
     "text": [
      "INFO:etl.import_sql:Finish!<class 'us_data.models.SharadarSep'> date:from 1997-12-31 to 2020-06-15 bulk_create:100000\n",
      "INFO:etl.import_sql:Finish!<class 'us_data.models.SharadarSep'> date:from 1997-12-31 to 2020-06-15 bulk_update:0\n"
     ]
    },
    {
     "name": "stdout",
     "output_type": "stream",
     "text": [
      "75.0 7400000 7500000\n"
     ]
    },
    {
     "name": "stderr",
     "output_type": "stream",
     "text": [
      "INFO:etl.import_sql:Finish!<class 'us_data.models.SharadarSep'> date:from 1997-12-31 to 2020-06-15 bulk_create:100000\n",
      "INFO:etl.import_sql:Finish!<class 'us_data.models.SharadarSep'> date:from 1997-12-31 to 2020-06-15 bulk_update:0\n"
     ]
    },
    {
     "name": "stdout",
     "output_type": "stream",
     "text": [
      "76.0 7500000 7600000\n"
     ]
    },
    {
     "name": "stderr",
     "output_type": "stream",
     "text": [
      "INFO:etl.import_sql:Finish!<class 'us_data.models.SharadarSep'> date:from 1997-12-31 to 2020-06-15 bulk_create:100000\n",
      "INFO:etl.import_sql:Finish!<class 'us_data.models.SharadarSep'> date:from 1997-12-31 to 2020-06-15 bulk_update:0\n"
     ]
    },
    {
     "name": "stdout",
     "output_type": "stream",
     "text": [
      "77.0 7600000 7700000\n"
     ]
    },
    {
     "name": "stderr",
     "output_type": "stream",
     "text": [
      "INFO:etl.import_sql:Finish!<class 'us_data.models.SharadarSep'> date:from 1997-12-31 to 2020-06-15 bulk_create:100000\n",
      "INFO:etl.import_sql:Finish!<class 'us_data.models.SharadarSep'> date:from 1997-12-31 to 2020-06-15 bulk_update:0\n"
     ]
    },
    {
     "name": "stdout",
     "output_type": "stream",
     "text": [
      "78.0 7700000 7800000\n"
     ]
    },
    {
     "name": "stderr",
     "output_type": "stream",
     "text": [
      "INFO:etl.import_sql:Finish!<class 'us_data.models.SharadarSep'> date:from 1997-12-31 to 2020-06-15 bulk_create:100000\n",
      "INFO:etl.import_sql:Finish!<class 'us_data.models.SharadarSep'> date:from 1997-12-31 to 2020-06-15 bulk_update:0\n"
     ]
    },
    {
     "name": "stdout",
     "output_type": "stream",
     "text": [
      "79.0 7800000 7900000\n"
     ]
    },
    {
     "name": "stderr",
     "output_type": "stream",
     "text": [
      "INFO:etl.import_sql:Finish!<class 'us_data.models.SharadarSep'> date:from 1997-12-31 to 2020-06-15 bulk_create:100000\n",
      "INFO:etl.import_sql:Finish!<class 'us_data.models.SharadarSep'> date:from 1997-12-31 to 2020-06-15 bulk_update:0\n"
     ]
    },
    {
     "name": "stdout",
     "output_type": "stream",
     "text": [
      "80.0 7900000 8000000\n"
     ]
    },
    {
     "name": "stderr",
     "output_type": "stream",
     "text": [
      "INFO:etl.import_sql:Finish!<class 'us_data.models.SharadarSep'> date:from 1997-12-31 to 2020-06-15 bulk_create:100000\n",
      "INFO:etl.import_sql:Finish!<class 'us_data.models.SharadarSep'> date:from 1997-12-31 to 2020-06-15 bulk_update:0\n"
     ]
    },
    {
     "name": "stdout",
     "output_type": "stream",
     "text": [
      "81.0 8000000 8100000\n"
     ]
    },
    {
     "name": "stderr",
     "output_type": "stream",
     "text": [
      "INFO:etl.import_sql:Finish!<class 'us_data.models.SharadarSep'> date:from 1997-12-31 to 2020-06-15 bulk_create:100000\n",
      "INFO:etl.import_sql:Finish!<class 'us_data.models.SharadarSep'> date:from 1997-12-31 to 2020-06-15 bulk_update:0\n"
     ]
    },
    {
     "name": "stdout",
     "output_type": "stream",
     "text": [
      "82.0 8100000 8200000\n"
     ]
    },
    {
     "name": "stderr",
     "output_type": "stream",
     "text": [
      "INFO:etl.import_sql:Finish!<class 'us_data.models.SharadarSep'> date:from 1997-12-31 to 2020-06-15 bulk_create:100000\n",
      "INFO:etl.import_sql:Finish!<class 'us_data.models.SharadarSep'> date:from 1997-12-31 to 2020-06-15 bulk_update:0\n"
     ]
    },
    {
     "name": "stdout",
     "output_type": "stream",
     "text": [
      "83.0 8200000 8300000\n"
     ]
    },
    {
     "name": "stderr",
     "output_type": "stream",
     "text": [
      "INFO:etl.import_sql:Finish!<class 'us_data.models.SharadarSep'> date:from 1997-12-31 to 2020-06-15 bulk_create:100000\n",
      "INFO:etl.import_sql:Finish!<class 'us_data.models.SharadarSep'> date:from 1997-12-31 to 2020-06-15 bulk_update:0\n"
     ]
    },
    {
     "name": "stdout",
     "output_type": "stream",
     "text": [
      "84.0 8300000 8400000\n"
     ]
    },
    {
     "name": "stderr",
     "output_type": "stream",
     "text": [
      "INFO:etl.import_sql:Finish!<class 'us_data.models.SharadarSep'> date:from 1997-12-31 to 2020-06-15 bulk_create:100000\n",
      "INFO:etl.import_sql:Finish!<class 'us_data.models.SharadarSep'> date:from 1997-12-31 to 2020-06-15 bulk_update:0\n"
     ]
    },
    {
     "name": "stdout",
     "output_type": "stream",
     "text": [
      "85.0 8400000 8500000\n"
     ]
    },
    {
     "name": "stderr",
     "output_type": "stream",
     "text": [
      "INFO:etl.import_sql:Finish!<class 'us_data.models.SharadarSep'> date:from 1997-12-31 to 2020-06-15 bulk_create:100000\n",
      "INFO:etl.import_sql:Finish!<class 'us_data.models.SharadarSep'> date:from 1997-12-31 to 2020-06-15 bulk_update:0\n"
     ]
    },
    {
     "name": "stdout",
     "output_type": "stream",
     "text": [
      "86.0 8500000 8600000\n"
     ]
    },
    {
     "name": "stderr",
     "output_type": "stream",
     "text": [
      "INFO:etl.import_sql:Finish!<class 'us_data.models.SharadarSep'> date:from 1997-12-31 to 2020-06-15 bulk_create:100000\n",
      "INFO:etl.import_sql:Finish!<class 'us_data.models.SharadarSep'> date:from 1997-12-31 to 2020-06-15 bulk_update:0\n"
     ]
    },
    {
     "name": "stdout",
     "output_type": "stream",
     "text": [
      "87.0 8600000 8700000\n"
     ]
    },
    {
     "name": "stderr",
     "output_type": "stream",
     "text": [
      "INFO:etl.import_sql:Finish!<class 'us_data.models.SharadarSep'> date:from 1997-12-31 to 2020-06-15 bulk_create:100000\n",
      "INFO:etl.import_sql:Finish!<class 'us_data.models.SharadarSep'> date:from 1997-12-31 to 2020-06-15 bulk_update:0\n"
     ]
    },
    {
     "name": "stdout",
     "output_type": "stream",
     "text": [
      "88.0 8700000 8800000\n"
     ]
    },
    {
     "name": "stderr",
     "output_type": "stream",
     "text": [
      "INFO:etl.import_sql:Finish!<class 'us_data.models.SharadarSep'> date:from 1997-12-31 to 2020-06-15 bulk_create:100000\n",
      "INFO:etl.import_sql:Finish!<class 'us_data.models.SharadarSep'> date:from 1997-12-31 to 2020-06-15 bulk_update:0\n"
     ]
    },
    {
     "name": "stdout",
     "output_type": "stream",
     "text": [
      "89.0 8800000 8900000\n"
     ]
    },
    {
     "name": "stderr",
     "output_type": "stream",
     "text": [
      "INFO:etl.import_sql:Finish!<class 'us_data.models.SharadarSep'> date:from 1997-12-31 to 2020-06-15 bulk_create:100000\n",
      "INFO:etl.import_sql:Finish!<class 'us_data.models.SharadarSep'> date:from 1997-12-31 to 2020-06-15 bulk_update:0\n"
     ]
    },
    {
     "name": "stdout",
     "output_type": "stream",
     "text": [
      "90.0 8900000 9000000\n"
     ]
    },
    {
     "name": "stderr",
     "output_type": "stream",
     "text": [
      "INFO:etl.import_sql:Finish!<class 'us_data.models.SharadarSep'> date:from 1997-12-31 to 2020-06-15 bulk_create:100000\n",
      "INFO:etl.import_sql:Finish!<class 'us_data.models.SharadarSep'> date:from 1997-12-31 to 2020-06-15 bulk_update:0\n"
     ]
    },
    {
     "name": "stdout",
     "output_type": "stream",
     "text": [
      "91.0 9000000 9100000\n"
     ]
    },
    {
     "name": "stderr",
     "output_type": "stream",
     "text": [
      "INFO:etl.import_sql:Finish!<class 'us_data.models.SharadarSep'> date:from 1997-12-31 to 2020-06-15 bulk_create:100000\n",
      "INFO:etl.import_sql:Finish!<class 'us_data.models.SharadarSep'> date:from 1997-12-31 to 2020-06-15 bulk_update:0\n"
     ]
    },
    {
     "name": "stdout",
     "output_type": "stream",
     "text": [
      "92.0 9100000 9200000\n"
     ]
    },
    {
     "name": "stderr",
     "output_type": "stream",
     "text": [
      "INFO:etl.import_sql:Finish!<class 'us_data.models.SharadarSep'> date:from 1997-12-31 to 2020-06-15 bulk_create:100000\n",
      "INFO:etl.import_sql:Finish!<class 'us_data.models.SharadarSep'> date:from 1997-12-31 to 2020-06-15 bulk_update:0\n"
     ]
    },
    {
     "name": "stdout",
     "output_type": "stream",
     "text": [
      "93.0 9200000 9300000\n"
     ]
    },
    {
     "name": "stderr",
     "output_type": "stream",
     "text": [
      "INFO:etl.import_sql:Finish!<class 'us_data.models.SharadarSep'> date:from 1997-12-31 to 2020-06-15 bulk_create:100000\n",
      "INFO:etl.import_sql:Finish!<class 'us_data.models.SharadarSep'> date:from 1997-12-31 to 2020-06-15 bulk_update:0\n"
     ]
    },
    {
     "name": "stdout",
     "output_type": "stream",
     "text": [
      "94.0 9300000 9400000\n"
     ]
    },
    {
     "name": "stderr",
     "output_type": "stream",
     "text": [
      "INFO:etl.import_sql:Finish!<class 'us_data.models.SharadarSep'> date:from 1997-12-31 to 2020-06-15 bulk_create:100000\n",
      "INFO:etl.import_sql:Finish!<class 'us_data.models.SharadarSep'> date:from 1997-12-31 to 2020-06-15 bulk_update:0\n"
     ]
    },
    {
     "name": "stdout",
     "output_type": "stream",
     "text": [
      "95.0 9400000 9500000\n"
     ]
    },
    {
     "name": "stderr",
     "output_type": "stream",
     "text": [
      "INFO:etl.import_sql:Finish!<class 'us_data.models.SharadarSep'> date:from 1997-12-31 to 2020-06-15 bulk_create:100000\n",
      "INFO:etl.import_sql:Finish!<class 'us_data.models.SharadarSep'> date:from 1997-12-31 to 2020-06-15 bulk_update:0\n"
     ]
    },
    {
     "name": "stdout",
     "output_type": "stream",
     "text": [
      "96.0 9500000 9600000\n"
     ]
    },
    {
     "name": "stderr",
     "output_type": "stream",
     "text": [
      "INFO:etl.import_sql:Finish!<class 'us_data.models.SharadarSep'> date:from 1997-12-31 to 2020-06-15 bulk_create:100000\n",
      "INFO:etl.import_sql:Finish!<class 'us_data.models.SharadarSep'> date:from 1997-12-31 to 2020-06-15 bulk_update:0\n"
     ]
    },
    {
     "name": "stdout",
     "output_type": "stream",
     "text": [
      "97.0 9600000 9700000\n"
     ]
    },
    {
     "name": "stderr",
     "output_type": "stream",
     "text": [
      "INFO:etl.import_sql:Finish!<class 'us_data.models.SharadarSep'> date:from 1997-12-31 to 2020-06-15 bulk_create:100000\n",
      "INFO:etl.import_sql:Finish!<class 'us_data.models.SharadarSep'> date:from 1997-12-31 to 2020-06-15 bulk_update:0\n"
     ]
    },
    {
     "name": "stdout",
     "output_type": "stream",
     "text": [
      "98.0 9700000 9800000\n"
     ]
    },
    {
     "name": "stderr",
     "output_type": "stream",
     "text": [
      "INFO:etl.import_sql:Finish!<class 'us_data.models.SharadarSep'> date:from 1997-12-31 to 2020-06-15 bulk_create:100000\n",
      "INFO:etl.import_sql:Finish!<class 'us_data.models.SharadarSep'> date:from 1997-12-31 to 2020-06-15 bulk_update:0\n"
     ]
    },
    {
     "name": "stdout",
     "output_type": "stream",
     "text": [
      "99.0 9800000 9900000\n"
     ]
    },
    {
     "name": "stderr",
     "output_type": "stream",
     "text": [
      "INFO:etl.import_sql:Finish!<class 'us_data.models.SharadarSep'> date:from 1997-12-31 to 2020-06-15 bulk_create:100000\n",
      "INFO:etl.import_sql:Finish!<class 'us_data.models.SharadarSep'> date:from 1997-12-31 to 2020-06-15 bulk_update:0\n"
     ]
    },
    {
     "name": "stdout",
     "output_type": "stream",
     "text": [
      "100.0 9900000 10000000\n"
     ]
    },
    {
     "name": "stderr",
     "output_type": "stream",
     "text": [
      "INFO:etl.import_sql:Finish!<class 'us_data.models.SharadarSep'> date:from 1997-12-31 to 2020-06-15 bulk_create:100000\n",
      "INFO:etl.import_sql:Finish!<class 'us_data.models.SharadarSep'> date:from 1997-12-31 to 2020-06-15 bulk_update:0\n"
     ]
    },
    {
     "name": "stdout",
     "output_type": "stream",
     "text": [
      "101.0 10000000 10100000\n"
     ]
    },
    {
     "name": "stderr",
     "output_type": "stream",
     "text": [
      "INFO:etl.import_sql:Finish!<class 'us_data.models.SharadarSep'> date:from 1997-12-31 to 2020-06-15 bulk_create:100000\n",
      "INFO:etl.import_sql:Finish!<class 'us_data.models.SharadarSep'> date:from 1997-12-31 to 2020-06-15 bulk_update:0\n"
     ]
    },
    {
     "name": "stdout",
     "output_type": "stream",
     "text": [
      "102.0 10100000 10200000\n"
     ]
    },
    {
     "name": "stderr",
     "output_type": "stream",
     "text": [
      "INFO:etl.import_sql:Finish!<class 'us_data.models.SharadarSep'> date:from 1997-12-31 to 2020-06-15 bulk_create:100000\n",
      "INFO:etl.import_sql:Finish!<class 'us_data.models.SharadarSep'> date:from 1997-12-31 to 2020-06-15 bulk_update:0\n"
     ]
    },
    {
     "name": "stdout",
     "output_type": "stream",
     "text": [
      "103.0 10200000 10300000\n"
     ]
    },
    {
     "name": "stderr",
     "output_type": "stream",
     "text": [
      "INFO:etl.import_sql:Finish!<class 'us_data.models.SharadarSep'> date:from 1997-12-31 to 2020-06-15 bulk_create:100000\n",
      "INFO:etl.import_sql:Finish!<class 'us_data.models.SharadarSep'> date:from 1997-12-31 to 2020-06-15 bulk_update:0\n"
     ]
    },
    {
     "name": "stdout",
     "output_type": "stream",
     "text": [
      "104.0 10300000 10400000\n"
     ]
    },
    {
     "name": "stderr",
     "output_type": "stream",
     "text": [
      "INFO:etl.import_sql:Finish!<class 'us_data.models.SharadarSep'> date:from 1997-12-31 to 2020-06-15 bulk_create:100000\n",
      "INFO:etl.import_sql:Finish!<class 'us_data.models.SharadarSep'> date:from 1997-12-31 to 2020-06-15 bulk_update:0\n"
     ]
    },
    {
     "name": "stdout",
     "output_type": "stream",
     "text": [
      "105.0 10400000 10500000\n"
     ]
    },
    {
     "name": "stderr",
     "output_type": "stream",
     "text": [
      "INFO:etl.import_sql:Finish!<class 'us_data.models.SharadarSep'> date:from 1997-12-31 to 2020-06-15 bulk_create:100000\n",
      "INFO:etl.import_sql:Finish!<class 'us_data.models.SharadarSep'> date:from 1997-12-31 to 2020-06-15 bulk_update:0\n"
     ]
    },
    {
     "name": "stdout",
     "output_type": "stream",
     "text": [
      "106.0 10500000 10600000\n"
     ]
    },
    {
     "name": "stderr",
     "output_type": "stream",
     "text": [
      "INFO:etl.import_sql:Finish!<class 'us_data.models.SharadarSep'> date:from 1997-12-31 to 2020-06-15 bulk_create:100000\n",
      "INFO:etl.import_sql:Finish!<class 'us_data.models.SharadarSep'> date:from 1997-12-31 to 2020-06-15 bulk_update:0\n"
     ]
    },
    {
     "name": "stdout",
     "output_type": "stream",
     "text": [
      "107.0 10600000 10700000\n"
     ]
    },
    {
     "name": "stderr",
     "output_type": "stream",
     "text": [
      "INFO:etl.import_sql:Finish!<class 'us_data.models.SharadarSep'> date:from 1997-12-31 to 2020-06-15 bulk_create:100000\n",
      "INFO:etl.import_sql:Finish!<class 'us_data.models.SharadarSep'> date:from 1997-12-31 to 2020-06-15 bulk_update:0\n"
     ]
    },
    {
     "name": "stdout",
     "output_type": "stream",
     "text": [
      "108.0 10700000 10800000\n"
     ]
    },
    {
     "name": "stderr",
     "output_type": "stream",
     "text": [
      "INFO:etl.import_sql:Finish!<class 'us_data.models.SharadarSep'> date:from 1997-12-31 to 2020-06-15 bulk_create:100000\n",
      "INFO:etl.import_sql:Finish!<class 'us_data.models.SharadarSep'> date:from 1997-12-31 to 2020-06-15 bulk_update:0\n"
     ]
    },
    {
     "name": "stdout",
     "output_type": "stream",
     "text": [
      "109.0 10800000 10900000\n"
     ]
    },
    {
     "name": "stderr",
     "output_type": "stream",
     "text": [
      "INFO:etl.import_sql:Finish!<class 'us_data.models.SharadarSep'> date:from 1997-12-31 to 2020-06-15 bulk_create:100000\n",
      "INFO:etl.import_sql:Finish!<class 'us_data.models.SharadarSep'> date:from 1997-12-31 to 2020-06-15 bulk_update:0\n"
     ]
    },
    {
     "name": "stdout",
     "output_type": "stream",
     "text": [
      "110.0 10900000 11000000\n"
     ]
    },
    {
     "name": "stderr",
     "output_type": "stream",
     "text": [
      "INFO:etl.import_sql:Finish!<class 'us_data.models.SharadarSep'> date:from 1997-12-31 to 2020-06-15 bulk_create:100000\n",
      "INFO:etl.import_sql:Finish!<class 'us_data.models.SharadarSep'> date:from 1997-12-31 to 2020-06-15 bulk_update:0\n"
     ]
    },
    {
     "name": "stdout",
     "output_type": "stream",
     "text": [
      "111.0 11000000 11100000\n"
     ]
    },
    {
     "name": "stderr",
     "output_type": "stream",
     "text": [
      "INFO:etl.import_sql:Finish!<class 'us_data.models.SharadarSep'> date:from 1997-12-31 to 2020-06-15 bulk_create:100000\n",
      "INFO:etl.import_sql:Finish!<class 'us_data.models.SharadarSep'> date:from 1997-12-31 to 2020-06-15 bulk_update:0\n"
     ]
    },
    {
     "name": "stdout",
     "output_type": "stream",
     "text": [
      "112.0 11100000 11200000\n"
     ]
    },
    {
     "name": "stderr",
     "output_type": "stream",
     "text": [
      "INFO:etl.import_sql:Finish!<class 'us_data.models.SharadarSep'> date:from 1997-12-31 to 2020-06-15 bulk_create:100000\n",
      "INFO:etl.import_sql:Finish!<class 'us_data.models.SharadarSep'> date:from 1997-12-31 to 2020-06-15 bulk_update:0\n"
     ]
    },
    {
     "name": "stdout",
     "output_type": "stream",
     "text": [
      "113.0 11200000 11300000\n"
     ]
    },
    {
     "name": "stderr",
     "output_type": "stream",
     "text": [
      "INFO:etl.import_sql:Finish!<class 'us_data.models.SharadarSep'> date:from 1997-12-31 to 2020-06-15 bulk_create:100000\n",
      "INFO:etl.import_sql:Finish!<class 'us_data.models.SharadarSep'> date:from 1997-12-31 to 2020-06-15 bulk_update:0\n"
     ]
    },
    {
     "name": "stdout",
     "output_type": "stream",
     "text": [
      "114.0 11300000 11400000\n"
     ]
    },
    {
     "name": "stderr",
     "output_type": "stream",
     "text": [
      "INFO:etl.import_sql:Finish!<class 'us_data.models.SharadarSep'> date:from 1997-12-31 to 2020-06-15 bulk_create:100000\n",
      "INFO:etl.import_sql:Finish!<class 'us_data.models.SharadarSep'> date:from 1997-12-31 to 2020-06-15 bulk_update:0\n"
     ]
    },
    {
     "name": "stdout",
     "output_type": "stream",
     "text": [
      "115.0 11400000 11500000\n"
     ]
    },
    {
     "name": "stderr",
     "output_type": "stream",
     "text": [
      "INFO:etl.import_sql:Finish!<class 'us_data.models.SharadarSep'> date:from 1997-12-31 to 2020-06-15 bulk_create:100000\n",
      "INFO:etl.import_sql:Finish!<class 'us_data.models.SharadarSep'> date:from 1997-12-31 to 2020-06-15 bulk_update:0\n"
     ]
    },
    {
     "name": "stdout",
     "output_type": "stream",
     "text": [
      "116.0 11500000 11600000\n"
     ]
    },
    {
     "name": "stderr",
     "output_type": "stream",
     "text": [
      "INFO:etl.import_sql:Finish!<class 'us_data.models.SharadarSep'> date:from 1997-12-31 to 2020-06-15 bulk_create:100000\n",
      "INFO:etl.import_sql:Finish!<class 'us_data.models.SharadarSep'> date:from 1997-12-31 to 2020-06-15 bulk_update:0\n"
     ]
    },
    {
     "name": "stdout",
     "output_type": "stream",
     "text": [
      "117.0 11600000 11700000\n"
     ]
    },
    {
     "name": "stderr",
     "output_type": "stream",
     "text": [
      "INFO:etl.import_sql:Finish!<class 'us_data.models.SharadarSep'> date:from 1997-12-31 to 2020-06-15 bulk_create:100000\n",
      "INFO:etl.import_sql:Finish!<class 'us_data.models.SharadarSep'> date:from 1997-12-31 to 2020-06-15 bulk_update:0\n"
     ]
    },
    {
     "name": "stdout",
     "output_type": "stream",
     "text": [
      "118.0 11700000 11800000\n"
     ]
    },
    {
     "name": "stderr",
     "output_type": "stream",
     "text": [
      "INFO:etl.import_sql:Finish!<class 'us_data.models.SharadarSep'> date:from 1997-12-31 to 2020-06-15 bulk_create:100000\n",
      "INFO:etl.import_sql:Finish!<class 'us_data.models.SharadarSep'> date:from 1997-12-31 to 2020-06-15 bulk_update:0\n"
     ]
    },
    {
     "name": "stdout",
     "output_type": "stream",
     "text": [
      "119.0 11800000 11900000\n"
     ]
    },
    {
     "name": "stderr",
     "output_type": "stream",
     "text": [
      "INFO:etl.import_sql:Finish!<class 'us_data.models.SharadarSep'> date:from 1997-12-31 to 2020-06-15 bulk_create:100000\n",
      "INFO:etl.import_sql:Finish!<class 'us_data.models.SharadarSep'> date:from 1997-12-31 to 2020-06-15 bulk_update:0\n"
     ]
    },
    {
     "name": "stdout",
     "output_type": "stream",
     "text": [
      "120.0 11900000 12000000\n"
     ]
    },
    {
     "name": "stderr",
     "output_type": "stream",
     "text": [
      "INFO:etl.import_sql:Finish!<class 'us_data.models.SharadarSep'> date:from 1997-12-31 to 2020-06-15 bulk_create:100000\n",
      "INFO:etl.import_sql:Finish!<class 'us_data.models.SharadarSep'> date:from 1997-12-31 to 2020-06-15 bulk_update:0\n"
     ]
    },
    {
     "name": "stdout",
     "output_type": "stream",
     "text": [
      "121.0 12000000 12100000\n"
     ]
    },
    {
     "name": "stderr",
     "output_type": "stream",
     "text": [
      "INFO:etl.import_sql:Finish!<class 'us_data.models.SharadarSep'> date:from 1997-12-31 to 2020-06-15 bulk_create:100000\n",
      "INFO:etl.import_sql:Finish!<class 'us_data.models.SharadarSep'> date:from 1997-12-31 to 2020-06-15 bulk_update:0\n"
     ]
    },
    {
     "name": "stdout",
     "output_type": "stream",
     "text": [
      "122.0 12100000 12200000\n"
     ]
    },
    {
     "name": "stderr",
     "output_type": "stream",
     "text": [
      "INFO:etl.import_sql:Finish!<class 'us_data.models.SharadarSep'> date:from 1997-12-31 to 2020-06-15 bulk_create:100000\n",
      "INFO:etl.import_sql:Finish!<class 'us_data.models.SharadarSep'> date:from 1997-12-31 to 2020-06-15 bulk_update:0\n"
     ]
    },
    {
     "name": "stdout",
     "output_type": "stream",
     "text": [
      "123.0 12200000 12300000\n"
     ]
    },
    {
     "name": "stderr",
     "output_type": "stream",
     "text": [
      "INFO:etl.import_sql:Finish!<class 'us_data.models.SharadarSep'> date:from 1997-12-31 to 2020-06-15 bulk_create:100000\n",
      "INFO:etl.import_sql:Finish!<class 'us_data.models.SharadarSep'> date:from 1997-12-31 to 2020-06-15 bulk_update:0\n"
     ]
    },
    {
     "name": "stdout",
     "output_type": "stream",
     "text": [
      "124.0 12300000 12400000\n"
     ]
    },
    {
     "name": "stderr",
     "output_type": "stream",
     "text": [
      "INFO:etl.import_sql:Finish!<class 'us_data.models.SharadarSep'> date:from 1997-12-31 to 2020-06-15 bulk_create:100000\n",
      "INFO:etl.import_sql:Finish!<class 'us_data.models.SharadarSep'> date:from 1997-12-31 to 2020-06-15 bulk_update:0\n"
     ]
    },
    {
     "name": "stdout",
     "output_type": "stream",
     "text": [
      "125.0 12400000 12500000\n"
     ]
    },
    {
     "name": "stderr",
     "output_type": "stream",
     "text": [
      "INFO:etl.import_sql:Finish!<class 'us_data.models.SharadarSep'> date:from 1997-12-31 to 2020-06-15 bulk_create:100000\n",
      "INFO:etl.import_sql:Finish!<class 'us_data.models.SharadarSep'> date:from 1997-12-31 to 2020-06-15 bulk_update:0\n"
     ]
    },
    {
     "name": "stdout",
     "output_type": "stream",
     "text": [
      "126.0 12500000 12600000\n"
     ]
    },
    {
     "name": "stderr",
     "output_type": "stream",
     "text": [
      "INFO:etl.import_sql:Finish!<class 'us_data.models.SharadarSep'> date:from 1997-12-31 to 2020-06-15 bulk_create:100000\n",
      "INFO:etl.import_sql:Finish!<class 'us_data.models.SharadarSep'> date:from 1997-12-31 to 2020-06-15 bulk_update:0\n"
     ]
    },
    {
     "name": "stdout",
     "output_type": "stream",
     "text": [
      "127.0 12600000 12700000\n"
     ]
    },
    {
     "name": "stderr",
     "output_type": "stream",
     "text": [
      "INFO:etl.import_sql:Finish!<class 'us_data.models.SharadarSep'> date:from 1997-12-31 to 2020-06-15 bulk_create:100000\n",
      "INFO:etl.import_sql:Finish!<class 'us_data.models.SharadarSep'> date:from 1997-12-31 to 2020-06-15 bulk_update:0\n"
     ]
    },
    {
     "name": "stdout",
     "output_type": "stream",
     "text": [
      "128.0 12700000 12800000\n"
     ]
    },
    {
     "name": "stderr",
     "output_type": "stream",
     "text": [
      "INFO:etl.import_sql:Finish!<class 'us_data.models.SharadarSep'> date:from 1997-12-31 to 2020-06-15 bulk_create:100000\n",
      "INFO:etl.import_sql:Finish!<class 'us_data.models.SharadarSep'> date:from 1997-12-31 to 2020-06-15 bulk_update:0\n"
     ]
    },
    {
     "name": "stdout",
     "output_type": "stream",
     "text": [
      "129.0 12800000 12900000\n"
     ]
    },
    {
     "name": "stderr",
     "output_type": "stream",
     "text": [
      "INFO:etl.import_sql:Finish!<class 'us_data.models.SharadarSep'> date:from 1997-12-31 to 2020-06-15 bulk_create:100000\n",
      "INFO:etl.import_sql:Finish!<class 'us_data.models.SharadarSep'> date:from 1997-12-31 to 2020-06-15 bulk_update:0\n"
     ]
    },
    {
     "name": "stdout",
     "output_type": "stream",
     "text": [
      "130.0 12900000 13000000\n"
     ]
    },
    {
     "name": "stderr",
     "output_type": "stream",
     "text": [
      "INFO:etl.import_sql:Finish!<class 'us_data.models.SharadarSep'> date:from 1997-12-31 to 2020-06-15 bulk_create:100000\n",
      "INFO:etl.import_sql:Finish!<class 'us_data.models.SharadarSep'> date:from 1997-12-31 to 2020-06-15 bulk_update:0\n"
     ]
    },
    {
     "name": "stdout",
     "output_type": "stream",
     "text": [
      "131.0 13000000 13100000\n"
     ]
    },
    {
     "name": "stderr",
     "output_type": "stream",
     "text": [
      "INFO:etl.import_sql:Finish!<class 'us_data.models.SharadarSep'> date:from 1997-12-31 to 2020-06-15 bulk_create:100000\n",
      "INFO:etl.import_sql:Finish!<class 'us_data.models.SharadarSep'> date:from 1997-12-31 to 2020-06-15 bulk_update:0\n"
     ]
    },
    {
     "name": "stdout",
     "output_type": "stream",
     "text": [
      "132.0 13100000 13200000\n"
     ]
    },
    {
     "name": "stderr",
     "output_type": "stream",
     "text": [
      "INFO:etl.import_sql:Finish!<class 'us_data.models.SharadarSep'> date:from 1997-12-31 to 2020-06-15 bulk_create:100000\n",
      "INFO:etl.import_sql:Finish!<class 'us_data.models.SharadarSep'> date:from 1997-12-31 to 2020-06-15 bulk_update:0\n"
     ]
    },
    {
     "name": "stdout",
     "output_type": "stream",
     "text": [
      "133.0 13200000 13300000\n"
     ]
    },
    {
     "name": "stderr",
     "output_type": "stream",
     "text": [
      "INFO:etl.import_sql:Finish!<class 'us_data.models.SharadarSep'> date:from 1997-12-31 to 2020-06-15 bulk_create:100000\n",
      "INFO:etl.import_sql:Finish!<class 'us_data.models.SharadarSep'> date:from 1997-12-31 to 2020-06-15 bulk_update:0\n"
     ]
    },
    {
     "name": "stdout",
     "output_type": "stream",
     "text": [
      "134.0 13300000 13400000\n"
     ]
    },
    {
     "name": "stderr",
     "output_type": "stream",
     "text": [
      "INFO:etl.import_sql:Finish!<class 'us_data.models.SharadarSep'> date:from 1997-12-31 to 2020-06-15 bulk_create:100000\n",
      "INFO:etl.import_sql:Finish!<class 'us_data.models.SharadarSep'> date:from 1997-12-31 to 2020-06-15 bulk_update:0\n"
     ]
    },
    {
     "name": "stdout",
     "output_type": "stream",
     "text": [
      "135.0 13400000 13500000\n"
     ]
    },
    {
     "name": "stderr",
     "output_type": "stream",
     "text": [
      "INFO:etl.import_sql:Finish!<class 'us_data.models.SharadarSep'> date:from 1997-12-31 to 2020-06-15 bulk_create:100000\n",
      "INFO:etl.import_sql:Finish!<class 'us_data.models.SharadarSep'> date:from 1997-12-31 to 2020-06-15 bulk_update:0\n"
     ]
    },
    {
     "name": "stdout",
     "output_type": "stream",
     "text": [
      "136.0 13500000 13600000\n"
     ]
    },
    {
     "name": "stderr",
     "output_type": "stream",
     "text": [
      "INFO:etl.import_sql:Finish!<class 'us_data.models.SharadarSep'> date:from 1997-12-31 to 2020-06-15 bulk_create:100000\n",
      "INFO:etl.import_sql:Finish!<class 'us_data.models.SharadarSep'> date:from 1997-12-31 to 2020-06-15 bulk_update:0\n"
     ]
    },
    {
     "name": "stdout",
     "output_type": "stream",
     "text": [
      "137.0 13600000 13700000\n"
     ]
    },
    {
     "name": "stderr",
     "output_type": "stream",
     "text": [
      "INFO:etl.import_sql:Finish!<class 'us_data.models.SharadarSep'> date:from 1997-12-31 to 2020-06-15 bulk_create:100000\n",
      "INFO:etl.import_sql:Finish!<class 'us_data.models.SharadarSep'> date:from 1997-12-31 to 2020-06-15 bulk_update:0\n"
     ]
    },
    {
     "name": "stdout",
     "output_type": "stream",
     "text": [
      "138.0 13700000 13800000\n"
     ]
    },
    {
     "name": "stderr",
     "output_type": "stream",
     "text": [
      "INFO:etl.import_sql:Finish!<class 'us_data.models.SharadarSep'> date:from 1997-12-31 to 2020-06-15 bulk_create:100000\n",
      "INFO:etl.import_sql:Finish!<class 'us_data.models.SharadarSep'> date:from 1997-12-31 to 2020-06-15 bulk_update:0\n"
     ]
    },
    {
     "name": "stdout",
     "output_type": "stream",
     "text": [
      "139.0 13800000 13900000\n"
     ]
    },
    {
     "name": "stderr",
     "output_type": "stream",
     "text": [
      "INFO:etl.import_sql:Finish!<class 'us_data.models.SharadarSep'> date:from 1997-12-31 to 2020-06-15 bulk_create:100000\n",
      "INFO:etl.import_sql:Finish!<class 'us_data.models.SharadarSep'> date:from 1997-12-31 to 2020-06-15 bulk_update:0\n"
     ]
    },
    {
     "name": "stdout",
     "output_type": "stream",
     "text": [
      "140.0 13900000 14000000\n"
     ]
    },
    {
     "name": "stderr",
     "output_type": "stream",
     "text": [
      "INFO:etl.import_sql:Finish!<class 'us_data.models.SharadarSep'> date:from 1997-12-31 to 2020-06-15 bulk_create:100000\n",
      "INFO:etl.import_sql:Finish!<class 'us_data.models.SharadarSep'> date:from 1997-12-31 to 2020-06-15 bulk_update:0\n"
     ]
    },
    {
     "name": "stdout",
     "output_type": "stream",
     "text": [
      "141.0 14000000 14100000\n"
     ]
    },
    {
     "name": "stderr",
     "output_type": "stream",
     "text": [
      "INFO:etl.import_sql:Finish!<class 'us_data.models.SharadarSep'> date:from 1997-12-31 to 2020-06-15 bulk_create:100000\n",
      "INFO:etl.import_sql:Finish!<class 'us_data.models.SharadarSep'> date:from 1997-12-31 to 2020-06-15 bulk_update:0\n"
     ]
    },
    {
     "name": "stdout",
     "output_type": "stream",
     "text": [
      "142.0 14100000 14200000\n"
     ]
    },
    {
     "name": "stderr",
     "output_type": "stream",
     "text": [
      "INFO:etl.import_sql:Finish!<class 'us_data.models.SharadarSep'> date:from 1997-12-31 to 2020-06-15 bulk_create:100000\n",
      "INFO:etl.import_sql:Finish!<class 'us_data.models.SharadarSep'> date:from 1997-12-31 to 2020-06-15 bulk_update:0\n"
     ]
    },
    {
     "name": "stdout",
     "output_type": "stream",
     "text": [
      "143.0 14200000 14300000\n"
     ]
    },
    {
     "name": "stderr",
     "output_type": "stream",
     "text": [
      "INFO:etl.import_sql:Finish!<class 'us_data.models.SharadarSep'> date:from 1997-12-31 to 2020-06-15 bulk_create:100000\n",
      "INFO:etl.import_sql:Finish!<class 'us_data.models.SharadarSep'> date:from 1997-12-31 to 2020-06-15 bulk_update:0\n"
     ]
    },
    {
     "name": "stdout",
     "output_type": "stream",
     "text": [
      "144.0 14300000 14400000\n"
     ]
    },
    {
     "name": "stderr",
     "output_type": "stream",
     "text": [
      "INFO:etl.import_sql:Finish!<class 'us_data.models.SharadarSep'> date:from 1997-12-31 to 2020-06-15 bulk_create:100000\n",
      "INFO:etl.import_sql:Finish!<class 'us_data.models.SharadarSep'> date:from 1997-12-31 to 2020-06-15 bulk_update:0\n"
     ]
    },
    {
     "name": "stdout",
     "output_type": "stream",
     "text": [
      "145.0 14400000 14500000\n"
     ]
    },
    {
     "name": "stderr",
     "output_type": "stream",
     "text": [
      "INFO:etl.import_sql:Finish!<class 'us_data.models.SharadarSep'> date:from 1997-12-31 to 2020-06-15 bulk_create:100000\n",
      "INFO:etl.import_sql:Finish!<class 'us_data.models.SharadarSep'> date:from 1997-12-31 to 2020-06-15 bulk_update:0\n"
     ]
    },
    {
     "name": "stdout",
     "output_type": "stream",
     "text": [
      "146.0 14500000 14600000\n"
     ]
    },
    {
     "name": "stderr",
     "output_type": "stream",
     "text": [
      "INFO:etl.import_sql:Finish!<class 'us_data.models.SharadarSep'> date:from 1997-12-31 to 2020-06-15 bulk_create:100000\n",
      "INFO:etl.import_sql:Finish!<class 'us_data.models.SharadarSep'> date:from 1997-12-31 to 2020-06-15 bulk_update:0\n"
     ]
    },
    {
     "name": "stdout",
     "output_type": "stream",
     "text": [
      "147.0 14600000 14700000\n"
     ]
    },
    {
     "name": "stderr",
     "output_type": "stream",
     "text": [
      "INFO:etl.import_sql:Finish!<class 'us_data.models.SharadarSep'> date:from 1997-12-31 to 2020-06-15 bulk_create:100000\n",
      "INFO:etl.import_sql:Finish!<class 'us_data.models.SharadarSep'> date:from 1997-12-31 to 2020-06-15 bulk_update:0\n"
     ]
    },
    {
     "name": "stdout",
     "output_type": "stream",
     "text": [
      "148.0 14700000 14800000\n"
     ]
    },
    {
     "name": "stderr",
     "output_type": "stream",
     "text": [
      "INFO:etl.import_sql:Finish!<class 'us_data.models.SharadarSep'> date:from 1997-12-31 to 2020-06-15 bulk_create:100000\n",
      "INFO:etl.import_sql:Finish!<class 'us_data.models.SharadarSep'> date:from 1997-12-31 to 2020-06-15 bulk_update:0\n"
     ]
    },
    {
     "name": "stdout",
     "output_type": "stream",
     "text": [
      "149.0 14800000 14900000\n"
     ]
    },
    {
     "name": "stderr",
     "output_type": "stream",
     "text": [
      "INFO:etl.import_sql:Finish!<class 'us_data.models.SharadarSep'> date:from 1997-12-31 to 2020-06-15 bulk_create:100000\n",
      "INFO:etl.import_sql:Finish!<class 'us_data.models.SharadarSep'> date:from 1997-12-31 to 2020-06-15 bulk_update:0\n"
     ]
    },
    {
     "name": "stdout",
     "output_type": "stream",
     "text": [
      "150.0 14900000 15000000\n"
     ]
    },
    {
     "name": "stderr",
     "output_type": "stream",
     "text": [
      "INFO:etl.import_sql:Finish!<class 'us_data.models.SharadarSep'> date:from 1997-12-31 to 2020-06-15 bulk_create:100000\n",
      "INFO:etl.import_sql:Finish!<class 'us_data.models.SharadarSep'> date:from 1997-12-31 to 2020-06-15 bulk_update:0\n"
     ]
    },
    {
     "name": "stdout",
     "output_type": "stream",
     "text": [
      "151.0 15000000 15100000\n"
     ]
    },
    {
     "name": "stderr",
     "output_type": "stream",
     "text": [
      "INFO:etl.import_sql:Finish!<class 'us_data.models.SharadarSep'> date:from 1997-12-31 to 2020-06-15 bulk_create:100000\n",
      "INFO:etl.import_sql:Finish!<class 'us_data.models.SharadarSep'> date:from 1997-12-31 to 2020-06-15 bulk_update:0\n"
     ]
    },
    {
     "name": "stdout",
     "output_type": "stream",
     "text": [
      "152.0 15100000 15200000\n"
     ]
    },
    {
     "name": "stderr",
     "output_type": "stream",
     "text": [
      "INFO:etl.import_sql:Finish!<class 'us_data.models.SharadarSep'> date:from 1997-12-31 to 2020-06-15 bulk_create:100000\n",
      "INFO:etl.import_sql:Finish!<class 'us_data.models.SharadarSep'> date:from 1997-12-31 to 2020-06-15 bulk_update:0\n"
     ]
    },
    {
     "name": "stdout",
     "output_type": "stream",
     "text": [
      "153.0 15200000 15300000\n"
     ]
    },
    {
     "name": "stderr",
     "output_type": "stream",
     "text": [
      "INFO:etl.import_sql:Finish!<class 'us_data.models.SharadarSep'> date:from 1997-12-31 to 2020-06-15 bulk_create:100000\n",
      "INFO:etl.import_sql:Finish!<class 'us_data.models.SharadarSep'> date:from 1997-12-31 to 2020-06-15 bulk_update:0\n"
     ]
    },
    {
     "name": "stdout",
     "output_type": "stream",
     "text": [
      "154.0 15300000 15400000\n"
     ]
    },
    {
     "name": "stderr",
     "output_type": "stream",
     "text": [
      "INFO:etl.import_sql:Finish!<class 'us_data.models.SharadarSep'> date:from 1997-12-31 to 2020-06-15 bulk_create:100000\n",
      "INFO:etl.import_sql:Finish!<class 'us_data.models.SharadarSep'> date:from 1997-12-31 to 2020-06-15 bulk_update:0\n"
     ]
    },
    {
     "name": "stdout",
     "output_type": "stream",
     "text": [
      "155.0 15400000 15500000\n"
     ]
    },
    {
     "name": "stderr",
     "output_type": "stream",
     "text": [
      "INFO:etl.import_sql:Finish!<class 'us_data.models.SharadarSep'> date:from 1997-12-31 to 2020-06-15 bulk_create:100000\n",
      "INFO:etl.import_sql:Finish!<class 'us_data.models.SharadarSep'> date:from 1997-12-31 to 2020-06-15 bulk_update:0\n"
     ]
    },
    {
     "name": "stdout",
     "output_type": "stream",
     "text": [
      "156.0 15500000 15600000\n"
     ]
    },
    {
     "name": "stderr",
     "output_type": "stream",
     "text": [
      "INFO:etl.import_sql:Finish!<class 'us_data.models.SharadarSep'> date:from 1997-12-31 to 2020-06-15 bulk_create:100000\n",
      "INFO:etl.import_sql:Finish!<class 'us_data.models.SharadarSep'> date:from 1997-12-31 to 2020-06-15 bulk_update:0\n"
     ]
    },
    {
     "name": "stdout",
     "output_type": "stream",
     "text": [
      "157.0 15600000 15700000\n"
     ]
    },
    {
     "name": "stderr",
     "output_type": "stream",
     "text": [
      "INFO:etl.import_sql:Finish!<class 'us_data.models.SharadarSep'> date:from 1997-12-31 to 2020-06-15 bulk_create:100000\n",
      "INFO:etl.import_sql:Finish!<class 'us_data.models.SharadarSep'> date:from 1997-12-31 to 2020-06-15 bulk_update:0\n"
     ]
    },
    {
     "name": "stdout",
     "output_type": "stream",
     "text": [
      "158.0 15700000 15800000\n"
     ]
    },
    {
     "name": "stderr",
     "output_type": "stream",
     "text": [
      "INFO:etl.import_sql:Finish!<class 'us_data.models.SharadarSep'> date:from 1997-12-31 to 2020-06-15 bulk_create:100000\n",
      "INFO:etl.import_sql:Finish!<class 'us_data.models.SharadarSep'> date:from 1997-12-31 to 2020-06-15 bulk_update:0\n"
     ]
    },
    {
     "name": "stdout",
     "output_type": "stream",
     "text": [
      "159.0 15800000 15900000\n"
     ]
    },
    {
     "name": "stderr",
     "output_type": "stream",
     "text": [
      "INFO:etl.import_sql:Finish!<class 'us_data.models.SharadarSep'> date:from 1997-12-31 to 2020-06-15 bulk_create:100000\n",
      "INFO:etl.import_sql:Finish!<class 'us_data.models.SharadarSep'> date:from 1997-12-31 to 2020-06-15 bulk_update:0\n"
     ]
    },
    {
     "name": "stdout",
     "output_type": "stream",
     "text": [
      "160.0 15900000 16000000\n"
     ]
    },
    {
     "name": "stderr",
     "output_type": "stream",
     "text": [
      "INFO:etl.import_sql:Finish!<class 'us_data.models.SharadarSep'> date:from 1997-12-31 to 2020-06-15 bulk_create:100000\n",
      "INFO:etl.import_sql:Finish!<class 'us_data.models.SharadarSep'> date:from 1997-12-31 to 2020-06-15 bulk_update:0\n"
     ]
    },
    {
     "name": "stdout",
     "output_type": "stream",
     "text": [
      "161.0 16000000 16100000\n"
     ]
    },
    {
     "name": "stderr",
     "output_type": "stream",
     "text": [
      "INFO:etl.import_sql:Finish!<class 'us_data.models.SharadarSep'> date:from 1997-12-31 to 2020-06-15 bulk_create:100000\n",
      "INFO:etl.import_sql:Finish!<class 'us_data.models.SharadarSep'> date:from 1997-12-31 to 2020-06-15 bulk_update:0\n"
     ]
    },
    {
     "name": "stdout",
     "output_type": "stream",
     "text": [
      "162.0 16100000 16200000\n"
     ]
    },
    {
     "name": "stderr",
     "output_type": "stream",
     "text": [
      "INFO:etl.import_sql:Finish!<class 'us_data.models.SharadarSep'> date:from 1997-12-31 to 2020-06-15 bulk_create:100000\n",
      "INFO:etl.import_sql:Finish!<class 'us_data.models.SharadarSep'> date:from 1997-12-31 to 2020-06-15 bulk_update:0\n"
     ]
    },
    {
     "name": "stdout",
     "output_type": "stream",
     "text": [
      "163.0 16200000 16300000\n"
     ]
    },
    {
     "name": "stderr",
     "output_type": "stream",
     "text": [
      "INFO:etl.import_sql:Finish!<class 'us_data.models.SharadarSep'> date:from 1997-12-31 to 2020-06-15 bulk_create:100000\n",
      "INFO:etl.import_sql:Finish!<class 'us_data.models.SharadarSep'> date:from 1997-12-31 to 2020-06-15 bulk_update:0\n"
     ]
    },
    {
     "name": "stdout",
     "output_type": "stream",
     "text": [
      "164.0 16300000 16400000\n"
     ]
    },
    {
     "name": "stderr",
     "output_type": "stream",
     "text": [
      "INFO:etl.import_sql:Finish!<class 'us_data.models.SharadarSep'> date:from 1997-12-31 to 2020-06-15 bulk_create:100000\n",
      "INFO:etl.import_sql:Finish!<class 'us_data.models.SharadarSep'> date:from 1997-12-31 to 2020-06-15 bulk_update:0\n"
     ]
    },
    {
     "name": "stdout",
     "output_type": "stream",
     "text": [
      "165.0 16400000 16500000\n"
     ]
    },
    {
     "name": "stderr",
     "output_type": "stream",
     "text": [
      "INFO:etl.import_sql:Finish!<class 'us_data.models.SharadarSep'> date:from 1997-12-31 to 2020-06-15 bulk_create:100000\n",
      "INFO:etl.import_sql:Finish!<class 'us_data.models.SharadarSep'> date:from 1997-12-31 to 2020-06-15 bulk_update:0\n"
     ]
    },
    {
     "name": "stdout",
     "output_type": "stream",
     "text": [
      "166.0 16500000 16600000\n"
     ]
    },
    {
     "name": "stderr",
     "output_type": "stream",
     "text": [
      "INFO:etl.import_sql:Finish!<class 'us_data.models.SharadarSep'> date:from 1997-12-31 to 2020-06-15 bulk_create:100000\n",
      "INFO:etl.import_sql:Finish!<class 'us_data.models.SharadarSep'> date:from 1997-12-31 to 2020-06-15 bulk_update:0\n"
     ]
    },
    {
     "name": "stdout",
     "output_type": "stream",
     "text": [
      "167.0 16600000 16700000\n"
     ]
    },
    {
     "name": "stderr",
     "output_type": "stream",
     "text": [
      "INFO:etl.import_sql:Finish!<class 'us_data.models.SharadarSep'> date:from 1997-12-31 to 2020-06-15 bulk_create:100000\n",
      "INFO:etl.import_sql:Finish!<class 'us_data.models.SharadarSep'> date:from 1997-12-31 to 2020-06-15 bulk_update:0\n"
     ]
    },
    {
     "name": "stdout",
     "output_type": "stream",
     "text": [
      "168.0 16700000 16800000\n"
     ]
    },
    {
     "name": "stderr",
     "output_type": "stream",
     "text": [
      "INFO:etl.import_sql:Finish!<class 'us_data.models.SharadarSep'> date:from 1997-12-31 to 2020-06-15 bulk_create:100000\n",
      "INFO:etl.import_sql:Finish!<class 'us_data.models.SharadarSep'> date:from 1997-12-31 to 2020-06-15 bulk_update:0\n"
     ]
    },
    {
     "name": "stdout",
     "output_type": "stream",
     "text": [
      "169.0 16800000 16900000\n"
     ]
    },
    {
     "name": "stderr",
     "output_type": "stream",
     "text": [
      "INFO:etl.import_sql:Finish!<class 'us_data.models.SharadarSep'> date:from 1997-12-31 to 2020-06-15 bulk_create:100000\n",
      "INFO:etl.import_sql:Finish!<class 'us_data.models.SharadarSep'> date:from 1997-12-31 to 2020-06-15 bulk_update:0\n"
     ]
    },
    {
     "name": "stdout",
     "output_type": "stream",
     "text": [
      "170.0 16900000 17000000\n"
     ]
    },
    {
     "name": "stderr",
     "output_type": "stream",
     "text": [
      "INFO:etl.import_sql:Finish!<class 'us_data.models.SharadarSep'> date:from 1997-12-31 to 2020-06-15 bulk_create:100000\n",
      "INFO:etl.import_sql:Finish!<class 'us_data.models.SharadarSep'> date:from 1997-12-31 to 2020-06-15 bulk_update:0\n"
     ]
    },
    {
     "name": "stdout",
     "output_type": "stream",
     "text": [
      "171.0 17000000 17100000\n"
     ]
    },
    {
     "name": "stderr",
     "output_type": "stream",
     "text": [
      "INFO:etl.import_sql:Finish!<class 'us_data.models.SharadarSep'> date:from 1997-12-31 to 2020-06-15 bulk_create:100000\n",
      "INFO:etl.import_sql:Finish!<class 'us_data.models.SharadarSep'> date:from 1997-12-31 to 2020-06-15 bulk_update:0\n"
     ]
    },
    {
     "name": "stdout",
     "output_type": "stream",
     "text": [
      "172.0 17100000 17200000\n"
     ]
    },
    {
     "name": "stderr",
     "output_type": "stream",
     "text": [
      "INFO:etl.import_sql:Finish!<class 'us_data.models.SharadarSep'> date:from 1997-12-31 to 2020-06-15 bulk_create:100000\n",
      "INFO:etl.import_sql:Finish!<class 'us_data.models.SharadarSep'> date:from 1997-12-31 to 2020-06-15 bulk_update:0\n"
     ]
    },
    {
     "name": "stdout",
     "output_type": "stream",
     "text": [
      "173.0 17200000 17300000\n"
     ]
    },
    {
     "name": "stderr",
     "output_type": "stream",
     "text": [
      "INFO:etl.import_sql:Finish!<class 'us_data.models.SharadarSep'> date:from 1997-12-31 to 2020-06-15 bulk_create:100000\n",
      "INFO:etl.import_sql:Finish!<class 'us_data.models.SharadarSep'> date:from 1997-12-31 to 2020-06-15 bulk_update:0\n"
     ]
    },
    {
     "name": "stdout",
     "output_type": "stream",
     "text": [
      "174.0 17300000 17400000\n"
     ]
    },
    {
     "name": "stderr",
     "output_type": "stream",
     "text": [
      "INFO:etl.import_sql:Finish!<class 'us_data.models.SharadarSep'> date:from 1997-12-31 to 2020-06-15 bulk_create:100000\n",
      "INFO:etl.import_sql:Finish!<class 'us_data.models.SharadarSep'> date:from 1997-12-31 to 2020-06-15 bulk_update:0\n"
     ]
    },
    {
     "name": "stdout",
     "output_type": "stream",
     "text": [
      "175.0 17400000 17500000\n"
     ]
    },
    {
     "name": "stderr",
     "output_type": "stream",
     "text": [
      "INFO:etl.import_sql:Finish!<class 'us_data.models.SharadarSep'> date:from 1997-12-31 to 2020-06-15 bulk_create:100000\n",
      "INFO:etl.import_sql:Finish!<class 'us_data.models.SharadarSep'> date:from 1997-12-31 to 2020-06-15 bulk_update:0\n"
     ]
    },
    {
     "name": "stdout",
     "output_type": "stream",
     "text": [
      "176.0 17500000 17600000\n"
     ]
    },
    {
     "name": "stderr",
     "output_type": "stream",
     "text": [
      "INFO:etl.import_sql:Finish!<class 'us_data.models.SharadarSep'> date:from 1997-12-31 to 2020-06-15 bulk_create:100000\n",
      "INFO:etl.import_sql:Finish!<class 'us_data.models.SharadarSep'> date:from 1997-12-31 to 2020-06-15 bulk_update:0\n"
     ]
    },
    {
     "name": "stdout",
     "output_type": "stream",
     "text": [
      "177.0 17600000 17700000\n"
     ]
    },
    {
     "name": "stderr",
     "output_type": "stream",
     "text": [
      "INFO:etl.import_sql:Finish!<class 'us_data.models.SharadarSep'> date:from 1997-12-31 to 2020-06-15 bulk_create:100000\n",
      "INFO:etl.import_sql:Finish!<class 'us_data.models.SharadarSep'> date:from 1997-12-31 to 2020-06-15 bulk_update:0\n"
     ]
    },
    {
     "name": "stdout",
     "output_type": "stream",
     "text": [
      "178.0 17700000 17800000\n"
     ]
    },
    {
     "name": "stderr",
     "output_type": "stream",
     "text": [
      "INFO:etl.import_sql:Finish!<class 'us_data.models.SharadarSep'> date:from 1997-12-31 to 2020-06-15 bulk_create:100000\n",
      "INFO:etl.import_sql:Finish!<class 'us_data.models.SharadarSep'> date:from 1997-12-31 to 2020-06-15 bulk_update:0\n"
     ]
    },
    {
     "name": "stdout",
     "output_type": "stream",
     "text": [
      "179.0 17800000 17900000\n"
     ]
    },
    {
     "name": "stderr",
     "output_type": "stream",
     "text": [
      "INFO:etl.import_sql:Finish!<class 'us_data.models.SharadarSep'> date:from 1997-12-31 to 2020-06-15 bulk_create:100000\n",
      "INFO:etl.import_sql:Finish!<class 'us_data.models.SharadarSep'> date:from 1997-12-31 to 2020-06-15 bulk_update:0\n"
     ]
    },
    {
     "name": "stdout",
     "output_type": "stream",
     "text": [
      "180.0 17900000 18000000\n"
     ]
    },
    {
     "name": "stderr",
     "output_type": "stream",
     "text": [
      "INFO:etl.import_sql:Finish!<class 'us_data.models.SharadarSep'> date:from 1997-12-31 to 2020-06-15 bulk_create:100000\n",
      "INFO:etl.import_sql:Finish!<class 'us_data.models.SharadarSep'> date:from 1997-12-31 to 2020-06-15 bulk_update:0\n"
     ]
    },
    {
     "name": "stdout",
     "output_type": "stream",
     "text": [
      "181.0 18000000 18100000\n"
     ]
    },
    {
     "name": "stderr",
     "output_type": "stream",
     "text": [
      "INFO:etl.import_sql:Finish!<class 'us_data.models.SharadarSep'> date:from 1997-12-31 to 2020-06-15 bulk_create:100000\n",
      "INFO:etl.import_sql:Finish!<class 'us_data.models.SharadarSep'> date:from 1997-12-31 to 2020-06-15 bulk_update:0\n"
     ]
    },
    {
     "name": "stdout",
     "output_type": "stream",
     "text": [
      "182.0 18100000 18200000\n"
     ]
    },
    {
     "name": "stderr",
     "output_type": "stream",
     "text": [
      "INFO:etl.import_sql:Finish!<class 'us_data.models.SharadarSep'> date:from 1997-12-31 to 2020-06-15 bulk_create:100000\n",
      "INFO:etl.import_sql:Finish!<class 'us_data.models.SharadarSep'> date:from 1997-12-31 to 2020-06-15 bulk_update:0\n"
     ]
    },
    {
     "name": "stdout",
     "output_type": "stream",
     "text": [
      "183.0 18200000 18300000\n"
     ]
    },
    {
     "name": "stderr",
     "output_type": "stream",
     "text": [
      "INFO:etl.import_sql:Finish!<class 'us_data.models.SharadarSep'> date:from 1997-12-31 to 2020-06-15 bulk_create:100000\n",
      "INFO:etl.import_sql:Finish!<class 'us_data.models.SharadarSep'> date:from 1997-12-31 to 2020-06-15 bulk_update:0\n"
     ]
    },
    {
     "name": "stdout",
     "output_type": "stream",
     "text": [
      "184.0 18300000 18400000\n"
     ]
    },
    {
     "name": "stderr",
     "output_type": "stream",
     "text": [
      "INFO:etl.import_sql:Finish!<class 'us_data.models.SharadarSep'> date:from 1997-12-31 to 2020-06-15 bulk_create:100000\n",
      "INFO:etl.import_sql:Finish!<class 'us_data.models.SharadarSep'> date:from 1997-12-31 to 2020-06-15 bulk_update:0\n"
     ]
    },
    {
     "name": "stdout",
     "output_type": "stream",
     "text": [
      "185.0 18400000 18500000\n"
     ]
    },
    {
     "name": "stderr",
     "output_type": "stream",
     "text": [
      "INFO:etl.import_sql:Finish!<class 'us_data.models.SharadarSep'> date:from 1997-12-31 to 2020-06-15 bulk_create:100000\n",
      "INFO:etl.import_sql:Finish!<class 'us_data.models.SharadarSep'> date:from 1997-12-31 to 2020-06-15 bulk_update:0\n"
     ]
    },
    {
     "name": "stdout",
     "output_type": "stream",
     "text": [
      "186.0 18500000 18600000\n"
     ]
    },
    {
     "name": "stderr",
     "output_type": "stream",
     "text": [
      "INFO:etl.import_sql:Finish!<class 'us_data.models.SharadarSep'> date:from 1997-12-31 to 2020-06-15 bulk_create:100000\n",
      "INFO:etl.import_sql:Finish!<class 'us_data.models.SharadarSep'> date:from 1997-12-31 to 2020-06-15 bulk_update:0\n"
     ]
    },
    {
     "name": "stdout",
     "output_type": "stream",
     "text": [
      "187.0 18600000 18700000\n"
     ]
    },
    {
     "name": "stderr",
     "output_type": "stream",
     "text": [
      "INFO:etl.import_sql:Finish!<class 'us_data.models.SharadarSep'> date:from 1997-12-31 to 2020-06-15 bulk_create:100000\n",
      "INFO:etl.import_sql:Finish!<class 'us_data.models.SharadarSep'> date:from 1997-12-31 to 2020-06-15 bulk_update:0\n"
     ]
    },
    {
     "name": "stdout",
     "output_type": "stream",
     "text": [
      "188.0 18700000 18800000\n"
     ]
    },
    {
     "name": "stderr",
     "output_type": "stream",
     "text": [
      "INFO:etl.import_sql:Finish!<class 'us_data.models.SharadarSep'> date:from 1997-12-31 to 2020-06-15 bulk_create:100000\n",
      "INFO:etl.import_sql:Finish!<class 'us_data.models.SharadarSep'> date:from 1997-12-31 to 2020-06-15 bulk_update:0\n"
     ]
    },
    {
     "name": "stdout",
     "output_type": "stream",
     "text": [
      "189.0 18800000 18900000\n"
     ]
    },
    {
     "name": "stderr",
     "output_type": "stream",
     "text": [
      "INFO:etl.import_sql:Finish!<class 'us_data.models.SharadarSep'> date:from 1997-12-31 to 2020-06-15 bulk_create:100000\n",
      "INFO:etl.import_sql:Finish!<class 'us_data.models.SharadarSep'> date:from 1997-12-31 to 2020-06-15 bulk_update:0\n"
     ]
    },
    {
     "name": "stdout",
     "output_type": "stream",
     "text": [
      "190.0 18900000 19000000\n"
     ]
    },
    {
     "name": "stderr",
     "output_type": "stream",
     "text": [
      "INFO:etl.import_sql:Finish!<class 'us_data.models.SharadarSep'> date:from 1997-12-31 to 2020-06-15 bulk_create:100000\n",
      "INFO:etl.import_sql:Finish!<class 'us_data.models.SharadarSep'> date:from 1997-12-31 to 2020-06-15 bulk_update:0\n"
     ]
    },
    {
     "name": "stdout",
     "output_type": "stream",
     "text": [
      "191.0 19000000 19100000\n"
     ]
    },
    {
     "name": "stderr",
     "output_type": "stream",
     "text": [
      "INFO:etl.import_sql:Finish!<class 'us_data.models.SharadarSep'> date:from 1997-12-31 to 2020-06-15 bulk_create:100000\n",
      "INFO:etl.import_sql:Finish!<class 'us_data.models.SharadarSep'> date:from 1997-12-31 to 2020-06-15 bulk_update:0\n"
     ]
    },
    {
     "name": "stdout",
     "output_type": "stream",
     "text": [
      "192.0 19100000 19200000\n"
     ]
    },
    {
     "name": "stderr",
     "output_type": "stream",
     "text": [
      "INFO:etl.import_sql:Finish!<class 'us_data.models.SharadarSep'> date:from 1997-12-31 to 2020-06-15 bulk_create:100000\n",
      "INFO:etl.import_sql:Finish!<class 'us_data.models.SharadarSep'> date:from 1997-12-31 to 2020-06-15 bulk_update:0\n"
     ]
    },
    {
     "name": "stdout",
     "output_type": "stream",
     "text": [
      "193.0 19200000 19300000\n"
     ]
    },
    {
     "name": "stderr",
     "output_type": "stream",
     "text": [
      "INFO:etl.import_sql:Finish!<class 'us_data.models.SharadarSep'> date:from 1997-12-31 to 2020-06-15 bulk_create:100000\n",
      "INFO:etl.import_sql:Finish!<class 'us_data.models.SharadarSep'> date:from 1997-12-31 to 2020-06-15 bulk_update:0\n"
     ]
    },
    {
     "name": "stdout",
     "output_type": "stream",
     "text": [
      "194.0 19300000 19400000\n"
     ]
    },
    {
     "name": "stderr",
     "output_type": "stream",
     "text": [
      "INFO:etl.import_sql:Finish!<class 'us_data.models.SharadarSep'> date:from 1997-12-31 to 2020-06-15 bulk_create:100000\n",
      "INFO:etl.import_sql:Finish!<class 'us_data.models.SharadarSep'> date:from 1997-12-31 to 2020-06-15 bulk_update:0\n"
     ]
    },
    {
     "name": "stdout",
     "output_type": "stream",
     "text": [
      "195.0 19400000 19500000\n"
     ]
    },
    {
     "name": "stderr",
     "output_type": "stream",
     "text": [
      "INFO:etl.import_sql:Finish!<class 'us_data.models.SharadarSep'> date:from 1997-12-31 to 2020-06-15 bulk_create:100000\n",
      "INFO:etl.import_sql:Finish!<class 'us_data.models.SharadarSep'> date:from 1997-12-31 to 2020-06-15 bulk_update:0\n"
     ]
    },
    {
     "name": "stdout",
     "output_type": "stream",
     "text": [
      "196.0 19500000 19600000\n"
     ]
    },
    {
     "name": "stderr",
     "output_type": "stream",
     "text": [
      "INFO:etl.import_sql:Finish!<class 'us_data.models.SharadarSep'> date:from 1997-12-31 to 2020-06-15 bulk_create:100000\n",
      "INFO:etl.import_sql:Finish!<class 'us_data.models.SharadarSep'> date:from 1997-12-31 to 2020-06-15 bulk_update:0\n"
     ]
    },
    {
     "name": "stdout",
     "output_type": "stream",
     "text": [
      "197.0 19600000 19700000\n"
     ]
    },
    {
     "name": "stderr",
     "output_type": "stream",
     "text": [
      "INFO:etl.import_sql:Finish!<class 'us_data.models.SharadarSep'> date:from 1997-12-31 to 2020-06-15 bulk_create:100000\n",
      "INFO:etl.import_sql:Finish!<class 'us_data.models.SharadarSep'> date:from 1997-12-31 to 2020-06-15 bulk_update:0\n"
     ]
    },
    {
     "name": "stdout",
     "output_type": "stream",
     "text": [
      "198.0 19700000 19800000\n"
     ]
    },
    {
     "name": "stderr",
     "output_type": "stream",
     "text": [
      "INFO:etl.import_sql:Finish!<class 'us_data.models.SharadarSep'> date:from 1997-12-31 to 2020-06-15 bulk_create:100000\n",
      "INFO:etl.import_sql:Finish!<class 'us_data.models.SharadarSep'> date:from 1997-12-31 to 2020-06-15 bulk_update:0\n"
     ]
    },
    {
     "name": "stdout",
     "output_type": "stream",
     "text": [
      "199.0 19800000 19900000\n"
     ]
    },
    {
     "name": "stderr",
     "output_type": "stream",
     "text": [
      "INFO:etl.import_sql:Finish!<class 'us_data.models.SharadarSep'> date:from 1997-12-31 to 2020-06-15 bulk_create:100000\n",
      "INFO:etl.import_sql:Finish!<class 'us_data.models.SharadarSep'> date:from 1997-12-31 to 2020-06-15 bulk_update:0\n"
     ]
    },
    {
     "name": "stdout",
     "output_type": "stream",
     "text": [
      "200.0 19900000 20000000\n"
     ]
    },
    {
     "name": "stderr",
     "output_type": "stream",
     "text": [
      "INFO:etl.import_sql:Finish!<class 'us_data.models.SharadarSep'> date:from 1997-12-31 to 2020-06-15 bulk_create:100000\n",
      "INFO:etl.import_sql:Finish!<class 'us_data.models.SharadarSep'> date:from 1997-12-31 to 2020-06-15 bulk_update:0\n"
     ]
    },
    {
     "name": "stdout",
     "output_type": "stream",
     "text": [
      "201.0 20000000 20100000\n"
     ]
    },
    {
     "name": "stderr",
     "output_type": "stream",
     "text": [
      "INFO:etl.import_sql:Finish!<class 'us_data.models.SharadarSep'> date:from 1997-12-31 to 2020-06-15 bulk_create:100000\n",
      "INFO:etl.import_sql:Finish!<class 'us_data.models.SharadarSep'> date:from 1997-12-31 to 2020-06-15 bulk_update:0\n"
     ]
    },
    {
     "name": "stdout",
     "output_type": "stream",
     "text": [
      "202.0 20100000 20200000\n"
     ]
    },
    {
     "name": "stderr",
     "output_type": "stream",
     "text": [
      "INFO:etl.import_sql:Finish!<class 'us_data.models.SharadarSep'> date:from 1997-12-31 to 2020-06-15 bulk_create:100000\n",
      "INFO:etl.import_sql:Finish!<class 'us_data.models.SharadarSep'> date:from 1997-12-31 to 2020-06-15 bulk_update:0\n"
     ]
    },
    {
     "name": "stdout",
     "output_type": "stream",
     "text": [
      "203.0 20200000 20300000\n"
     ]
    },
    {
     "name": "stderr",
     "output_type": "stream",
     "text": [
      "INFO:etl.import_sql:Finish!<class 'us_data.models.SharadarSep'> date:from 1997-12-31 to 2020-06-15 bulk_create:100000\n",
      "INFO:etl.import_sql:Finish!<class 'us_data.models.SharadarSep'> date:from 1997-12-31 to 2020-06-15 bulk_update:0\n"
     ]
    },
    {
     "name": "stdout",
     "output_type": "stream",
     "text": [
      "204.0 20300000 20400000\n"
     ]
    },
    {
     "name": "stderr",
     "output_type": "stream",
     "text": [
      "INFO:etl.import_sql:Finish!<class 'us_data.models.SharadarSep'> date:from 1997-12-31 to 2020-06-15 bulk_create:100000\n",
      "INFO:etl.import_sql:Finish!<class 'us_data.models.SharadarSep'> date:from 1997-12-31 to 2020-06-15 bulk_update:0\n"
     ]
    },
    {
     "name": "stdout",
     "output_type": "stream",
     "text": [
      "205.0 20400000 20500000\n"
     ]
    },
    {
     "name": "stderr",
     "output_type": "stream",
     "text": [
      "INFO:etl.import_sql:Finish!<class 'us_data.models.SharadarSep'> date:from 1997-12-31 to 2020-06-15 bulk_create:100000\n",
      "INFO:etl.import_sql:Finish!<class 'us_data.models.SharadarSep'> date:from 1997-12-31 to 2020-06-15 bulk_update:0\n"
     ]
    },
    {
     "name": "stdout",
     "output_type": "stream",
     "text": [
      "206.0 20500000 20600000\n"
     ]
    },
    {
     "name": "stderr",
     "output_type": "stream",
     "text": [
      "INFO:etl.import_sql:Finish!<class 'us_data.models.SharadarSep'> date:from 1997-12-31 to 2020-06-15 bulk_create:100000\n",
      "INFO:etl.import_sql:Finish!<class 'us_data.models.SharadarSep'> date:from 1997-12-31 to 2020-06-15 bulk_update:0\n"
     ]
    },
    {
     "name": "stdout",
     "output_type": "stream",
     "text": [
      "207.0 20600000 20700000\n"
     ]
    },
    {
     "name": "stderr",
     "output_type": "stream",
     "text": [
      "INFO:etl.import_sql:Finish!<class 'us_data.models.SharadarSep'> date:from 1997-12-31 to 2020-06-15 bulk_create:100000\n",
      "INFO:etl.import_sql:Finish!<class 'us_data.models.SharadarSep'> date:from 1997-12-31 to 2020-06-15 bulk_update:0\n"
     ]
    },
    {
     "name": "stdout",
     "output_type": "stream",
     "text": [
      "208.0 20700000 20800000\n"
     ]
    },
    {
     "name": "stderr",
     "output_type": "stream",
     "text": [
      "INFO:etl.import_sql:Finish!<class 'us_data.models.SharadarSep'> date:from 1997-12-31 to 2020-06-15 bulk_create:100000\n",
      "INFO:etl.import_sql:Finish!<class 'us_data.models.SharadarSep'> date:from 1997-12-31 to 2020-06-15 bulk_update:0\n"
     ]
    },
    {
     "name": "stdout",
     "output_type": "stream",
     "text": [
      "209.0 20800000 20900000\n"
     ]
    },
    {
     "name": "stderr",
     "output_type": "stream",
     "text": [
      "INFO:etl.import_sql:Finish!<class 'us_data.models.SharadarSep'> date:from 1997-12-31 to 2020-06-15 bulk_create:100000\n",
      "INFO:etl.import_sql:Finish!<class 'us_data.models.SharadarSep'> date:from 1997-12-31 to 2020-06-15 bulk_update:0\n"
     ]
    },
    {
     "name": "stdout",
     "output_type": "stream",
     "text": [
      "210.0 20900000 21000000\n"
     ]
    },
    {
     "name": "stderr",
     "output_type": "stream",
     "text": [
      "INFO:etl.import_sql:Finish!<class 'us_data.models.SharadarSep'> date:from 1997-12-31 to 2020-06-15 bulk_create:100000\n",
      "INFO:etl.import_sql:Finish!<class 'us_data.models.SharadarSep'> date:from 1997-12-31 to 2020-06-15 bulk_update:0\n"
     ]
    },
    {
     "name": "stdout",
     "output_type": "stream",
     "text": [
      "211.0 21000000 21100000\n"
     ]
    },
    {
     "name": "stderr",
     "output_type": "stream",
     "text": [
      "INFO:etl.import_sql:Finish!<class 'us_data.models.SharadarSep'> date:from 1997-12-31 to 2020-06-15 bulk_create:100000\n",
      "INFO:etl.import_sql:Finish!<class 'us_data.models.SharadarSep'> date:from 1997-12-31 to 2020-06-15 bulk_update:0\n"
     ]
    },
    {
     "name": "stdout",
     "output_type": "stream",
     "text": [
      "212.0 21100000 21200000\n"
     ]
    },
    {
     "name": "stderr",
     "output_type": "stream",
     "text": [
      "INFO:etl.import_sql:Finish!<class 'us_data.models.SharadarSep'> date:from 1997-12-31 to 2020-06-15 bulk_create:100000\n",
      "INFO:etl.import_sql:Finish!<class 'us_data.models.SharadarSep'> date:from 1997-12-31 to 2020-06-15 bulk_update:0\n"
     ]
    },
    {
     "name": "stdout",
     "output_type": "stream",
     "text": [
      "213.0 21200000 21300000\n"
     ]
    },
    {
     "name": "stderr",
     "output_type": "stream",
     "text": [
      "INFO:etl.import_sql:Finish!<class 'us_data.models.SharadarSep'> date:from 1997-12-31 to 2020-06-15 bulk_create:100000\n",
      "INFO:etl.import_sql:Finish!<class 'us_data.models.SharadarSep'> date:from 1997-12-31 to 2020-06-15 bulk_update:0\n"
     ]
    },
    {
     "name": "stdout",
     "output_type": "stream",
     "text": [
      "214.0 21300000 21400000\n"
     ]
    },
    {
     "name": "stderr",
     "output_type": "stream",
     "text": [
      "INFO:etl.import_sql:Finish!<class 'us_data.models.SharadarSep'> date:from 1997-12-31 to 2020-06-15 bulk_create:100000\n",
      "INFO:etl.import_sql:Finish!<class 'us_data.models.SharadarSep'> date:from 1997-12-31 to 2020-06-15 bulk_update:0\n"
     ]
    },
    {
     "name": "stdout",
     "output_type": "stream",
     "text": [
      "215.0 21400000 21500000\n"
     ]
    },
    {
     "name": "stderr",
     "output_type": "stream",
     "text": [
      "INFO:etl.import_sql:Finish!<class 'us_data.models.SharadarSep'> date:from 1997-12-31 to 2020-06-15 bulk_create:100000\n",
      "INFO:etl.import_sql:Finish!<class 'us_data.models.SharadarSep'> date:from 1997-12-31 to 2020-06-15 bulk_update:0\n"
     ]
    },
    {
     "name": "stdout",
     "output_type": "stream",
     "text": [
      "216.0 21500000 21600000\n"
     ]
    },
    {
     "name": "stderr",
     "output_type": "stream",
     "text": [
      "INFO:etl.import_sql:Finish!<class 'us_data.models.SharadarSep'> date:from 1997-12-31 to 2020-06-15 bulk_create:100000\n",
      "INFO:etl.import_sql:Finish!<class 'us_data.models.SharadarSep'> date:from 1997-12-31 to 2020-06-15 bulk_update:0\n"
     ]
    },
    {
     "name": "stdout",
     "output_type": "stream",
     "text": [
      "217.0 21600000 21700000\n"
     ]
    },
    {
     "name": "stderr",
     "output_type": "stream",
     "text": [
      "INFO:etl.import_sql:Finish!<class 'us_data.models.SharadarSep'> date:from 1997-12-31 to 2020-06-15 bulk_create:100000\n",
      "INFO:etl.import_sql:Finish!<class 'us_data.models.SharadarSep'> date:from 1997-12-31 to 2020-06-15 bulk_update:0\n"
     ]
    },
    {
     "name": "stdout",
     "output_type": "stream",
     "text": [
      "218.0 21700000 21800000\n"
     ]
    },
    {
     "name": "stderr",
     "output_type": "stream",
     "text": [
      "INFO:etl.import_sql:Finish!<class 'us_data.models.SharadarSep'> date:from 1997-12-31 to 2020-06-15 bulk_create:100000\n",
      "INFO:etl.import_sql:Finish!<class 'us_data.models.SharadarSep'> date:from 1997-12-31 to 2020-06-15 bulk_update:0\n"
     ]
    },
    {
     "name": "stdout",
     "output_type": "stream",
     "text": [
      "219.0 21800000 21900000\n"
     ]
    },
    {
     "name": "stderr",
     "output_type": "stream",
     "text": [
      "INFO:etl.import_sql:Finish!<class 'us_data.models.SharadarSep'> date:from 1997-12-31 to 2020-06-15 bulk_create:100000\n",
      "INFO:etl.import_sql:Finish!<class 'us_data.models.SharadarSep'> date:from 1997-12-31 to 2020-06-15 bulk_update:0\n"
     ]
    },
    {
     "name": "stdout",
     "output_type": "stream",
     "text": [
      "220.0 21900000 22000000\n"
     ]
    },
    {
     "name": "stderr",
     "output_type": "stream",
     "text": [
      "INFO:etl.import_sql:Finish!<class 'us_data.models.SharadarSep'> date:from 1997-12-31 to 2020-06-15 bulk_create:100000\n",
      "INFO:etl.import_sql:Finish!<class 'us_data.models.SharadarSep'> date:from 1997-12-31 to 2020-06-15 bulk_update:0\n"
     ]
    },
    {
     "name": "stdout",
     "output_type": "stream",
     "text": [
      "221.0 22000000 22100000\n"
     ]
    },
    {
     "name": "stderr",
     "output_type": "stream",
     "text": [
      "INFO:etl.import_sql:Finish!<class 'us_data.models.SharadarSep'> date:from 1997-12-31 to 2020-06-15 bulk_create:100000\n",
      "INFO:etl.import_sql:Finish!<class 'us_data.models.SharadarSep'> date:from 1997-12-31 to 2020-06-15 bulk_update:0\n"
     ]
    },
    {
     "name": "stdout",
     "output_type": "stream",
     "text": [
      "222.0 22100000 22200000\n"
     ]
    },
    {
     "name": "stderr",
     "output_type": "stream",
     "text": [
      "INFO:etl.import_sql:Finish!<class 'us_data.models.SharadarSep'> date:from 1997-12-31 to 2020-06-15 bulk_create:100000\n",
      "INFO:etl.import_sql:Finish!<class 'us_data.models.SharadarSep'> date:from 1997-12-31 to 2020-06-15 bulk_update:0\n"
     ]
    },
    {
     "name": "stdout",
     "output_type": "stream",
     "text": [
      "223.0 22200000 22300000\n"
     ]
    },
    {
     "name": "stderr",
     "output_type": "stream",
     "text": [
      "INFO:etl.import_sql:Finish!<class 'us_data.models.SharadarSep'> date:from 1997-12-31 to 2020-06-15 bulk_create:100000\n",
      "INFO:etl.import_sql:Finish!<class 'us_data.models.SharadarSep'> date:from 1997-12-31 to 2020-06-15 bulk_update:0\n"
     ]
    },
    {
     "name": "stdout",
     "output_type": "stream",
     "text": [
      "224.0 22300000 22400000\n"
     ]
    },
    {
     "name": "stderr",
     "output_type": "stream",
     "text": [
      "INFO:etl.import_sql:Finish!<class 'us_data.models.SharadarSep'> date:from 1997-12-31 to 2020-06-15 bulk_create:100000\n",
      "INFO:etl.import_sql:Finish!<class 'us_data.models.SharadarSep'> date:from 1997-12-31 to 2020-06-15 bulk_update:0\n"
     ]
    },
    {
     "name": "stdout",
     "output_type": "stream",
     "text": [
      "225.0 22400000 22500000\n"
     ]
    },
    {
     "name": "stderr",
     "output_type": "stream",
     "text": [
      "INFO:etl.import_sql:Finish!<class 'us_data.models.SharadarSep'> date:from 1997-12-31 to 2020-06-15 bulk_create:100000\n",
      "INFO:etl.import_sql:Finish!<class 'us_data.models.SharadarSep'> date:from 1997-12-31 to 2020-06-15 bulk_update:0\n"
     ]
    },
    {
     "name": "stdout",
     "output_type": "stream",
     "text": [
      "226.0 22500000 22600000\n"
     ]
    },
    {
     "name": "stderr",
     "output_type": "stream",
     "text": [
      "INFO:etl.import_sql:Finish!<class 'us_data.models.SharadarSep'> date:from 1997-12-31 to 2020-06-15 bulk_create:100000\n",
      "INFO:etl.import_sql:Finish!<class 'us_data.models.SharadarSep'> date:from 1997-12-31 to 2020-06-15 bulk_update:0\n"
     ]
    },
    {
     "name": "stdout",
     "output_type": "stream",
     "text": [
      "227.0 22600000 22700000\n"
     ]
    },
    {
     "name": "stderr",
     "output_type": "stream",
     "text": [
      "INFO:etl.import_sql:Finish!<class 'us_data.models.SharadarSep'> date:from 1997-12-31 to 2020-06-15 bulk_create:100000\n",
      "INFO:etl.import_sql:Finish!<class 'us_data.models.SharadarSep'> date:from 1997-12-31 to 2020-06-15 bulk_update:0\n"
     ]
    },
    {
     "name": "stdout",
     "output_type": "stream",
     "text": [
      "228.0 22700000 22800000\n"
     ]
    },
    {
     "name": "stderr",
     "output_type": "stream",
     "text": [
      "INFO:etl.import_sql:Finish!<class 'us_data.models.SharadarSep'> date:from 1997-12-31 to 2020-06-15 bulk_create:100000\n",
      "INFO:etl.import_sql:Finish!<class 'us_data.models.SharadarSep'> date:from 1997-12-31 to 2020-06-15 bulk_update:0\n"
     ]
    },
    {
     "name": "stdout",
     "output_type": "stream",
     "text": [
      "229.0 22800000 22900000\n"
     ]
    },
    {
     "name": "stderr",
     "output_type": "stream",
     "text": [
      "INFO:etl.import_sql:Finish!<class 'us_data.models.SharadarSep'> date:from 1997-12-31 to 2020-06-15 bulk_create:100000\n",
      "INFO:etl.import_sql:Finish!<class 'us_data.models.SharadarSep'> date:from 1997-12-31 to 2020-06-15 bulk_update:0\n"
     ]
    },
    {
     "name": "stdout",
     "output_type": "stream",
     "text": [
      "230.0 22900000 23000000\n"
     ]
    },
    {
     "name": "stderr",
     "output_type": "stream",
     "text": [
      "INFO:etl.import_sql:Finish!<class 'us_data.models.SharadarSep'> date:from 1997-12-31 to 2020-06-15 bulk_create:100000\n",
      "INFO:etl.import_sql:Finish!<class 'us_data.models.SharadarSep'> date:from 1997-12-31 to 2020-06-15 bulk_update:0\n"
     ]
    },
    {
     "name": "stdout",
     "output_type": "stream",
     "text": [
      "231.0 23000000 23100000\n"
     ]
    },
    {
     "name": "stderr",
     "output_type": "stream",
     "text": [
      "INFO:etl.import_sql:Finish!<class 'us_data.models.SharadarSep'> date:from 1997-12-31 to 2020-06-15 bulk_create:100000\n",
      "INFO:etl.import_sql:Finish!<class 'us_data.models.SharadarSep'> date:from 1997-12-31 to 2020-06-15 bulk_update:0\n"
     ]
    },
    {
     "name": "stdout",
     "output_type": "stream",
     "text": [
      "232.0 23100000 23200000\n"
     ]
    },
    {
     "name": "stderr",
     "output_type": "stream",
     "text": [
      "INFO:etl.import_sql:Finish!<class 'us_data.models.SharadarSep'> date:from 1997-12-31 to 2020-06-15 bulk_create:100000\n",
      "INFO:etl.import_sql:Finish!<class 'us_data.models.SharadarSep'> date:from 1997-12-31 to 2020-06-15 bulk_update:0\n"
     ]
    },
    {
     "name": "stdout",
     "output_type": "stream",
     "text": [
      "233.0 23200000 23300000\n"
     ]
    },
    {
     "name": "stderr",
     "output_type": "stream",
     "text": [
      "INFO:etl.import_sql:Finish!<class 'us_data.models.SharadarSep'> date:from 1997-12-31 to 2020-06-15 bulk_create:100000\n",
      "INFO:etl.import_sql:Finish!<class 'us_data.models.SharadarSep'> date:from 1997-12-31 to 2020-06-15 bulk_update:0\n"
     ]
    },
    {
     "name": "stdout",
     "output_type": "stream",
     "text": [
      "234.0 23300000 23400000\n"
     ]
    },
    {
     "name": "stderr",
     "output_type": "stream",
     "text": [
      "INFO:etl.import_sql:Finish!<class 'us_data.models.SharadarSep'> date:from 1997-12-31 to 2020-06-15 bulk_create:100000\n",
      "INFO:etl.import_sql:Finish!<class 'us_data.models.SharadarSep'> date:from 1997-12-31 to 2020-06-15 bulk_update:0\n"
     ]
    },
    {
     "name": "stdout",
     "output_type": "stream",
     "text": [
      "235.0 23400000 23500000\n"
     ]
    },
    {
     "name": "stderr",
     "output_type": "stream",
     "text": [
      "INFO:etl.import_sql:Finish!<class 'us_data.models.SharadarSep'> date:from 1997-12-31 to 2020-06-15 bulk_create:100000\n",
      "INFO:etl.import_sql:Finish!<class 'us_data.models.SharadarSep'> date:from 1997-12-31 to 2020-06-15 bulk_update:0\n"
     ]
    },
    {
     "name": "stdout",
     "output_type": "stream",
     "text": [
      "236.0 23500000 23600000\n"
     ]
    },
    {
     "name": "stderr",
     "output_type": "stream",
     "text": [
      "INFO:etl.import_sql:Finish!<class 'us_data.models.SharadarSep'> date:from 1997-12-31 to 2020-06-15 bulk_create:100000\n",
      "INFO:etl.import_sql:Finish!<class 'us_data.models.SharadarSep'> date:from 1997-12-31 to 2020-06-15 bulk_update:0\n"
     ]
    },
    {
     "name": "stdout",
     "output_type": "stream",
     "text": [
      "237.0 23600000 23700000\n"
     ]
    },
    {
     "name": "stderr",
     "output_type": "stream",
     "text": [
      "INFO:etl.import_sql:Finish!<class 'us_data.models.SharadarSep'> date:from 1997-12-31 to 2020-06-15 bulk_create:100000\n",
      "INFO:etl.import_sql:Finish!<class 'us_data.models.SharadarSep'> date:from 1997-12-31 to 2020-06-15 bulk_update:0\n"
     ]
    },
    {
     "name": "stdout",
     "output_type": "stream",
     "text": [
      "238.0 23700000 23800000\n"
     ]
    },
    {
     "name": "stderr",
     "output_type": "stream",
     "text": [
      "INFO:etl.import_sql:Finish!<class 'us_data.models.SharadarSep'> date:from 1997-12-31 to 2020-06-15 bulk_create:100000\n",
      "INFO:etl.import_sql:Finish!<class 'us_data.models.SharadarSep'> date:from 1997-12-31 to 2020-06-15 bulk_update:0\n"
     ]
    },
    {
     "name": "stdout",
     "output_type": "stream",
     "text": [
      "239.0 23800000 23900000\n"
     ]
    },
    {
     "name": "stderr",
     "output_type": "stream",
     "text": [
      "INFO:etl.import_sql:Finish!<class 'us_data.models.SharadarSep'> date:from 1997-12-31 to 2020-06-15 bulk_create:100000\n",
      "INFO:etl.import_sql:Finish!<class 'us_data.models.SharadarSep'> date:from 1997-12-31 to 2020-06-15 bulk_update:0\n"
     ]
    },
    {
     "name": "stdout",
     "output_type": "stream",
     "text": [
      "240.0 23900000 24000000\n"
     ]
    },
    {
     "name": "stderr",
     "output_type": "stream",
     "text": [
      "INFO:etl.import_sql:Finish!<class 'us_data.models.SharadarSep'> date:from 1997-12-31 to 2020-06-15 bulk_create:100000\n",
      "INFO:etl.import_sql:Finish!<class 'us_data.models.SharadarSep'> date:from 1997-12-31 to 2020-06-15 bulk_update:0\n"
     ]
    },
    {
     "name": "stdout",
     "output_type": "stream",
     "text": [
      "241.0 24000000 24100000\n"
     ]
    },
    {
     "name": "stderr",
     "output_type": "stream",
     "text": [
      "INFO:etl.import_sql:Finish!<class 'us_data.models.SharadarSep'> date:from 1997-12-31 to 2020-06-15 bulk_create:100000\n",
      "INFO:etl.import_sql:Finish!<class 'us_data.models.SharadarSep'> date:from 1997-12-31 to 2020-06-15 bulk_update:0\n"
     ]
    },
    {
     "name": "stdout",
     "output_type": "stream",
     "text": [
      "242.0 24100000 24200000\n"
     ]
    },
    {
     "name": "stderr",
     "output_type": "stream",
     "text": [
      "INFO:etl.import_sql:Finish!<class 'us_data.models.SharadarSep'> date:from 1997-12-31 to 2020-06-15 bulk_create:100000\n",
      "INFO:etl.import_sql:Finish!<class 'us_data.models.SharadarSep'> date:from 1997-12-31 to 2020-06-15 bulk_update:0\n"
     ]
    },
    {
     "name": "stdout",
     "output_type": "stream",
     "text": [
      "243.0 24200000 24300000\n"
     ]
    },
    {
     "name": "stderr",
     "output_type": "stream",
     "text": [
      "INFO:etl.import_sql:Finish!<class 'us_data.models.SharadarSep'> date:from 1997-12-31 to 2020-06-15 bulk_create:100000\n",
      "INFO:etl.import_sql:Finish!<class 'us_data.models.SharadarSep'> date:from 1997-12-31 to 2020-06-15 bulk_update:0\n"
     ]
    },
    {
     "name": "stdout",
     "output_type": "stream",
     "text": [
      "244.0 24300000 24400000\n"
     ]
    },
    {
     "name": "stderr",
     "output_type": "stream",
     "text": [
      "INFO:etl.import_sql:Finish!<class 'us_data.models.SharadarSep'> date:from 1997-12-31 to 2020-06-15 bulk_create:100000\n",
      "INFO:etl.import_sql:Finish!<class 'us_data.models.SharadarSep'> date:from 1997-12-31 to 2020-06-15 bulk_update:0\n"
     ]
    },
    {
     "name": "stdout",
     "output_type": "stream",
     "text": [
      "245.0 24400000 24500000\n"
     ]
    },
    {
     "name": "stderr",
     "output_type": "stream",
     "text": [
      "INFO:etl.import_sql:Finish!<class 'us_data.models.SharadarSep'> date:from 1997-12-31 to 2020-06-15 bulk_create:100000\n",
      "INFO:etl.import_sql:Finish!<class 'us_data.models.SharadarSep'> date:from 1997-12-31 to 2020-06-15 bulk_update:0\n"
     ]
    },
    {
     "name": "stdout",
     "output_type": "stream",
     "text": [
      "246.0 24500000 24600000\n"
     ]
    },
    {
     "name": "stderr",
     "output_type": "stream",
     "text": [
      "INFO:etl.import_sql:Finish!<class 'us_data.models.SharadarSep'> date:from 1997-12-31 to 2020-06-15 bulk_create:100000\n",
      "INFO:etl.import_sql:Finish!<class 'us_data.models.SharadarSep'> date:from 1997-12-31 to 2020-06-15 bulk_update:0\n"
     ]
    },
    {
     "name": "stdout",
     "output_type": "stream",
     "text": [
      "247.0 24600000 24700000\n"
     ]
    },
    {
     "name": "stderr",
     "output_type": "stream",
     "text": [
      "INFO:etl.import_sql:Finish!<class 'us_data.models.SharadarSep'> date:from 1997-12-31 to 2020-06-15 bulk_create:100000\n",
      "INFO:etl.import_sql:Finish!<class 'us_data.models.SharadarSep'> date:from 1997-12-31 to 2020-06-15 bulk_update:0\n"
     ]
    },
    {
     "name": "stdout",
     "output_type": "stream",
     "text": [
      "248.0 24700000 24800000\n"
     ]
    },
    {
     "name": "stderr",
     "output_type": "stream",
     "text": [
      "INFO:etl.import_sql:Finish!<class 'us_data.models.SharadarSep'> date:from 1997-12-31 to 2020-06-15 bulk_create:100000\n",
      "INFO:etl.import_sql:Finish!<class 'us_data.models.SharadarSep'> date:from 1997-12-31 to 2020-06-15 bulk_update:0\n"
     ]
    },
    {
     "name": "stdout",
     "output_type": "stream",
     "text": [
      "249.0 24800000 24900000\n"
     ]
    },
    {
     "name": "stderr",
     "output_type": "stream",
     "text": [
      "INFO:etl.import_sql:Finish!<class 'us_data.models.SharadarSep'> date:from 1997-12-31 to 2020-06-15 bulk_create:100000\n",
      "INFO:etl.import_sql:Finish!<class 'us_data.models.SharadarSep'> date:from 1997-12-31 to 2020-06-15 bulk_update:0\n"
     ]
    },
    {
     "name": "stdout",
     "output_type": "stream",
     "text": [
      "250.0 24900000 25000000\n"
     ]
    },
    {
     "name": "stderr",
     "output_type": "stream",
     "text": [
      "INFO:etl.import_sql:Finish!<class 'us_data.models.SharadarSep'> date:from 1997-12-31 to 2020-06-15 bulk_create:100000\n",
      "INFO:etl.import_sql:Finish!<class 'us_data.models.SharadarSep'> date:from 1997-12-31 to 2020-06-15 bulk_update:0\n"
     ]
    },
    {
     "name": "stdout",
     "output_type": "stream",
     "text": [
      "251.0 25000000 25100000\n"
     ]
    },
    {
     "name": "stderr",
     "output_type": "stream",
     "text": [
      "INFO:etl.import_sql:Finish!<class 'us_data.models.SharadarSep'> date:from 1997-12-31 to 2020-06-15 bulk_create:100000\n",
      "INFO:etl.import_sql:Finish!<class 'us_data.models.SharadarSep'> date:from 1997-12-31 to 2020-06-15 bulk_update:0\n"
     ]
    },
    {
     "name": "stdout",
     "output_type": "stream",
     "text": [
      "252.0 25100000 25200000\n"
     ]
    },
    {
     "name": "stderr",
     "output_type": "stream",
     "text": [
      "INFO:etl.import_sql:Finish!<class 'us_data.models.SharadarSep'> date:from 1997-12-31 to 2020-06-15 bulk_create:100000\n",
      "INFO:etl.import_sql:Finish!<class 'us_data.models.SharadarSep'> date:from 1997-12-31 to 2020-06-15 bulk_update:0\n"
     ]
    },
    {
     "name": "stdout",
     "output_type": "stream",
     "text": [
      "253.0 25200000 25300000\n"
     ]
    },
    {
     "name": "stderr",
     "output_type": "stream",
     "text": [
      "INFO:etl.import_sql:Finish!<class 'us_data.models.SharadarSep'> date:from 1997-12-31 to 2020-06-15 bulk_create:100000\n",
      "INFO:etl.import_sql:Finish!<class 'us_data.models.SharadarSep'> date:from 1997-12-31 to 2020-06-15 bulk_update:0\n"
     ]
    },
    {
     "name": "stdout",
     "output_type": "stream",
     "text": [
      "254.0 25300000 25400000\n"
     ]
    },
    {
     "name": "stderr",
     "output_type": "stream",
     "text": [
      "INFO:etl.import_sql:Finish!<class 'us_data.models.SharadarSep'> date:from 1997-12-31 to 2020-06-15 bulk_create:100000\n",
      "INFO:etl.import_sql:Finish!<class 'us_data.models.SharadarSep'> date:from 1997-12-31 to 2020-06-15 bulk_update:0\n"
     ]
    },
    {
     "name": "stdout",
     "output_type": "stream",
     "text": [
      "255.0 25400000 25500000\n"
     ]
    },
    {
     "name": "stderr",
     "output_type": "stream",
     "text": [
      "INFO:etl.import_sql:Finish!<class 'us_data.models.SharadarSep'> date:from 1997-12-31 to 2020-06-15 bulk_create:100000\n",
      "INFO:etl.import_sql:Finish!<class 'us_data.models.SharadarSep'> date:from 1997-12-31 to 2020-06-15 bulk_update:0\n"
     ]
    },
    {
     "name": "stdout",
     "output_type": "stream",
     "text": [
      "256.0 25500000 25600000\n"
     ]
    },
    {
     "name": "stderr",
     "output_type": "stream",
     "text": [
      "INFO:etl.import_sql:Finish!<class 'us_data.models.SharadarSep'> date:from 1997-12-31 to 2020-06-15 bulk_create:100000\n",
      "INFO:etl.import_sql:Finish!<class 'us_data.models.SharadarSep'> date:from 1997-12-31 to 2020-06-15 bulk_update:0\n"
     ]
    },
    {
     "name": "stdout",
     "output_type": "stream",
     "text": [
      "257.0 25600000 25700000\n"
     ]
    },
    {
     "name": "stderr",
     "output_type": "stream",
     "text": [
      "INFO:etl.import_sql:Finish!<class 'us_data.models.SharadarSep'> date:from 1997-12-31 to 2020-06-15 bulk_create:100000\n",
      "INFO:etl.import_sql:Finish!<class 'us_data.models.SharadarSep'> date:from 1997-12-31 to 2020-06-15 bulk_update:0\n"
     ]
    },
    {
     "name": "stdout",
     "output_type": "stream",
     "text": [
      "258.0 25700000 25800000\n"
     ]
    },
    {
     "name": "stderr",
     "output_type": "stream",
     "text": [
      "INFO:etl.import_sql:Finish!<class 'us_data.models.SharadarSep'> date:from 1997-12-31 to 2020-06-15 bulk_create:100000\n",
      "INFO:etl.import_sql:Finish!<class 'us_data.models.SharadarSep'> date:from 1997-12-31 to 2020-06-15 bulk_update:0\n"
     ]
    },
    {
     "name": "stdout",
     "output_type": "stream",
     "text": [
      "259.0 25800000 25900000\n"
     ]
    },
    {
     "name": "stderr",
     "output_type": "stream",
     "text": [
      "INFO:etl.import_sql:Finish!<class 'us_data.models.SharadarSep'> date:from 1997-12-31 to 2020-06-15 bulk_create:100000\n",
      "INFO:etl.import_sql:Finish!<class 'us_data.models.SharadarSep'> date:from 1997-12-31 to 2020-06-15 bulk_update:0\n"
     ]
    },
    {
     "name": "stdout",
     "output_type": "stream",
     "text": [
      "260.0 25900000 26000000\n"
     ]
    },
    {
     "name": "stderr",
     "output_type": "stream",
     "text": [
      "INFO:etl.import_sql:Finish!<class 'us_data.models.SharadarSep'> date:from 1997-12-31 to 2020-06-15 bulk_create:100000\n",
      "INFO:etl.import_sql:Finish!<class 'us_data.models.SharadarSep'> date:from 1997-12-31 to 2020-06-15 bulk_update:0\n"
     ]
    },
    {
     "name": "stdout",
     "output_type": "stream",
     "text": [
      "261.0 26000000 26100000\n"
     ]
    },
    {
     "name": "stderr",
     "output_type": "stream",
     "text": [
      "INFO:etl.import_sql:Finish!<class 'us_data.models.SharadarSep'> date:from 1997-12-31 to 2020-06-15 bulk_create:100000\n",
      "INFO:etl.import_sql:Finish!<class 'us_data.models.SharadarSep'> date:from 1997-12-31 to 2020-06-15 bulk_update:0\n"
     ]
    },
    {
     "name": "stdout",
     "output_type": "stream",
     "text": [
      "262.0 26100000 26200000\n"
     ]
    },
    {
     "name": "stderr",
     "output_type": "stream",
     "text": [
      "INFO:etl.import_sql:Finish!<class 'us_data.models.SharadarSep'> date:from 1997-12-31 to 2020-06-15 bulk_create:100000\n",
      "INFO:etl.import_sql:Finish!<class 'us_data.models.SharadarSep'> date:from 1997-12-31 to 2020-06-15 bulk_update:0\n"
     ]
    },
    {
     "name": "stdout",
     "output_type": "stream",
     "text": [
      "263.0 26200000 26300000\n"
     ]
    },
    {
     "name": "stderr",
     "output_type": "stream",
     "text": [
      "INFO:etl.import_sql:Finish!<class 'us_data.models.SharadarSep'> date:from 1997-12-31 to 2020-06-15 bulk_create:100000\n",
      "INFO:etl.import_sql:Finish!<class 'us_data.models.SharadarSep'> date:from 1997-12-31 to 2020-06-15 bulk_update:0\n"
     ]
    },
    {
     "name": "stdout",
     "output_type": "stream",
     "text": [
      "264.0 26300000 26400000\n"
     ]
    },
    {
     "name": "stderr",
     "output_type": "stream",
     "text": [
      "INFO:etl.import_sql:Finish!<class 'us_data.models.SharadarSep'> date:from 1997-12-31 to 2020-06-15 bulk_create:100000\n",
      "INFO:etl.import_sql:Finish!<class 'us_data.models.SharadarSep'> date:from 1997-12-31 to 2020-06-15 bulk_update:0\n"
     ]
    },
    {
     "name": "stdout",
     "output_type": "stream",
     "text": [
      "265.0 26400000 26500000\n"
     ]
    },
    {
     "name": "stderr",
     "output_type": "stream",
     "text": [
      "INFO:etl.import_sql:Finish!<class 'us_data.models.SharadarSep'> date:from 1997-12-31 to 2020-06-15 bulk_create:100000\n",
      "INFO:etl.import_sql:Finish!<class 'us_data.models.SharadarSep'> date:from 1997-12-31 to 2020-06-15 bulk_update:0\n"
     ]
    },
    {
     "name": "stdout",
     "output_type": "stream",
     "text": [
      "266.0 26500000 26600000\n"
     ]
    },
    {
     "name": "stderr",
     "output_type": "stream",
     "text": [
      "INFO:etl.import_sql:Finish!<class 'us_data.models.SharadarSep'> date:from 1997-12-31 to 2020-06-15 bulk_create:100000\n",
      "INFO:etl.import_sql:Finish!<class 'us_data.models.SharadarSep'> date:from 1997-12-31 to 2020-06-15 bulk_update:0\n"
     ]
    },
    {
     "name": "stdout",
     "output_type": "stream",
     "text": [
      "267.0 26600000 26700000\n"
     ]
    },
    {
     "name": "stderr",
     "output_type": "stream",
     "text": [
      "INFO:etl.import_sql:Finish!<class 'us_data.models.SharadarSep'> date:from 1997-12-31 to 2020-06-15 bulk_create:100000\n",
      "INFO:etl.import_sql:Finish!<class 'us_data.models.SharadarSep'> date:from 1997-12-31 to 2020-06-15 bulk_update:0\n"
     ]
    },
    {
     "name": "stdout",
     "output_type": "stream",
     "text": [
      "268.0 26700000 26800000\n"
     ]
    },
    {
     "name": "stderr",
     "output_type": "stream",
     "text": [
      "INFO:etl.import_sql:Finish!<class 'us_data.models.SharadarSep'> date:from 1997-12-31 to 2020-06-15 bulk_create:100000\n",
      "INFO:etl.import_sql:Finish!<class 'us_data.models.SharadarSep'> date:from 1997-12-31 to 2020-06-15 bulk_update:0\n"
     ]
    },
    {
     "name": "stdout",
     "output_type": "stream",
     "text": [
      "269.0 26800000 26900000\n"
     ]
    },
    {
     "name": "stderr",
     "output_type": "stream",
     "text": [
      "INFO:etl.import_sql:Finish!<class 'us_data.models.SharadarSep'> date:from 1997-12-31 to 2020-06-15 bulk_create:100000\n",
      "INFO:etl.import_sql:Finish!<class 'us_data.models.SharadarSep'> date:from 1997-12-31 to 2020-06-15 bulk_update:0\n"
     ]
    },
    {
     "name": "stdout",
     "output_type": "stream",
     "text": [
      "270.0 26900000 27000000\n"
     ]
    },
    {
     "name": "stderr",
     "output_type": "stream",
     "text": [
      "INFO:etl.import_sql:Finish!<class 'us_data.models.SharadarSep'> date:from 1997-12-31 to 2020-06-15 bulk_create:100000\n",
      "INFO:etl.import_sql:Finish!<class 'us_data.models.SharadarSep'> date:from 1997-12-31 to 2020-06-15 bulk_update:0\n"
     ]
    },
    {
     "name": "stdout",
     "output_type": "stream",
     "text": [
      "271.0 27000000 27100000\n"
     ]
    },
    {
     "name": "stderr",
     "output_type": "stream",
     "text": [
      "INFO:etl.import_sql:Finish!<class 'us_data.models.SharadarSep'> date:from 1997-12-31 to 2020-06-15 bulk_create:100000\n",
      "INFO:etl.import_sql:Finish!<class 'us_data.models.SharadarSep'> date:from 1997-12-31 to 2020-06-15 bulk_update:0\n"
     ]
    },
    {
     "name": "stdout",
     "output_type": "stream",
     "text": [
      "272.0 27100000 27200000\n"
     ]
    },
    {
     "name": "stderr",
     "output_type": "stream",
     "text": [
      "INFO:etl.import_sql:Finish!<class 'us_data.models.SharadarSep'> date:from 1997-12-31 to 2020-06-15 bulk_create:100000\n",
      "INFO:etl.import_sql:Finish!<class 'us_data.models.SharadarSep'> date:from 1997-12-31 to 2020-06-15 bulk_update:0\n"
     ]
    },
    {
     "name": "stdout",
     "output_type": "stream",
     "text": [
      "273.0 27200000 27300000\n"
     ]
    },
    {
     "name": "stderr",
     "output_type": "stream",
     "text": [
      "INFO:etl.import_sql:Finish!<class 'us_data.models.SharadarSep'> date:from 1997-12-31 to 2020-06-15 bulk_create:100000\n",
      "INFO:etl.import_sql:Finish!<class 'us_data.models.SharadarSep'> date:from 1997-12-31 to 2020-06-15 bulk_update:0\n"
     ]
    },
    {
     "name": "stdout",
     "output_type": "stream",
     "text": [
      "274.0 27300000 27400000\n"
     ]
    },
    {
     "name": "stderr",
     "output_type": "stream",
     "text": [
      "INFO:etl.import_sql:Finish!<class 'us_data.models.SharadarSep'> date:from 1997-12-31 to 2020-06-15 bulk_create:100000\n",
      "INFO:etl.import_sql:Finish!<class 'us_data.models.SharadarSep'> date:from 1997-12-31 to 2020-06-15 bulk_update:0\n"
     ]
    },
    {
     "name": "stdout",
     "output_type": "stream",
     "text": [
      "275.0 27400000 27500000\n"
     ]
    },
    {
     "name": "stderr",
     "output_type": "stream",
     "text": [
      "INFO:etl.import_sql:Finish!<class 'us_data.models.SharadarSep'> date:from 1997-12-31 to 2020-06-15 bulk_create:100000\n",
      "INFO:etl.import_sql:Finish!<class 'us_data.models.SharadarSep'> date:from 1997-12-31 to 2020-06-15 bulk_update:0\n"
     ]
    },
    {
     "name": "stdout",
     "output_type": "stream",
     "text": [
      "276.0 27500000 27600000\n"
     ]
    },
    {
     "name": "stderr",
     "output_type": "stream",
     "text": [
      "INFO:etl.import_sql:Finish!<class 'us_data.models.SharadarSep'> date:from 1997-12-31 to 2020-06-15 bulk_create:100000\n",
      "INFO:etl.import_sql:Finish!<class 'us_data.models.SharadarSep'> date:from 1997-12-31 to 2020-06-15 bulk_update:0\n"
     ]
    },
    {
     "name": "stdout",
     "output_type": "stream",
     "text": [
      "277.0 27600000 27700000\n"
     ]
    },
    {
     "name": "stderr",
     "output_type": "stream",
     "text": [
      "INFO:etl.import_sql:Finish!<class 'us_data.models.SharadarSep'> date:from 1997-12-31 to 2020-06-15 bulk_create:100000\n",
      "INFO:etl.import_sql:Finish!<class 'us_data.models.SharadarSep'> date:from 1997-12-31 to 2020-06-15 bulk_update:0\n"
     ]
    },
    {
     "name": "stdout",
     "output_type": "stream",
     "text": [
      "278.0 27700000 27800000\n"
     ]
    },
    {
     "name": "stderr",
     "output_type": "stream",
     "text": [
      "INFO:etl.import_sql:Finish!<class 'us_data.models.SharadarSep'> date:from 1997-12-31 to 2020-06-15 bulk_create:100000\n",
      "INFO:etl.import_sql:Finish!<class 'us_data.models.SharadarSep'> date:from 1997-12-31 to 2020-06-15 bulk_update:0\n"
     ]
    },
    {
     "name": "stdout",
     "output_type": "stream",
     "text": [
      "279.0 27800000 27900000\n"
     ]
    },
    {
     "name": "stderr",
     "output_type": "stream",
     "text": [
      "INFO:etl.import_sql:Finish!<class 'us_data.models.SharadarSep'> date:from 1997-12-31 to 2020-06-15 bulk_create:100000\n",
      "INFO:etl.import_sql:Finish!<class 'us_data.models.SharadarSep'> date:from 1997-12-31 to 2020-06-15 bulk_update:0\n"
     ]
    },
    {
     "name": "stdout",
     "output_type": "stream",
     "text": [
      "280.0 27900000 28000000\n"
     ]
    },
    {
     "name": "stderr",
     "output_type": "stream",
     "text": [
      "INFO:etl.import_sql:Finish!<class 'us_data.models.SharadarSep'> date:from 1997-12-31 to 2020-06-15 bulk_create:100000\n",
      "INFO:etl.import_sql:Finish!<class 'us_data.models.SharadarSep'> date:from 1997-12-31 to 2020-06-15 bulk_update:0\n"
     ]
    },
    {
     "name": "stdout",
     "output_type": "stream",
     "text": [
      "281.0 28000000 28100000\n"
     ]
    },
    {
     "name": "stderr",
     "output_type": "stream",
     "text": [
      "INFO:etl.import_sql:Finish!<class 'us_data.models.SharadarSep'> date:from 1997-12-31 to 2020-06-15 bulk_create:100000\n",
      "INFO:etl.import_sql:Finish!<class 'us_data.models.SharadarSep'> date:from 1997-12-31 to 2020-06-15 bulk_update:0\n"
     ]
    },
    {
     "name": "stdout",
     "output_type": "stream",
     "text": [
      "282.0 28100000 28200000\n"
     ]
    },
    {
     "name": "stderr",
     "output_type": "stream",
     "text": [
      "INFO:etl.import_sql:Finish!<class 'us_data.models.SharadarSep'> date:from 1997-12-31 to 2020-06-15 bulk_create:100000\n",
      "INFO:etl.import_sql:Finish!<class 'us_data.models.SharadarSep'> date:from 1997-12-31 to 2020-06-15 bulk_update:0\n"
     ]
    },
    {
     "name": "stdout",
     "output_type": "stream",
     "text": [
      "283.0 28200000 28300000\n"
     ]
    },
    {
     "name": "stderr",
     "output_type": "stream",
     "text": [
      "INFO:etl.import_sql:Finish!<class 'us_data.models.SharadarSep'> date:from 1997-12-31 to 2020-06-15 bulk_create:100000\n",
      "INFO:etl.import_sql:Finish!<class 'us_data.models.SharadarSep'> date:from 1997-12-31 to 2020-06-15 bulk_update:0\n"
     ]
    },
    {
     "name": "stdout",
     "output_type": "stream",
     "text": [
      "284.0 28300000 28400000\n"
     ]
    },
    {
     "name": "stderr",
     "output_type": "stream",
     "text": [
      "INFO:etl.import_sql:Finish!<class 'us_data.models.SharadarSep'> date:from 1997-12-31 to 2020-06-15 bulk_create:100000\n",
      "INFO:etl.import_sql:Finish!<class 'us_data.models.SharadarSep'> date:from 1997-12-31 to 2020-06-15 bulk_update:0\n"
     ]
    },
    {
     "name": "stdout",
     "output_type": "stream",
     "text": [
      "285.0 28400000 28500000\n"
     ]
    },
    {
     "name": "stderr",
     "output_type": "stream",
     "text": [
      "INFO:etl.import_sql:Finish!<class 'us_data.models.SharadarSep'> date:from 1997-12-31 to 2020-06-15 bulk_create:100000\n",
      "INFO:etl.import_sql:Finish!<class 'us_data.models.SharadarSep'> date:from 1997-12-31 to 2020-06-15 bulk_update:0\n"
     ]
    },
    {
     "name": "stdout",
     "output_type": "stream",
     "text": [
      "286.0 28500000 28600000\n"
     ]
    },
    {
     "name": "stderr",
     "output_type": "stream",
     "text": [
      "INFO:etl.import_sql:Finish!<class 'us_data.models.SharadarSep'> date:from 1997-12-31 to 2020-06-15 bulk_create:100000\n",
      "INFO:etl.import_sql:Finish!<class 'us_data.models.SharadarSep'> date:from 1997-12-31 to 2020-06-15 bulk_update:0\n"
     ]
    },
    {
     "name": "stdout",
     "output_type": "stream",
     "text": [
      "287.0 28600000 28700000\n"
     ]
    },
    {
     "name": "stderr",
     "output_type": "stream",
     "text": [
      "INFO:etl.import_sql:Finish!<class 'us_data.models.SharadarSep'> date:from 1997-12-31 to 2020-06-15 bulk_create:100000\n",
      "INFO:etl.import_sql:Finish!<class 'us_data.models.SharadarSep'> date:from 1997-12-31 to 2020-06-15 bulk_update:0\n"
     ]
    },
    {
     "name": "stdout",
     "output_type": "stream",
     "text": [
      "288.0 28700000 28800000\n"
     ]
    },
    {
     "name": "stderr",
     "output_type": "stream",
     "text": [
      "INFO:etl.import_sql:Finish!<class 'us_data.models.SharadarSep'> date:from 1997-12-31 to 2020-06-15 bulk_create:100000\n",
      "INFO:etl.import_sql:Finish!<class 'us_data.models.SharadarSep'> date:from 1997-12-31 to 2020-06-15 bulk_update:0\n"
     ]
    },
    {
     "name": "stdout",
     "output_type": "stream",
     "text": [
      "289.0 28800000 28900000\n"
     ]
    },
    {
     "name": "stderr",
     "output_type": "stream",
     "text": [
      "INFO:etl.import_sql:Finish!<class 'us_data.models.SharadarSep'> date:from 1997-12-31 to 2020-06-15 bulk_create:100000\n",
      "INFO:etl.import_sql:Finish!<class 'us_data.models.SharadarSep'> date:from 1997-12-31 to 2020-06-15 bulk_update:0\n"
     ]
    },
    {
     "name": "stdout",
     "output_type": "stream",
     "text": [
      "290.0 28900000 29000000\n"
     ]
    },
    {
     "name": "stderr",
     "output_type": "stream",
     "text": [
      "INFO:etl.import_sql:Finish!<class 'us_data.models.SharadarSep'> date:from 1997-12-31 to 2020-06-15 bulk_create:100000\n",
      "INFO:etl.import_sql:Finish!<class 'us_data.models.SharadarSep'> date:from 1997-12-31 to 2020-06-15 bulk_update:0\n"
     ]
    },
    {
     "name": "stdout",
     "output_type": "stream",
     "text": [
      "291.0 29000000 29100000\n"
     ]
    },
    {
     "name": "stderr",
     "output_type": "stream",
     "text": [
      "INFO:etl.import_sql:Finish!<class 'us_data.models.SharadarSep'> date:from 1997-12-31 to 2020-06-15 bulk_create:100000\n",
      "INFO:etl.import_sql:Finish!<class 'us_data.models.SharadarSep'> date:from 1997-12-31 to 2020-06-15 bulk_update:0\n"
     ]
    },
    {
     "name": "stdout",
     "output_type": "stream",
     "text": [
      "292.0 29100000 29200000\n"
     ]
    },
    {
     "name": "stderr",
     "output_type": "stream",
     "text": [
      "INFO:etl.import_sql:Finish!<class 'us_data.models.SharadarSep'> date:from 1997-12-31 to 2020-06-15 bulk_create:100000\n",
      "INFO:etl.import_sql:Finish!<class 'us_data.models.SharadarSep'> date:from 1997-12-31 to 2020-06-15 bulk_update:0\n"
     ]
    },
    {
     "name": "stdout",
     "output_type": "stream",
     "text": [
      "293.0 29200000 29300000\n"
     ]
    },
    {
     "name": "stderr",
     "output_type": "stream",
     "text": [
      "INFO:etl.import_sql:Finish!<class 'us_data.models.SharadarSep'> date:from 1997-12-31 to 2020-06-15 bulk_create:100000\n",
      "INFO:etl.import_sql:Finish!<class 'us_data.models.SharadarSep'> date:from 1997-12-31 to 2020-06-15 bulk_update:0\n"
     ]
    },
    {
     "name": "stdout",
     "output_type": "stream",
     "text": [
      "294.0 29300000 29400000\n"
     ]
    },
    {
     "name": "stderr",
     "output_type": "stream",
     "text": [
      "INFO:etl.import_sql:Finish!<class 'us_data.models.SharadarSep'> date:from 1997-12-31 to 2020-06-15 bulk_create:100000\n",
      "INFO:etl.import_sql:Finish!<class 'us_data.models.SharadarSep'> date:from 1997-12-31 to 2020-06-15 bulk_update:0\n"
     ]
    },
    {
     "name": "stdout",
     "output_type": "stream",
     "text": [
      "295.0 29400000 29500000\n"
     ]
    },
    {
     "name": "stderr",
     "output_type": "stream",
     "text": [
      "INFO:etl.import_sql:Finish!<class 'us_data.models.SharadarSep'> date:from 1997-12-31 to 2020-06-15 bulk_create:100000\n",
      "INFO:etl.import_sql:Finish!<class 'us_data.models.SharadarSep'> date:from 1997-12-31 to 2020-06-15 bulk_update:0\n"
     ]
    },
    {
     "name": "stdout",
     "output_type": "stream",
     "text": [
      "296.0 29500000 29600000\n"
     ]
    },
    {
     "name": "stderr",
     "output_type": "stream",
     "text": [
      "INFO:etl.import_sql:Finish!<class 'us_data.models.SharadarSep'> date:from 1997-12-31 to 2020-06-15 bulk_create:100000\n",
      "INFO:etl.import_sql:Finish!<class 'us_data.models.SharadarSep'> date:from 1997-12-31 to 2020-06-15 bulk_update:0\n"
     ]
    },
    {
     "name": "stdout",
     "output_type": "stream",
     "text": [
      "297.0 29600000 29700000\n"
     ]
    },
    {
     "name": "stderr",
     "output_type": "stream",
     "text": [
      "INFO:etl.import_sql:Finish!<class 'us_data.models.SharadarSep'> date:from 1997-12-31 to 2020-06-15 bulk_create:100000\n",
      "INFO:etl.import_sql:Finish!<class 'us_data.models.SharadarSep'> date:from 1997-12-31 to 2020-06-15 bulk_update:0\n"
     ]
    },
    {
     "name": "stdout",
     "output_type": "stream",
     "text": [
      "298.0 29700000 29800000\n"
     ]
    },
    {
     "name": "stderr",
     "output_type": "stream",
     "text": [
      "INFO:etl.import_sql:Finish!<class 'us_data.models.SharadarSep'> date:from 1997-12-31 to 2020-06-15 bulk_create:100000\n",
      "INFO:etl.import_sql:Finish!<class 'us_data.models.SharadarSep'> date:from 1997-12-31 to 2020-06-15 bulk_update:0\n"
     ]
    },
    {
     "name": "stdout",
     "output_type": "stream",
     "text": [
      "299.0 29800000 29900000\n"
     ]
    },
    {
     "name": "stderr",
     "output_type": "stream",
     "text": [
      "INFO:etl.import_sql:Finish!<class 'us_data.models.SharadarSep'> date:from 1997-12-31 to 2020-06-15 bulk_create:100000\n",
      "INFO:etl.import_sql:Finish!<class 'us_data.models.SharadarSep'> date:from 1997-12-31 to 2020-06-15 bulk_update:0\n"
     ]
    },
    {
     "name": "stdout",
     "output_type": "stream",
     "text": [
      "300.0 29900000 30000000\n"
     ]
    },
    {
     "name": "stderr",
     "output_type": "stream",
     "text": [
      "INFO:etl.import_sql:Finish!<class 'us_data.models.SharadarSep'> date:from 1997-12-31 to 2020-06-15 bulk_create:100000\n",
      "INFO:etl.import_sql:Finish!<class 'us_data.models.SharadarSep'> date:from 1997-12-31 to 2020-06-15 bulk_update:0\n"
     ]
    },
    {
     "name": "stdout",
     "output_type": "stream",
     "text": [
      "301.0 30000000 30100000\n"
     ]
    },
    {
     "name": "stderr",
     "output_type": "stream",
     "text": [
      "INFO:etl.import_sql:Finish!<class 'us_data.models.SharadarSep'> date:from 1997-12-31 to 2020-06-15 bulk_create:100000\n",
      "INFO:etl.import_sql:Finish!<class 'us_data.models.SharadarSep'> date:from 1997-12-31 to 2020-06-15 bulk_update:0\n"
     ]
    },
    {
     "name": "stdout",
     "output_type": "stream",
     "text": [
      "302.0 30100000 30200000\n"
     ]
    },
    {
     "name": "stderr",
     "output_type": "stream",
     "text": [
      "INFO:etl.import_sql:Finish!<class 'us_data.models.SharadarSep'> date:from 1997-12-31 to 2020-06-15 bulk_create:100000\n",
      "INFO:etl.import_sql:Finish!<class 'us_data.models.SharadarSep'> date:from 1997-12-31 to 2020-06-15 bulk_update:0\n"
     ]
    },
    {
     "name": "stdout",
     "output_type": "stream",
     "text": [
      "303.0 30200000 30300000\n"
     ]
    },
    {
     "name": "stderr",
     "output_type": "stream",
     "text": [
      "INFO:etl.import_sql:Finish!<class 'us_data.models.SharadarSep'> date:from 1997-12-31 to 2020-06-15 bulk_create:100000\n",
      "INFO:etl.import_sql:Finish!<class 'us_data.models.SharadarSep'> date:from 1997-12-31 to 2020-06-15 bulk_update:0\n"
     ]
    },
    {
     "name": "stdout",
     "output_type": "stream",
     "text": [
      "304.0 30300000 30400000\n"
     ]
    },
    {
     "name": "stderr",
     "output_type": "stream",
     "text": [
      "INFO:etl.import_sql:Finish!<class 'us_data.models.SharadarSep'> date:from 1997-12-31 to 2020-06-15 bulk_create:100000\n",
      "INFO:etl.import_sql:Finish!<class 'us_data.models.SharadarSep'> date:from 1997-12-31 to 2020-06-15 bulk_update:0\n"
     ]
    },
    {
     "name": "stdout",
     "output_type": "stream",
     "text": [
      "305.0 30400000 30500000\n"
     ]
    },
    {
     "name": "stderr",
     "output_type": "stream",
     "text": [
      "INFO:etl.import_sql:Finish!<class 'us_data.models.SharadarSep'> date:from 1997-12-31 to 2020-06-15 bulk_create:100000\n",
      "INFO:etl.import_sql:Finish!<class 'us_data.models.SharadarSep'> date:from 1997-12-31 to 2020-06-15 bulk_update:0\n"
     ]
    },
    {
     "name": "stdout",
     "output_type": "stream",
     "text": [
      "306.0 30500000 30600000\n"
     ]
    },
    {
     "name": "stderr",
     "output_type": "stream",
     "text": [
      "INFO:etl.import_sql:Finish!<class 'us_data.models.SharadarSep'> date:from 1997-12-31 to 2020-06-15 bulk_create:100000\n",
      "INFO:etl.import_sql:Finish!<class 'us_data.models.SharadarSep'> date:from 1997-12-31 to 2020-06-15 bulk_update:0\n"
     ]
    },
    {
     "name": "stdout",
     "output_type": "stream",
     "text": [
      "307.0 30600000 30700000\n"
     ]
    },
    {
     "name": "stderr",
     "output_type": "stream",
     "text": [
      "INFO:etl.import_sql:Finish!<class 'us_data.models.SharadarSep'> date:from 1997-12-31 to 2020-06-15 bulk_create:100000\n",
      "INFO:etl.import_sql:Finish!<class 'us_data.models.SharadarSep'> date:from 1997-12-31 to 2020-06-15 bulk_update:0\n"
     ]
    },
    {
     "name": "stdout",
     "output_type": "stream",
     "text": [
      "308.0 30700000 30800000\n"
     ]
    },
    {
     "name": "stderr",
     "output_type": "stream",
     "text": [
      "INFO:etl.import_sql:Finish!<class 'us_data.models.SharadarSep'> date:from 1997-12-31 to 2020-06-15 bulk_create:100000\n",
      "INFO:etl.import_sql:Finish!<class 'us_data.models.SharadarSep'> date:from 1997-12-31 to 2020-06-15 bulk_update:0\n"
     ]
    },
    {
     "name": "stdout",
     "output_type": "stream",
     "text": [
      "309.0 30800000 30900000\n"
     ]
    },
    {
     "name": "stderr",
     "output_type": "stream",
     "text": [
      "INFO:etl.import_sql:Finish!<class 'us_data.models.SharadarSep'> date:from 1997-12-31 to 2020-06-15 bulk_create:100000\n",
      "INFO:etl.import_sql:Finish!<class 'us_data.models.SharadarSep'> date:from 1997-12-31 to 2020-06-15 bulk_update:0\n"
     ]
    },
    {
     "name": "stdout",
     "output_type": "stream",
     "text": [
      "310.0 30900000 31000000\n"
     ]
    },
    {
     "name": "stderr",
     "output_type": "stream",
     "text": [
      "INFO:etl.import_sql:Finish!<class 'us_data.models.SharadarSep'> date:from 1997-12-31 to 2020-06-15 bulk_create:100000\n",
      "INFO:etl.import_sql:Finish!<class 'us_data.models.SharadarSep'> date:from 1997-12-31 to 2020-06-15 bulk_update:0\n"
     ]
    },
    {
     "name": "stdout",
     "output_type": "stream",
     "text": [
      "311.0 31000000 31100000\n"
     ]
    },
    {
     "name": "stderr",
     "output_type": "stream",
     "text": [
      "INFO:etl.import_sql:Finish!<class 'us_data.models.SharadarSep'> date:from 1997-12-31 to 2020-06-15 bulk_create:100000\n",
      "INFO:etl.import_sql:Finish!<class 'us_data.models.SharadarSep'> date:from 1997-12-31 to 2020-06-15 bulk_update:0\n"
     ]
    },
    {
     "name": "stdout",
     "output_type": "stream",
     "text": [
      "312.0 31100000 31200000\n"
     ]
    },
    {
     "name": "stderr",
     "output_type": "stream",
     "text": [
      "INFO:etl.import_sql:Finish!<class 'us_data.models.SharadarSep'> date:from 1997-12-31 to 2020-06-15 bulk_create:100000\n",
      "INFO:etl.import_sql:Finish!<class 'us_data.models.SharadarSep'> date:from 1997-12-31 to 2020-06-15 bulk_update:0\n"
     ]
    },
    {
     "name": "stdout",
     "output_type": "stream",
     "text": [
      "313.0 31200000 31300000\n"
     ]
    },
    {
     "name": "stderr",
     "output_type": "stream",
     "text": [
      "INFO:etl.import_sql:Finish!<class 'us_data.models.SharadarSep'> date:from 1997-12-31 to 2020-06-15 bulk_create:100000\n",
      "INFO:etl.import_sql:Finish!<class 'us_data.models.SharadarSep'> date:from 1997-12-31 to 2020-06-15 bulk_update:0\n"
     ]
    },
    {
     "name": "stdout",
     "output_type": "stream",
     "text": [
      "314.0 31300000 31400000\n"
     ]
    },
    {
     "name": "stderr",
     "output_type": "stream",
     "text": [
      "INFO:etl.import_sql:Finish!<class 'us_data.models.SharadarSep'> date:from 1997-12-31 to 2020-06-15 bulk_create:100000\n",
      "INFO:etl.import_sql:Finish!<class 'us_data.models.SharadarSep'> date:from 1997-12-31 to 2020-06-15 bulk_update:0\n"
     ]
    },
    {
     "name": "stdout",
     "output_type": "stream",
     "text": [
      "315.0 31400000 31500000\n"
     ]
    },
    {
     "name": "stderr",
     "output_type": "stream",
     "text": [
      "INFO:etl.import_sql:Finish!<class 'us_data.models.SharadarSep'> date:from 1997-12-31 to 2020-06-15 bulk_create:100000\n",
      "INFO:etl.import_sql:Finish!<class 'us_data.models.SharadarSep'> date:from 1997-12-31 to 2020-06-15 bulk_update:0\n"
     ]
    },
    {
     "name": "stdout",
     "output_type": "stream",
     "text": [
      "316.0 31500000 31600000\n"
     ]
    },
    {
     "name": "stderr",
     "output_type": "stream",
     "text": [
      "INFO:etl.import_sql:Finish!<class 'us_data.models.SharadarSep'> date:from 1997-12-31 to 2020-06-15 bulk_create:100000\n",
      "INFO:etl.import_sql:Finish!<class 'us_data.models.SharadarSep'> date:from 1997-12-31 to 2020-06-15 bulk_update:0\n"
     ]
    },
    {
     "name": "stdout",
     "output_type": "stream",
     "text": [
      "317.0 31600000 31700000\n"
     ]
    },
    {
     "name": "stderr",
     "output_type": "stream",
     "text": [
      "INFO:etl.import_sql:Finish!<class 'us_data.models.SharadarSep'> date:from 1997-12-31 to 2020-06-15 bulk_create:100000\n",
      "INFO:etl.import_sql:Finish!<class 'us_data.models.SharadarSep'> date:from 1997-12-31 to 2020-06-15 bulk_update:0\n"
     ]
    },
    {
     "name": "stdout",
     "output_type": "stream",
     "text": [
      "318.0 31700000 31800000\n"
     ]
    },
    {
     "name": "stderr",
     "output_type": "stream",
     "text": [
      "INFO:etl.import_sql:Finish!<class 'us_data.models.SharadarSep'> date:from 1997-12-31 to 2020-06-15 bulk_create:100000\n",
      "INFO:etl.import_sql:Finish!<class 'us_data.models.SharadarSep'> date:from 1997-12-31 to 2020-06-15 bulk_update:0\n"
     ]
    },
    {
     "name": "stdout",
     "output_type": "stream",
     "text": [
      "319.0 31800000 31900000\n"
     ]
    },
    {
     "name": "stderr",
     "output_type": "stream",
     "text": [
      "INFO:etl.import_sql:Finish!<class 'us_data.models.SharadarSep'> date:from 1997-12-31 to 2020-06-15 bulk_create:100000\n",
      "INFO:etl.import_sql:Finish!<class 'us_data.models.SharadarSep'> date:from 1997-12-31 to 2020-06-15 bulk_update:0\n"
     ]
    },
    {
     "name": "stdout",
     "output_type": "stream",
     "text": [
      "320.0 31900000 32000000\n"
     ]
    },
    {
     "name": "stderr",
     "output_type": "stream",
     "text": [
      "INFO:etl.import_sql:Finish!<class 'us_data.models.SharadarSep'> date:from 1997-12-31 to 2020-06-15 bulk_create:100000\n",
      "INFO:etl.import_sql:Finish!<class 'us_data.models.SharadarSep'> date:from 1997-12-31 to 2020-06-15 bulk_update:0\n"
     ]
    },
    {
     "name": "stdout",
     "output_type": "stream",
     "text": [
      "321.0 32000000 32100000\n"
     ]
    },
    {
     "name": "stderr",
     "output_type": "stream",
     "text": [
      "INFO:etl.import_sql:Finish!<class 'us_data.models.SharadarSep'> date:from 1997-12-31 to 2020-06-15 bulk_create:100000\n",
      "INFO:etl.import_sql:Finish!<class 'us_data.models.SharadarSep'> date:from 1997-12-31 to 2020-06-15 bulk_update:0\n"
     ]
    },
    {
     "name": "stdout",
     "output_type": "stream",
     "text": [
      "322.0 32100000 32200000\n"
     ]
    },
    {
     "name": "stderr",
     "output_type": "stream",
     "text": [
      "INFO:etl.import_sql:Finish!<class 'us_data.models.SharadarSep'> date:from 1997-12-31 to 2020-06-15 bulk_create:100000\n",
      "INFO:etl.import_sql:Finish!<class 'us_data.models.SharadarSep'> date:from 1997-12-31 to 2020-06-15 bulk_update:0\n"
     ]
    },
    {
     "name": "stdout",
     "output_type": "stream",
     "text": [
      "323.0 32200000 32300000\n"
     ]
    },
    {
     "name": "stderr",
     "output_type": "stream",
     "text": [
      "INFO:etl.import_sql:Finish!<class 'us_data.models.SharadarSep'> date:from 1997-12-31 to 2020-06-15 bulk_create:100000\n",
      "INFO:etl.import_sql:Finish!<class 'us_data.models.SharadarSep'> date:from 1997-12-31 to 2020-06-15 bulk_update:0\n"
     ]
    },
    {
     "name": "stdout",
     "output_type": "stream",
     "text": [
      "324.0 32300000 32400000\n"
     ]
    },
    {
     "name": "stderr",
     "output_type": "stream",
     "text": [
      "INFO:etl.import_sql:Finish!<class 'us_data.models.SharadarSep'> date:from 1997-12-31 to 2020-06-15 bulk_create:100000\n",
      "INFO:etl.import_sql:Finish!<class 'us_data.models.SharadarSep'> date:from 1997-12-31 to 2020-06-15 bulk_update:0\n"
     ]
    },
    {
     "name": "stdout",
     "output_type": "stream",
     "text": [
      "325.0 32400000 32500000\n"
     ]
    },
    {
     "name": "stderr",
     "output_type": "stream",
     "text": [
      "INFO:etl.import_sql:Finish!<class 'us_data.models.SharadarSep'> date:from 1997-12-31 to 2020-06-15 bulk_create:100000\n",
      "INFO:etl.import_sql:Finish!<class 'us_data.models.SharadarSep'> date:from 1997-12-31 to 2020-06-15 bulk_update:0\n"
     ]
    },
    {
     "name": "stdout",
     "output_type": "stream",
     "text": [
      "326.0 32500000 32600000\n"
     ]
    },
    {
     "name": "stderr",
     "output_type": "stream",
     "text": [
      "INFO:etl.import_sql:Finish!<class 'us_data.models.SharadarSep'> date:from 1997-12-31 to 2020-06-15 bulk_create:100000\n",
      "INFO:etl.import_sql:Finish!<class 'us_data.models.SharadarSep'> date:from 1997-12-31 to 2020-06-15 bulk_update:0\n"
     ]
    },
    {
     "name": "stdout",
     "output_type": "stream",
     "text": [
      "327.0 32600000 32700000\n"
     ]
    },
    {
     "name": "stderr",
     "output_type": "stream",
     "text": [
      "INFO:etl.import_sql:Finish!<class 'us_data.models.SharadarSep'> date:from 1997-12-31 to 2020-06-15 bulk_create:100000\n",
      "INFO:etl.import_sql:Finish!<class 'us_data.models.SharadarSep'> date:from 1997-12-31 to 2020-06-15 bulk_update:0\n"
     ]
    },
    {
     "name": "stdout",
     "output_type": "stream",
     "text": [
      "328.0 32700000 32800000\n"
     ]
    },
    {
     "name": "stderr",
     "output_type": "stream",
     "text": [
      "INFO:etl.import_sql:Finish!<class 'us_data.models.SharadarSep'> date:from 1997-12-31 to 2020-06-15 bulk_create:100000\n",
      "INFO:etl.import_sql:Finish!<class 'us_data.models.SharadarSep'> date:from 1997-12-31 to 2020-06-15 bulk_update:0\n"
     ]
    },
    {
     "name": "stdout",
     "output_type": "stream",
     "text": [
      "329.0 32800000 32900000\n"
     ]
    },
    {
     "name": "stderr",
     "output_type": "stream",
     "text": [
      "INFO:etl.import_sql:Finish!<class 'us_data.models.SharadarSep'> date:from 1997-12-31 to 2020-06-15 bulk_create:100000\n",
      "INFO:etl.import_sql:Finish!<class 'us_data.models.SharadarSep'> date:from 1997-12-31 to 2020-06-15 bulk_update:0\n"
     ]
    },
    {
     "name": "stdout",
     "output_type": "stream",
     "text": [
      "330.0 32900000 33000000\n"
     ]
    },
    {
     "name": "stderr",
     "output_type": "stream",
     "text": [
      "INFO:etl.import_sql:Finish!<class 'us_data.models.SharadarSep'> date:from 1997-12-31 to 2020-06-15 bulk_create:100000\n",
      "INFO:etl.import_sql:Finish!<class 'us_data.models.SharadarSep'> date:from 1997-12-31 to 2020-06-15 bulk_update:0\n"
     ]
    },
    {
     "name": "stdout",
     "output_type": "stream",
     "text": [
      "331.0 33000000 33100000\n"
     ]
    },
    {
     "name": "stderr",
     "output_type": "stream",
     "text": [
      "INFO:etl.import_sql:Finish!<class 'us_data.models.SharadarSep'> date:from 1997-12-31 to 2020-06-15 bulk_create:100000\n",
      "INFO:etl.import_sql:Finish!<class 'us_data.models.SharadarSep'> date:from 1997-12-31 to 2020-06-15 bulk_update:0\n"
     ]
    },
    {
     "name": "stdout",
     "output_type": "stream",
     "text": [
      "332.0 33100000 33200000\n"
     ]
    },
    {
     "name": "stderr",
     "output_type": "stream",
     "text": [
      "INFO:etl.import_sql:Finish!<class 'us_data.models.SharadarSep'> date:from 1997-12-31 to 2020-06-15 bulk_create:100000\n",
      "INFO:etl.import_sql:Finish!<class 'us_data.models.SharadarSep'> date:from 1997-12-31 to 2020-06-15 bulk_update:0\n"
     ]
    },
    {
     "name": "stdout",
     "output_type": "stream",
     "text": [
      "333.0 33200000 33300000\n"
     ]
    },
    {
     "name": "stderr",
     "output_type": "stream",
     "text": [
      "INFO:etl.import_sql:Finish!<class 'us_data.models.SharadarSep'> date:from 1997-12-31 to 2020-06-15 bulk_create:100000\n",
      "INFO:etl.import_sql:Finish!<class 'us_data.models.SharadarSep'> date:from 1997-12-31 to 2020-06-15 bulk_update:0\n"
     ]
    },
    {
     "name": "stdout",
     "output_type": "stream",
     "text": [
      "334.0 33300000 33400000\n"
     ]
    },
    {
     "name": "stderr",
     "output_type": "stream",
     "text": [
      "INFO:etl.import_sql:Finish!<class 'us_data.models.SharadarSep'> date:from 1997-12-31 to 2020-06-15 bulk_create:100000\n",
      "INFO:etl.import_sql:Finish!<class 'us_data.models.SharadarSep'> date:from 1997-12-31 to 2020-06-15 bulk_update:0\n"
     ]
    },
    {
     "name": "stdout",
     "output_type": "stream",
     "text": [
      "335.0 33400000 33500000\n"
     ]
    },
    {
     "name": "stderr",
     "output_type": "stream",
     "text": [
      "INFO:etl.import_sql:Finish!<class 'us_data.models.SharadarSep'> date:from 1997-12-31 to 2020-06-15 bulk_create:100000\n",
      "INFO:etl.import_sql:Finish!<class 'us_data.models.SharadarSep'> date:from 1997-12-31 to 2020-06-15 bulk_update:0\n"
     ]
    },
    {
     "name": "stdout",
     "output_type": "stream",
     "text": [
      "336.0 33500000 33600000\n"
     ]
    },
    {
     "name": "stderr",
     "output_type": "stream",
     "text": [
      "INFO:etl.import_sql:Finish!<class 'us_data.models.SharadarSep'> date:from 1997-12-31 to 2020-06-15 bulk_create:100000\n",
      "INFO:etl.import_sql:Finish!<class 'us_data.models.SharadarSep'> date:from 1997-12-31 to 2020-06-15 bulk_update:0\n"
     ]
    },
    {
     "name": "stdout",
     "output_type": "stream",
     "text": [
      "337.0 33600000 33700000\n"
     ]
    },
    {
     "name": "stderr",
     "output_type": "stream",
     "text": [
      "INFO:etl.import_sql:Finish!<class 'us_data.models.SharadarSep'> date:from 1997-12-31 to 2020-06-15 bulk_create:100000\n",
      "INFO:etl.import_sql:Finish!<class 'us_data.models.SharadarSep'> date:from 1997-12-31 to 2020-06-15 bulk_update:0\n"
     ]
    },
    {
     "name": "stdout",
     "output_type": "stream",
     "text": [
      "338.0 33700000 33800000\n"
     ]
    },
    {
     "name": "stderr",
     "output_type": "stream",
     "text": [
      "INFO:etl.import_sql:Finish!<class 'us_data.models.SharadarSep'> date:from 1997-12-31 to 2020-06-15 bulk_create:100000\n",
      "INFO:etl.import_sql:Finish!<class 'us_data.models.SharadarSep'> date:from 1997-12-31 to 2020-06-15 bulk_update:0\n"
     ]
    },
    {
     "name": "stdout",
     "output_type": "stream",
     "text": [
      "339.0 33800000 33900000\n"
     ]
    },
    {
     "name": "stderr",
     "output_type": "stream",
     "text": [
      "INFO:etl.import_sql:Finish!<class 'us_data.models.SharadarSep'> date:from 1997-12-31 to 2020-06-15 bulk_create:100000\n",
      "INFO:etl.import_sql:Finish!<class 'us_data.models.SharadarSep'> date:from 1997-12-31 to 2020-06-15 bulk_update:0\n"
     ]
    },
    {
     "name": "stdout",
     "output_type": "stream",
     "text": [
      "340.0 33900000 34000000\n"
     ]
    },
    {
     "name": "stderr",
     "output_type": "stream",
     "text": [
      "INFO:etl.import_sql:Finish!<class 'us_data.models.SharadarSep'> date:from 1997-12-31 to 2020-06-15 bulk_create:100000\n",
      "INFO:etl.import_sql:Finish!<class 'us_data.models.SharadarSep'> date:from 1997-12-31 to 2020-06-15 bulk_update:0\n"
     ]
    },
    {
     "name": "stdout",
     "output_type": "stream",
     "text": [
      "341.0 34000000 34100000\n"
     ]
    },
    {
     "name": "stderr",
     "output_type": "stream",
     "text": [
      "INFO:etl.import_sql:Finish!<class 'us_data.models.SharadarSep'> date:from 1997-12-31 to 2020-06-15 bulk_create:100000\n",
      "INFO:etl.import_sql:Finish!<class 'us_data.models.SharadarSep'> date:from 1997-12-31 to 2020-06-15 bulk_update:0\n"
     ]
    },
    {
     "name": "stdout",
     "output_type": "stream",
     "text": [
      "342.0 34100000 34200000\n"
     ]
    },
    {
     "name": "stderr",
     "output_type": "stream",
     "text": [
      "INFO:etl.import_sql:Finish!<class 'us_data.models.SharadarSep'> date:from 1997-12-31 to 2020-06-15 bulk_create:100000\n",
      "INFO:etl.import_sql:Finish!<class 'us_data.models.SharadarSep'> date:from 1997-12-31 to 2020-06-15 bulk_update:0\n"
     ]
    },
    {
     "name": "stdout",
     "output_type": "stream",
     "text": [
      "343.0 34200000 34300000\n"
     ]
    },
    {
     "name": "stderr",
     "output_type": "stream",
     "text": [
      "INFO:etl.import_sql:Finish!<class 'us_data.models.SharadarSep'> date:from 1997-12-31 to 2020-06-15 bulk_create:100000\n",
      "INFO:etl.import_sql:Finish!<class 'us_data.models.SharadarSep'> date:from 1997-12-31 to 2020-06-15 bulk_update:0\n"
     ]
    },
    {
     "name": "stdout",
     "output_type": "stream",
     "text": [
      "344.0 34300000 34400000\n"
     ]
    },
    {
     "name": "stderr",
     "output_type": "stream",
     "text": [
      "INFO:etl.import_sql:Finish!<class 'us_data.models.SharadarSep'> date:from 1997-12-31 to 2020-06-15 bulk_create:100000\n",
      "INFO:etl.import_sql:Finish!<class 'us_data.models.SharadarSep'> date:from 1997-12-31 to 2020-06-15 bulk_update:0\n"
     ]
    },
    {
     "name": "stdout",
     "output_type": "stream",
     "text": [
      "345.0 34400000 34500000\n"
     ]
    },
    {
     "name": "stderr",
     "output_type": "stream",
     "text": [
      "INFO:etl.import_sql:Finish!<class 'us_data.models.SharadarSep'> date:from 1997-12-31 to 2020-06-15 bulk_create:100000\n",
      "INFO:etl.import_sql:Finish!<class 'us_data.models.SharadarSep'> date:from 1997-12-31 to 2020-06-15 bulk_update:0\n"
     ]
    },
    {
     "name": "stdout",
     "output_type": "stream",
     "text": [
      "346.0 34500000 34600000\n"
     ]
    },
    {
     "name": "stderr",
     "output_type": "stream",
     "text": [
      "INFO:etl.import_sql:Finish!<class 'us_data.models.SharadarSep'> date:from 1997-12-31 to 2020-06-15 bulk_create:100000\n",
      "INFO:etl.import_sql:Finish!<class 'us_data.models.SharadarSep'> date:from 1997-12-31 to 2020-06-15 bulk_update:0\n"
     ]
    },
    {
     "name": "stdout",
     "output_type": "stream",
     "text": [
      "347.0 34600000 34700000\n"
     ]
    },
    {
     "name": "stderr",
     "output_type": "stream",
     "text": [
      "INFO:etl.import_sql:Finish!<class 'us_data.models.SharadarSep'> date:from 1997-12-31 to 2020-06-15 bulk_create:100000\n",
      "INFO:etl.import_sql:Finish!<class 'us_data.models.SharadarSep'> date:from 1997-12-31 to 2020-06-15 bulk_update:0\n"
     ]
    },
    {
     "name": "stdout",
     "output_type": "stream",
     "text": [
      "348.0 34700000 34800000\n"
     ]
    },
    {
     "name": "stderr",
     "output_type": "stream",
     "text": [
      "INFO:etl.import_sql:Finish!<class 'us_data.models.SharadarSep'> date:from 1997-12-31 to 2020-06-15 bulk_create:100000\n",
      "INFO:etl.import_sql:Finish!<class 'us_data.models.SharadarSep'> date:from 1997-12-31 to 2020-06-15 bulk_update:0\n"
     ]
    },
    {
     "name": "stdout",
     "output_type": "stream",
     "text": [
      "349.0 34800000 34900000\n"
     ]
    },
    {
     "name": "stderr",
     "output_type": "stream",
     "text": [
      "INFO:etl.import_sql:Finish!<class 'us_data.models.SharadarSep'> date:from 1997-12-31 to 2020-06-15 bulk_create:100000\n",
      "INFO:etl.import_sql:Finish!<class 'us_data.models.SharadarSep'> date:from 1997-12-31 to 2020-06-15 bulk_update:0\n"
     ]
    },
    {
     "name": "stdout",
     "output_type": "stream",
     "text": [
      "350.0 34900000 35000000\n"
     ]
    },
    {
     "name": "stderr",
     "output_type": "stream",
     "text": [
      "INFO:etl.import_sql:Finish!<class 'us_data.models.SharadarSep'> date:from 1997-12-31 to 2020-06-15 bulk_create:100000\n",
      "INFO:etl.import_sql:Finish!<class 'us_data.models.SharadarSep'> date:from 1997-12-31 to 2020-06-15 bulk_update:0\n"
     ]
    },
    {
     "name": "stdout",
     "output_type": "stream",
     "text": [
      "351.0 35000000 35100000\n"
     ]
    },
    {
     "name": "stderr",
     "output_type": "stream",
     "text": [
      "INFO:etl.import_sql:Finish!<class 'us_data.models.SharadarSep'> date:from 1997-12-31 to 2020-06-15 bulk_create:100000\n",
      "INFO:etl.import_sql:Finish!<class 'us_data.models.SharadarSep'> date:from 1997-12-31 to 2020-06-15 bulk_update:0\n"
     ]
    },
    {
     "name": "stdout",
     "output_type": "stream",
     "text": [
      "352.0 35100000 35200000\n"
     ]
    },
    {
     "name": "stderr",
     "output_type": "stream",
     "text": [
      "INFO:etl.import_sql:Finish!<class 'us_data.models.SharadarSep'> date:from 1997-12-31 to 2020-06-15 bulk_create:100000\n",
      "INFO:etl.import_sql:Finish!<class 'us_data.models.SharadarSep'> date:from 1997-12-31 to 2020-06-15 bulk_update:0\n"
     ]
    },
    {
     "name": "stdout",
     "output_type": "stream",
     "text": [
      "353.0 35200000 35300000\n"
     ]
    },
    {
     "name": "stderr",
     "output_type": "stream",
     "text": [
      "INFO:etl.import_sql:Finish!<class 'us_data.models.SharadarSep'> date:from 1997-12-31 to 2020-06-15 bulk_create:100000\n",
      "INFO:etl.import_sql:Finish!<class 'us_data.models.SharadarSep'> date:from 1997-12-31 to 2020-06-15 bulk_update:0\n"
     ]
    },
    {
     "name": "stdout",
     "output_type": "stream",
     "text": [
      "354.0 35300000 35400000\n"
     ]
    },
    {
     "name": "stderr",
     "output_type": "stream",
     "text": [
      "INFO:etl.import_sql:Finish!<class 'us_data.models.SharadarSep'> date:from 1997-12-31 to 2020-06-15 bulk_create:100000\n",
      "INFO:etl.import_sql:Finish!<class 'us_data.models.SharadarSep'> date:from 1997-12-31 to 2020-06-15 bulk_update:0\n"
     ]
    },
    {
     "name": "stdout",
     "output_type": "stream",
     "text": [
      "355.0 35400000 35500000\n"
     ]
    },
    {
     "name": "stderr",
     "output_type": "stream",
     "text": [
      "INFO:etl.import_sql:Finish!<class 'us_data.models.SharadarSep'> date:from 1997-12-31 to 2020-06-15 bulk_create:100000\n",
      "INFO:etl.import_sql:Finish!<class 'us_data.models.SharadarSep'> date:from 1997-12-31 to 2020-06-15 bulk_update:0\n"
     ]
    },
    {
     "name": "stdout",
     "output_type": "stream",
     "text": [
      "356.0 35500000 35600000\n"
     ]
    },
    {
     "name": "stderr",
     "output_type": "stream",
     "text": [
      "INFO:etl.import_sql:Finish!<class 'us_data.models.SharadarSep'> date:from 1997-12-31 to 2020-06-15 bulk_create:100000\n",
      "INFO:etl.import_sql:Finish!<class 'us_data.models.SharadarSep'> date:from 1997-12-31 to 2020-06-15 bulk_update:0\n"
     ]
    },
    {
     "name": "stdout",
     "output_type": "stream",
     "text": [
      "357.0 35600000 35700000\n"
     ]
    },
    {
     "name": "stderr",
     "output_type": "stream",
     "text": [
      "INFO:etl.import_sql:Finish!<class 'us_data.models.SharadarSep'> date:from 1997-12-31 to 2020-06-15 bulk_create:100000\n",
      "INFO:etl.import_sql:Finish!<class 'us_data.models.SharadarSep'> date:from 1997-12-31 to 2020-06-15 bulk_update:0\n"
     ]
    },
    {
     "name": "stdout",
     "output_type": "stream",
     "text": [
      "358.0 35700000 35800000\n"
     ]
    },
    {
     "name": "stderr",
     "output_type": "stream",
     "text": [
      "INFO:etl.import_sql:Finish!<class 'us_data.models.SharadarSep'> date:from 1997-12-31 to 2020-06-15 bulk_create:100000\n",
      "INFO:etl.import_sql:Finish!<class 'us_data.models.SharadarSep'> date:from 1997-12-31 to 2020-06-15 bulk_update:0\n"
     ]
    },
    {
     "name": "stdout",
     "output_type": "stream",
     "text": [
      "359.0 35800000 35900000\n"
     ]
    },
    {
     "name": "stderr",
     "output_type": "stream",
     "text": [
      "INFO:etl.import_sql:Finish!<class 'us_data.models.SharadarSep'> date:from 1997-12-31 to 2020-06-15 bulk_create:100000\n",
      "INFO:etl.import_sql:Finish!<class 'us_data.models.SharadarSep'> date:from 1997-12-31 to 2020-06-15 bulk_update:0\n"
     ]
    },
    {
     "name": "stdout",
     "output_type": "stream",
     "text": [
      "360.0 35900000 36000000\n"
     ]
    },
    {
     "name": "stderr",
     "output_type": "stream",
     "text": [
      "INFO:etl.import_sql:Finish!<class 'us_data.models.SharadarSep'> date:from 1997-12-31 to 2020-06-15 bulk_create:100000\n",
      "INFO:etl.import_sql:Finish!<class 'us_data.models.SharadarSep'> date:from 1997-12-31 to 2020-06-15 bulk_update:0\n"
     ]
    },
    {
     "name": "stdout",
     "output_type": "stream",
     "text": [
      "361.0 36000000 36100000\n"
     ]
    },
    {
     "name": "stderr",
     "output_type": "stream",
     "text": [
      "INFO:etl.import_sql:Finish!<class 'us_data.models.SharadarSep'> date:from 1997-12-31 to 2020-06-15 bulk_create:100000\n",
      "INFO:etl.import_sql:Finish!<class 'us_data.models.SharadarSep'> date:from 1997-12-31 to 2020-06-15 bulk_update:0\n"
     ]
    },
    {
     "name": "stdout",
     "output_type": "stream",
     "text": [
      "362.0 36100000 36200000\n"
     ]
    },
    {
     "name": "stderr",
     "output_type": "stream",
     "text": [
      "INFO:etl.import_sql:Finish!<class 'us_data.models.SharadarSep'> date:from 1997-12-31 to 2020-06-15 bulk_create:100000\n",
      "INFO:etl.import_sql:Finish!<class 'us_data.models.SharadarSep'> date:from 1997-12-31 to 2020-06-15 bulk_update:0\n"
     ]
    },
    {
     "name": "stdout",
     "output_type": "stream",
     "text": [
      "363.0 36200000 36300000\n"
     ]
    },
    {
     "name": "stderr",
     "output_type": "stream",
     "text": [
      "INFO:etl.import_sql:Finish!<class 'us_data.models.SharadarSep'> date:from 1997-12-31 to 2020-06-15 bulk_create:100000\n",
      "INFO:etl.import_sql:Finish!<class 'us_data.models.SharadarSep'> date:from 1997-12-31 to 2020-06-15 bulk_update:0\n"
     ]
    },
    {
     "name": "stdout",
     "output_type": "stream",
     "text": [
      "364.0 36300000 36400000\n"
     ]
    },
    {
     "name": "stderr",
     "output_type": "stream",
     "text": [
      "INFO:etl.import_sql:Finish!<class 'us_data.models.SharadarSep'> date:from 1997-12-31 to 2020-06-15 bulk_create:100000\n",
      "INFO:etl.import_sql:Finish!<class 'us_data.models.SharadarSep'> date:from 1997-12-31 to 2020-06-15 bulk_update:0\n"
     ]
    },
    {
     "name": "stdout",
     "output_type": "stream",
     "text": [
      "365.0 36400000 36500000\n"
     ]
    },
    {
     "name": "stderr",
     "output_type": "stream",
     "text": [
      "INFO:etl.import_sql:Finish!<class 'us_data.models.SharadarSep'> date:from 1997-12-31 to 2020-06-15 bulk_create:100000\n",
      "INFO:etl.import_sql:Finish!<class 'us_data.models.SharadarSep'> date:from 1997-12-31 to 2020-06-15 bulk_update:0\n"
     ]
    },
    {
     "name": "stdout",
     "output_type": "stream",
     "text": [
      "366.0 36500000 36600000\n"
     ]
    },
    {
     "name": "stderr",
     "output_type": "stream",
     "text": [
      "INFO:etl.import_sql:Finish!<class 'us_data.models.SharadarSep'> date:from 1997-12-31 to 2020-06-15 bulk_create:100000\n",
      "INFO:etl.import_sql:Finish!<class 'us_data.models.SharadarSep'> date:from 1997-12-31 to 2020-06-15 bulk_update:0\n"
     ]
    },
    {
     "name": "stdout",
     "output_type": "stream",
     "text": [
      "367.0 36600000 36700000\n"
     ]
    },
    {
     "name": "stderr",
     "output_type": "stream",
     "text": [
      "INFO:etl.import_sql:Finish!<class 'us_data.models.SharadarSep'> date:from 1997-12-31 to 2020-06-15 bulk_create:100000\n",
      "INFO:etl.import_sql:Finish!<class 'us_data.models.SharadarSep'> date:from 1997-12-31 to 2020-06-15 bulk_update:0\n"
     ]
    },
    {
     "name": "stdout",
     "output_type": "stream",
     "text": [
      "368.0 36700000 36800000\n"
     ]
    },
    {
     "name": "stderr",
     "output_type": "stream",
     "text": [
      "INFO:etl.import_sql:Finish!<class 'us_data.models.SharadarSep'> date:from 1997-12-31 to 2020-06-15 bulk_create:100000\n",
      "INFO:etl.import_sql:Finish!<class 'us_data.models.SharadarSep'> date:from 1997-12-31 to 2020-06-15 bulk_update:0\n"
     ]
    },
    {
     "name": "stdout",
     "output_type": "stream",
     "text": [
      "369.0 36800000 36900000\n"
     ]
    },
    {
     "name": "stderr",
     "output_type": "stream",
     "text": [
      "INFO:etl.import_sql:Finish!<class 'us_data.models.SharadarSep'> date:from 1997-12-31 to 2020-06-15 bulk_create:100000\n",
      "INFO:etl.import_sql:Finish!<class 'us_data.models.SharadarSep'> date:from 1997-12-31 to 2020-06-15 bulk_update:0\n"
     ]
    },
    {
     "name": "stdout",
     "output_type": "stream",
     "text": [
      "370.0 36900000 37000000\n"
     ]
    },
    {
     "name": "stderr",
     "output_type": "stream",
     "text": [
      "INFO:etl.import_sql:Finish!<class 'us_data.models.SharadarSep'> date:from 1997-12-31 to 2020-06-15 bulk_create:100000\n",
      "INFO:etl.import_sql:Finish!<class 'us_data.models.SharadarSep'> date:from 1997-12-31 to 2020-06-15 bulk_update:0\n"
     ]
    },
    {
     "name": "stdout",
     "output_type": "stream",
     "text": [
      "371.0 37000000 37100000\n"
     ]
    },
    {
     "name": "stderr",
     "output_type": "stream",
     "text": [
      "INFO:etl.import_sql:Finish!<class 'us_data.models.SharadarSep'> date:from 1997-12-31 to 2020-06-15 bulk_create:100000\n",
      "INFO:etl.import_sql:Finish!<class 'us_data.models.SharadarSep'> date:from 1997-12-31 to 2020-06-15 bulk_update:0\n"
     ]
    },
    {
     "name": "stdout",
     "output_type": "stream",
     "text": [
      "372.0 37100000 37200000\n"
     ]
    },
    {
     "name": "stderr",
     "output_type": "stream",
     "text": [
      "INFO:etl.import_sql:Finish!<class 'us_data.models.SharadarSep'> date:from 1997-12-31 to 2020-06-15 bulk_create:100000\n",
      "INFO:etl.import_sql:Finish!<class 'us_data.models.SharadarSep'> date:from 1997-12-31 to 2020-06-15 bulk_update:0\n"
     ]
    },
    {
     "name": "stdout",
     "output_type": "stream",
     "text": [
      "373.0 37200000 37300000\n"
     ]
    },
    {
     "name": "stderr",
     "output_type": "stream",
     "text": [
      "INFO:etl.import_sql:Finish!<class 'us_data.models.SharadarSep'> date:from 1997-12-31 to 2020-06-15 bulk_create:100000\n",
      "INFO:etl.import_sql:Finish!<class 'us_data.models.SharadarSep'> date:from 1997-12-31 to 2020-06-15 bulk_update:0\n"
     ]
    },
    {
     "name": "stdout",
     "output_type": "stream",
     "text": [
      "374.0 37300000 37400000\n"
     ]
    },
    {
     "name": "stderr",
     "output_type": "stream",
     "text": [
      "INFO:etl.import_sql:Finish!<class 'us_data.models.SharadarSep'> date:from 2002-09-30 to 2020-06-15 bulk_create:13280\n",
      "INFO:etl.import_sql:Finish!<class 'us_data.models.SharadarSep'> date:from 2002-09-30 to 2020-06-15 bulk_update:0\n"
     ]
    }
   ],
   "source": [
    "# connect to finlab_django mysql\n",
    "connect_info = 'mysql+pymysql://{}:{}@{}:{}/{}?charset=utf8'.format(\"finlab\",\"finlab\",\"localhost\",3306,\"dev_us_data\")\n",
    "engine = create_engine(connect_info)\n",
    "for s,e in zip(num_list[:-1],num_list[1:]):\n",
    "    print(s/100000+1,s,e)\n",
    "    df=df2.iloc[s:e]\n",
    "#     df.to_sql(con=engine,name='sharadar_sep',index_label='id', if_exists='append')\n",
    "    SqlImporter.add_to_sql(SharadarSep, df,check_date_rule=False)"
   ]
  },
  {
   "cell_type": "code",
   "execution_count": 36,
   "metadata": {},
   "outputs": [
    {
     "name": "stdout",
     "output_type": "stream",
     "text": [
      "0 15\n"
     ]
    },
    {
     "name": "stderr",
     "output_type": "stream",
     "text": [
      "INFO:etl.import_sql:Finish!<class 'us_data.models.SharadarSep'> date:from 2020-07-01 to 2020-07-15 bulk_create:68470\n",
      "INFO:etl.import_sql:Finish!<class 'us_data.models.SharadarSep'> date:from 2020-07-01 to 2020-07-15 bulk_update:0\n"
     ]
    },
    {
     "name": "stdout",
     "output_type": "stream",
     "text": [
      "15 30\n"
     ]
    },
    {
     "name": "stderr",
     "output_type": "stream",
     "text": [
      "INFO:etl.import_sql:Finish!<class 'us_data.models.SharadarSep'> date:from 2020-07-16 to 2020-07-30 bulk_create:75560\n",
      "INFO:etl.import_sql:Finish!<class 'us_data.models.SharadarSep'> date:from 2020-07-16 to 2020-07-30 bulk_update:0\n"
     ]
    },
    {
     "name": "stdout",
     "output_type": "stream",
     "text": [
      "30 45\n"
     ]
    },
    {
     "name": "stderr",
     "output_type": "stream",
     "text": [
      "INFO:etl.import_sql:Finish!<class 'us_data.models.SharadarSep'> date:from 2020-07-31 to 2020-08-14 bulk_create:75857\n",
      "INFO:etl.import_sql:Finish!<class 'us_data.models.SharadarSep'> date:from 2020-07-31 to 2020-08-14 bulk_update:0\n"
     ]
    },
    {
     "name": "stdout",
     "output_type": "stream",
     "text": [
      "45 60\n"
     ]
    },
    {
     "name": "stderr",
     "output_type": "stream",
     "text": [
      "INFO:etl.import_sql:Finish!<class 'us_data.models.SharadarSep'> date:from 2020-08-17 to 2020-08-28 bulk_create:69264\n",
      "INFO:etl.import_sql:Finish!<class 'us_data.models.SharadarSep'> date:from 2020-08-17 to 2020-08-28 bulk_update:0\n"
     ]
    },
    {
     "name": "stdout",
     "output_type": "stream",
     "text": [
      "60 75\n"
     ]
    },
    {
     "name": "stderr",
     "output_type": "stream",
     "text": [
      "INFO:etl.import_sql:Finish!<class 'us_data.models.SharadarSep'> date:from 2020-08-31 to 2020-09-11 bulk_create:62488\n",
      "INFO:etl.import_sql:Finish!<class 'us_data.models.SharadarSep'> date:from 2020-08-31 to 2020-09-11 bulk_update:0\n"
     ]
    },
    {
     "name": "stdout",
     "output_type": "stream",
     "text": [
      "75 90\n"
     ]
    },
    {
     "name": "stderr",
     "output_type": "stream",
     "text": [
      "INFO:etl.import_sql:Finish!<class 'us_data.models.SharadarSep'> date:from 2020-09-14 to 2020-09-28 bulk_create:76821\n",
      "INFO:etl.import_sql:Finish!<class 'us_data.models.SharadarSep'> date:from 2020-09-14 to 2020-09-28 bulk_update:0\n"
     ]
    },
    {
     "name": "stdout",
     "output_type": "stream",
     "text": [
      "90 105\n"
     ]
    },
    {
     "name": "stderr",
     "output_type": "stream",
     "text": [
      "INFO:etl.import_sql:Finish!<class 'us_data.models.SharadarSep'> date:from 2020-09-29 to 2020-10-12 bulk_create:70175\n",
      "INFO:etl.import_sql:Finish!<class 'us_data.models.SharadarSep'> date:from 2020-09-29 to 2020-10-12 bulk_update:0\n"
     ]
    }
   ],
   "source": [
    "# 補資料，分批打api\n",
    "dd=date_range(datetime.datetime(2020,7,1), datetime.datetime(2020,10,12))\n",
    "nn=[i for i in range(0,106,15)]\n",
    "for s,e in zip(nn[:-1],nn[1:]):\n",
    "    print(s,e)\n",
    "    df=SharadarCrawler(dd[s:e]).download_sep()\n",
    "    SqlImporter.add_to_sql(SharadarSep, df,1)"
   ]
  },
  {
   "cell_type": "code",
   "execution_count": null,
   "metadata": {},
   "outputs": [],
   "source": []
  }
 ],
 "metadata": {
  "kernelspec": {
   "display_name": "Django Shell-Plus",
   "language": "python",
   "name": "django_extensions"
  },
  "language_info": {
   "codemirror_mode": {
    "name": "ipython",
    "version": 3
   },
   "file_extension": ".py",
   "mimetype": "text/x-python",
   "name": "python",
   "nbconvert_exporter": "python",
   "pygments_lexer": "ipython3",
   "version": "3.7.4"
  }
 },
 "nbformat": 4,
 "nbformat_minor": 4
}
