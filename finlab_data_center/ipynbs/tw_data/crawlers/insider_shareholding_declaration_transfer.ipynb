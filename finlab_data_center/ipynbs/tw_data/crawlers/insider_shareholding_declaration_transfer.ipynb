{
 "cells": [
  {
   "cell_type": "code",
   "execution_count": 1,
   "metadata": {},
   "outputs": [],
   "source": [
    "import pandas as pd\n",
    "from io import StringIO\n",
    "import requests\n",
    "import datetime\n",
    "from etl.utils import *\n",
    "from etl.import_sql import *\n",
    "from tw_data.models import *\n",
    "import time\n",
    "import json\n",
    "import numpy as np\n",
    "import sys,os\n",
    "sys.path.append(\"..\")\n",
    "import django\n",
    "django.setup()\n",
    "from django.conf import settings\n",
    "import logging\n",
    "import datetime\n",
    "\n",
    "logging.basicConfig(level=logging.INFO)"
   ]
  },
  {
   "cell_type": "code",
   "execution_count": null,
   "metadata": {},
   "outputs": [],
   "source": [
    "class InsiderShareholdingDeclarationTransferCrawlerTW:\n",
    "    def __init__(self):\n",
    "        self.target_name = \"台股內部人持股轉讓宣告\"\n",
    "        self.sub_market = [\"sii\", \"otc\",\"rotc\"]\n",
    "\n",
    "    def crawl_func(self,market,year,smonth='01',emonth='12'):\n",
    "        url='https://mops.twse.com.tw/mops/web/ajax_t56sb21'\n",
    "        form_data={'encodeURIComponent': '1',\n",
    "        'run': 'Y',\n",
    "        'step': '1',\n",
    "        'TYPEK': market,\n",
    "        'year': year,\n",
    "        'smonth': smonth,\n",
    "        'emonth': emonth,\n",
    "        'sstep': '1',\n",
    "        'firstin': 'true'}\n",
    "        res = requests.post(url,data = form_data)\n",
    "        res.encoding = 'utf-8'\n",
    "        df = pd.read_html(StringIO(res.text))[0]\n",
    "        df.columns=[a if a==b else a+'_'+b for a,b in df.columns]\n",
    "        df=df.astype(str)\n",
    "        df = df.rename(columns={\n",
    "         '申報日期': 'date',\n",
    "         '公司代號': 'stock_id',\n",
    "         '公司名稱': 'stock_name',\n",
    "         '申報人身分': 'declarant_identity',\n",
    "         '姓名': 'name',\n",
    "         '預定轉讓方式及股數_轉讓方式': 'shares_transfer_method',\n",
    "         '預定轉讓方式及股數_轉讓股數': 'transferred_shares_num',\n",
    "         '每日於盤中交易最大得轉讓股數': 'maximum_transferable_shares_in_one_day',\n",
    "         '受讓人': 'assignee',\n",
    "         '目前持有股數_自有持股': 'current_shares',\n",
    "         '目前持有股數_保留運用決定權信託股數': 'current_shares_trust',\n",
    "         '預定轉讓總股數_自有持股': 'transferred_own_shares_total_num',\n",
    "         '預定轉讓總股數_保留運用決定權信託股數': 'transferred_trust_shares_total_num',\n",
    "         '預定轉讓後持股_自有持股': 'after_transfer_own_shareholding',\n",
    "         '預定轉讓後持股_保留運用決定權信託股數': 'after_transfer_trust_shareholding',\n",
    "         '是否申報持股未完成轉讓': 'declare_uncompleted_transfer'})\n",
    "\n",
    "        df['date'] = df['date'].apply(lambda t: year_transfer(t,method='datetime'))\n",
    "        df['有效轉讓期間']=df['有效轉讓期間'].apply(lambda t:t.replace('nan','000/01/01 ~ 000/01/01'))\n",
    "        df['start_date']=df['有效轉讓期間'].apply(lambda t: year_transfer(t[:t.index('~')-1],method='datetime'))\n",
    "        df['end_date']=df['有效轉讓期間'].apply(lambda t: year_transfer(t[t.index('~')+1:],method='datetime'))\n",
    "        df['declare_uncompleted_transfer']=df['declare_uncompleted_transfer'].apply(lambda t:t.replace('是','1').replace('nan','0'))\n",
    "        df=df.drop(columns=['異動情形','有效轉讓期間'])\n",
    "        numeric_col=['transferred_shares_num','maximum_transferable_shares_in_one_day','current_shares','current_shares_trust','transferred_own_shares_total_num','transferred_trust_shares_total_num','after_transfer_own_shareholding','after_transfer_trust_shareholding','declare_uncompleted_transfer']\n",
    "        df[numeric_col] = df[numeric_col].apply(lambda s: pd.to_numeric(s, errors=\"coerce\"))\n",
    "        df['market']=market\n",
    "        df=df.sort_values('date')\n",
    "        return df\n",
    "\n",
    "\n",
    "    def crawl_main(self,y_list=None):\n",
    "        if y_list is None:\n",
    "            year=datetime.datetime.now().year-1911\n",
    "            y_list=[str(year)]\n",
    "        try:\n",
    "            data=[]\n",
    "            for m in self.sub_market:\n",
    "                for y in y_list:\n",
    "                    try:\n",
    "                        df=self.crawl_func(m,y)\n",
    "                    except Exception as e:   \n",
    "                        logger.error(m,e)\n",
    "                        return None\n",
    "                    data.append(df)\n",
    "                    time.sleep(10)\n",
    "            result=pd.concat(data).sort_values('date')\n",
    "        except Exception as e:\n",
    "            logger.error(e)\n",
    "            return None\n",
    "        return result\n"
   ]
  },
  {
   "cell_type": "code",
   "execution_count": null,
   "metadata": {
    "scrolled": true
   },
   "outputs": [],
   "source": [
    "# one market \n",
    "df=InsiderShareholdingDeclarationTransferCrawlerTW().crawl_func(market='rotc',year='102',smonth='01',emonth='12')\n",
    "df"
   ]
  },
  {
   "cell_type": "code",
   "execution_count": null,
   "metadata": {},
   "outputs": [],
   "source": [
    "# all market\n",
    "df=InsiderShareholdingDeclarationTransferCrawlerTW().crawl_main(y_list=['103'])\n",
    "df"
   ]
  },
  {
   "cell_type": "markdown",
   "metadata": {},
   "source": [
    "# generate sql code"
   ]
  },
  {
   "cell_type": "code",
   "execution_count": null,
   "metadata": {},
   "outputs": [],
   "source": [
    "tail='  PRIMARY KEY (`id`),\\n  UNIQUE INDEX `unique_idx` (`stock_id` ASC, `date` ASC) VISIBLE,\\n  INDEX `stock_id_idx` (`stock_id` ASC) VISIBLE,\\n  INDEX `date_idx` (`date` ASC) VISIBLE,\\n  INDEX `name_idx` (`name` ASC) VISIBLE);'\n",
    "SqlCreateTable(ss).generate_table('tw_data','insider_shareholding_declaration_transfer',tail)\n"
   ]
  },
  {
   "cell_type": "markdown",
   "metadata": {},
   "source": [
    "# import data"
   ]
  },
  {
   "cell_type": "code",
   "execution_count": null,
   "metadata": {},
   "outputs": [],
   "source": [
    "y_list=[str(i) for i in range(103,110)]\n",
    "y_list"
   ]
  },
  {
   "cell_type": "code",
   "execution_count": null,
   "metadata": {},
   "outputs": [],
   "source": [
    "c=InsiderShareholdingDeclarationTransferCrawlerTW()\n",
    "# SqlImporter.add_to_sql(InsiderShareholdingDeclarationTransfer, c.crawl_main(y_list=y_list))\n",
    "SqlImporter.add_to_sql(InsiderShareholdingDeclarationTransfer, c.crawl_main())"
   ]
  },
  {
   "cell_type": "code",
   "execution_count": null,
   "metadata": {},
   "outputs": [],
   "source": [
    "c=InsiderShareholdingDeclarationTransferCrawlerTW()\n",
    "SqlImporter.add_to_sql(InsiderShareholdingDeclarationTransfer, df)"
   ]
  },
  {
   "cell_type": "code",
   "execution_count": 2,
   "metadata": {},
   "outputs": [
    {
     "name": "stderr",
     "output_type": "stream",
     "text": [
      "INFO:etl.import_sql:Finish!<class 'tw_data.models.InsiderShareholdingDeclarationTransfer'> date:from 2020-01-02 to 2020-11-20 bulk_create:0\n",
      "INFO:etl.import_sql:Finish!<class 'tw_data.models.InsiderShareholdingDeclarationTransfer'> date:from 2020-01-02 to 2020-11-20 bulk_update:1861\n"
     ]
    },
    {
     "data": {
      "text/plain": [
       "\"Finish!<class 'tw_data.models.InsiderShareholdingDeclarationTransfer'> date:from 2020-01-02 to 2020-11-20 bulk_create:0,Finish!<class 'tw_data.models.InsiderShareholdingDeclarationTransfer'> date:from 2020-01-02 to 2020-11-20 bulk_update:1861\""
      ]
     },
     "execution_count": 2,
     "metadata": {},
     "output_type": "execute_result"
    }
   ],
   "source": [
    "from etl.tasks import crawler_task_once\n",
    "crawler_task_once(\n",
    "'InsiderShareholdingDeclarationTransferCrawlerTW'  ,'crawl_main'  , 'InsiderShareholdingDeclarationTransfer' )"
   ]
  },
  {
   "cell_type": "code",
   "execution_count": null,
   "metadata": {},
   "outputs": [],
   "source": []
  }
 ],
 "metadata": {
  "kernelspec": {
   "display_name": "Django Shell-Plus",
   "language": "python",
   "name": "django_extensions"
  },
  "language_info": {
   "codemirror_mode": {
    "name": "ipython",
    "version": 3
   },
   "file_extension": ".py",
   "mimetype": "text/x-python",
   "name": "python",
   "nbconvert_exporter": "python",
   "pygments_lexer": "ipython3",
   "version": "3.7.7"
  }
 },
 "nbformat": 4,
 "nbformat_minor": 4
}
