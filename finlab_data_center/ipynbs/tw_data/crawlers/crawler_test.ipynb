{
 "cells": [
  {
   "cell_type": "code",
   "execution_count": 1,
   "metadata": {},
   "outputs": [],
   "source": [
    "import sys,os\n",
    "sys.path.append(\"..\")\n",
    "import django\n",
    "django.setup()\n",
    "from django.conf import settings\n",
    "from tw_data.stock_crawlers import *\n",
    "from tw_data.future_crawlers import *\n",
    "from tw_data.models import *\n",
    "from etl.import_sql import *\n",
    "import logging\n",
    "import datetime\n",
    "\n",
    "logging.basicConfig(level=logging.INFO)\n"
   ]
  },
  {
   "cell_type": "markdown",
   "metadata": {},
   "source": [
    "# 台股股價"
   ]
  },
  {
   "cell_type": "code",
   "execution_count": null,
   "metadata": {},
   "outputs": [],
   "source": [
    "C1=CrawlerProcess(StockPriceCrawlerTW,'crawl_main' ,StockPrice,'date_range')\n",
    "logging.info(C1)\n",
    "\n",
    "# # 指定日期區間爬蟲\n",
    "# C1.specified_date_crawl('2020-9-22','2020-9-22')\n",
    "\n",
    "# 自動爬蟲\n",
    "C1.auto_update_crawl()"
   ]
  },
  {
   "cell_type": "markdown",
   "metadata": {},
   "source": [
    "# 匯入課程股價資料"
   ]
  },
  {
   "cell_type": "code",
   "execution_count": null,
   "metadata": {},
   "outputs": [],
   "source": [
    "class_df=pd.read_pickle('/Users/benbilly3/finlab/python_ai_stock_online_class/history/tables/price.pkl')\n",
    "class_df=class_df.reset_index()\n",
    "class_df['stock_name']=class_df['stock_id'].apply(lambda s:s[s.index(' ')+1:])\n",
    "class_df['stock_id']=class_df['stock_id'].apply(lambda s:s[:s.index(' ')])\n",
    "class_df=class_df[~class_df['stock_id'].isin(list(set([i for i in class_df['stock_id'].values if len(i)>4 and i[0]=='7'])))]\n",
    "\n",
    "class_df= class_df.rename(columns={\"證券代號\": \"stock_id\", \"證券名稱\": \"stock_name\",\n",
    "                                \"成交股數\": \"vol\", \"成交金額\": \"turnover_price\",\n",
    "                                \"開盤價\": \"open\", \"收盤價\": \"close\",\n",
    "                                \"最高價\": \"high\", \"最低價\": \"low\",\"成交筆數\":\"transactions_number\",\n",
    "                                \"最後揭示買價\":\"finally_reveal_buy_price\",\"最後揭示賣價\":\"finally_reveal_sell_price\"})\n",
    "class_df.iloc[:, 3:-1] =class_df.iloc[:, 3:-1].apply(lambda s: pd.to_numeric(s, errors=\"coerce\"))\n",
    "class_df"
   ]
  },
  {
   "cell_type": "code",
   "execution_count": null,
   "metadata": {},
   "outputs": [],
   "source": [
    "class_df.to_pickle('/Users/benbilly3/finlab/finlab_data_center/finlab_data_center/static/pickle_table/tw_data/stock_price.pkl')"
   ]
  },
  {
   "cell_type": "code",
   "execution_count": null,
   "metadata": {},
   "outputs": [],
   "source": [
    "class_df[class_df['stock_id']=='00731']"
   ]
  },
  {
   "cell_type": "code",
   "execution_count": null,
   "metadata": {},
   "outputs": [],
   "source": [
    "df_test=class_df.head(500)\n",
    "df_test"
   ]
  },
  {
   "cell_type": "code",
   "execution_count": null,
   "metadata": {},
   "outputs": [],
   "source": [
    "def batchly_import_df(df,model,range_:int):\n",
    "    total=len(df)+range_\n",
    "    num_list=[i for i in range(0,total,range_)]\n",
    "    for s,e in zip(num_list[:-1],num_list[1:]):\n",
    "        print(s,e)\n",
    "        sub_df=df.iloc[s:e]\n",
    "        SqlImporter.add_to_sql(model, sub_df,check_date_rule=False)\n",
    "\n",
    "batchly_import_df(class_df,StockPrice,200000)\n"
   ]
  },
  {
   "cell_type": "code",
   "execution_count": null,
   "metadata": {},
   "outputs": [],
   "source": [
    "pp=StockPrice.objects.filter(stock_id='2330').values_list('date','close')"
   ]
  },
  {
   "cell_type": "code",
   "execution_count": null,
   "metadata": {},
   "outputs": [],
   "source": [
    "import matplotlib.pyplot as plt\n",
    "df_p=pd.DataFrame(list(pp))\n",
    "df_p=df_p.set_index(0)\n",
    "df_p.plot()"
   ]
  },
  {
   "cell_type": "markdown",
   "metadata": {},
   "source": [
    "# 台股月營收"
   ]
  },
  {
   "cell_type": "code",
   "execution_count": null,
   "metadata": {},
   "outputs": [],
   "source": [
    "C2=CrawlerProcess(MonthlyRevnueCrawlerTW,'crawl_main',MonthlyRevenue,'month_range')\n",
    "print(C2)\n",
    "# C2.specified_date_crawl('2015-5-10','2015-6-10')\n",
    "C2.auto_update_crawl(deadline=15) "
   ]
  },
  {
   "cell_type": "markdown",
   "metadata": {},
   "source": [
    "# 集保餘額"
   ]
  },
  {
   "cell_type": "code",
   "execution_count": 2,
   "metadata": {},
   "outputs": [
    {
     "name": "stderr",
     "output_type": "stream",
     "text": [
      "INFO:etl.import_sql:Finish!<class 'tw_data.models.StockTdcc'> date:from 2020-12-25 to 2020-12-25 bulk_create:45040\n",
      "INFO:etl.import_sql:Finish!<class 'tw_data.models.StockTdcc'> date:from 2020-12-25 to 2020-12-25 bulk_update:0\n"
     ]
    },
    {
     "data": {
      "text/plain": [
       "\"Finish!<class 'tw_data.models.StockTdcc'> date:from 2020-12-25 to 2020-12-25 bulk_create:45040,Finish!<class 'tw_data.models.StockTdcc'> date:from 2020-12-25 to 2020-12-25 bulk_update:0\""
      ]
     },
     "execution_count": 2,
     "metadata": {},
     "output_type": "execute_result"
    }
   ],
   "source": [
    "C3=StockTdccCrawlerTW()\n",
    "C3.crawl_main()\n",
    "SqlImporter.add_to_sql(StockTdcc, C3.crawl_main(),directly_create=1)"
   ]
  },
  {
   "cell_type": "markdown",
   "metadata": {},
   "source": [
    "# 台股企業基本資訊"
   ]
  },
  {
   "cell_type": "code",
   "execution_count": null,
   "metadata": {},
   "outputs": [],
   "source": [
    "C4=CompanyInfoCrawlerTW()\n",
    "SqlImporter.add_to_sql(CompanyInfo, C4.crawl_main())"
   ]
  },
  {
   "cell_type": "markdown",
   "metadata": {},
   "source": [
    "# 台股指數點值資訊"
   ]
  },
  {
   "cell_type": "code",
   "execution_count": null,
   "metadata": {},
   "outputs": [],
   "source": [
    "C5=CrawlerProcess(StockIndexPriceCrawlerTW,'crawl_main' ,StockIndexPrice,'date_range')\n",
    "logging.info(C5)\n",
    "\n",
    "# # 指定日期區間爬蟲\n",
    "# C1.specified_date_crawl('2020-9-22','2020-9-22')\n",
    "\n",
    "# 自動爬蟲\n",
    "C5.auto_update_crawl()"
   ]
  },
  {
   "cell_type": "markdown",
   "metadata": {},
   "source": [
    "# 台股指數成交量暨統計資訊"
   ]
  },
  {
   "cell_type": "code",
   "execution_count": null,
   "metadata": {},
   "outputs": [],
   "source": [
    "C6=CrawlerProcess(StockIndexVolCrawlerTW,'crawl_main' ,StockIndexVol,'date_range')\n",
    "logging.info(C6)\n",
    "\n",
    "# # 指定日期區間爬蟲\n",
    "# C1.specified_date_crawl('2020-9-22','2020-9-22')\n",
    "\n",
    "# 自動爬蟲\n",
    "C6.auto_update_crawl()"
   ]
  },
  {
   "cell_type": "markdown",
   "metadata": {},
   "source": [
    "# 台股券商資訊"
   ]
  },
  {
   "cell_type": "code",
   "execution_count": null,
   "metadata": {},
   "outputs": [],
   "source": [
    "C7=BrokerInfoCrawler()\n",
    "SqlImporter.add_to_sql(BrokerInfo, C7.crawl_main())"
   ]
  },
  {
   "cell_type": "markdown",
   "metadata": {},
   "source": [
    "# 台股法人買賣超現貨明細"
   ]
  },
  {
   "cell_type": "code",
   "execution_count": null,
   "metadata": {},
   "outputs": [],
   "source": [
    "C8=CrawlerProcess(StockTiiCrawlerTW,'crawl_main' ,StockTii,'date_range')\n",
    "logging.info(C8)\n",
    "\n",
    "# # 指定日期區間爬蟲\n",
    "# C1.specified_date_crawl('2020-9-22','2020-9-22')\n",
    "\n",
    "# 自動爬蟲\n",
    "C8.auto_update_crawl()"
   ]
  },
  {
   "cell_type": "markdown",
   "metadata": {},
   "source": [
    "# 台股法人買賣超現貨日統計"
   ]
  },
  {
   "cell_type": "code",
   "execution_count": null,
   "metadata": {},
   "outputs": [],
   "source": [
    "C9=CrawlerProcess(StockTiiMarketCrawlerTW,'crawl_main' ,StockTiiMarket,'date_range')\n",
    "logging.info(C9)\n",
    "\n",
    "# # 指定日期區間爬蟲\n",
    "# C1.specified_date_crawl('2020-9-22','2020-9-22')\n",
    "\n",
    "# 自動爬蟲\n",
    "C9.auto_update_crawl()"
   ]
  },
  {
   "cell_type": "markdown",
   "metadata": {},
   "source": [
    "# 融資交易明細"
   ]
  },
  {
   "cell_type": "code",
   "execution_count": null,
   "metadata": {},
   "outputs": [],
   "source": [
    "C10=CrawlerProcess(StockMarginTransactionsCrawlerTW,'crawl_main' ,StockMarginTransactions,'date_range')\n",
    "logging.info(C10)\n",
    "\n",
    "# # 指定日期區間爬蟲\n",
    "# C10.specified_date_crawl('2020-9-22','2020-9-22')\n",
    "\n",
    "# 自動爬蟲\n",
    "C10.auto_update_crawl()"
   ]
  },
  {
   "cell_type": "markdown",
   "metadata": {},
   "source": [
    "# 本益比"
   ]
  },
  {
   "cell_type": "code",
   "execution_count": null,
   "metadata": {},
   "outputs": [],
   "source": [
    "C11=CrawlerProcess(Stock3PRatioCrawlerTW,'crawl_main' ,Stock3PRatio,'date_range')\n",
    "logging.info(C11)\n",
    "\n",
    "# # 指定日期區間爬蟲\n",
    "# C1.specified_date_crawl('2020-9-22','2020-9-22')\n",
    "\n",
    "# 自動爬蟲\n",
    "C11.auto_update_crawl()"
   ]
  },
  {
   "cell_type": "markdown",
   "metadata": {},
   "source": [
    "# 除權息還原"
   ]
  },
  {
   "cell_type": "code",
   "execution_count": null,
   "metadata": {},
   "outputs": [],
   "source": [
    "C12=StockDivideRatioCrawlerTW()\n",
    "SqlImporter.add_to_sql(StockDivideRatio, C12.crawl_main())"
   ]
  },
  {
   "cell_type": "markdown",
   "metadata": {},
   "source": [
    "# 股票期貨商品資訊"
   ]
  },
  {
   "cell_type": "code",
   "execution_count": null,
   "metadata": {},
   "outputs": [],
   "source": [
    "C13=CommodityTaifexCrawlerTW()\n",
    "SqlImporter.add_to_sql(StockListTaifex, C13.stock_relate(),fk_columns=[{'stock_id':'spot_id'}])"
   ]
  },
  {
   "cell_type": "markdown",
   "metadata": {},
   "source": [
    "# 興櫃股價"
   ]
  },
  {
   "cell_type": "code",
   "execution_count": null,
   "metadata": {},
   "outputs": [],
   "source": [
    "C14=CrawlerProcess(StockPriceCrawlerTW,'crawl_rotc' ,RotcStockPrice,'date_range')\n",
    "logging.info(C4)\n",
    "\n",
    "# # 指定日期區間爬蟲\n",
    "# C1.specified_date_crawl('2007-1-4','2007-1-5')\n",
    "\n",
    "# 自動爬蟲\n",
    "C14.auto_update_crawl()"
   ]
  },
  {
   "cell_type": "code",
   "execution_count": null,
   "metadata": {},
   "outputs": [],
   "source": [
    "dd=month_range(datetime.datetime(2020,11,10))\n",
    "# dd=[i for i in dd if datetime.datetime.now() > i]\n",
    "# dd"
   ]
  }
 ],
 "metadata": {
  "kernelspec": {
   "display_name": "Django Shell-Plus",
   "language": "python",
   "name": "django_extensions"
  },
  "language_info": {
   "codemirror_mode": {
    "name": "ipython",
    "version": 3
   },
   "file_extension": ".py",
   "mimetype": "text/x-python",
   "name": "python",
   "nbconvert_exporter": "python",
   "pygments_lexer": "ipython3",
   "version": "3.7.4"
  }
 },
 "nbformat": 4,
 "nbformat_minor": 4
}
