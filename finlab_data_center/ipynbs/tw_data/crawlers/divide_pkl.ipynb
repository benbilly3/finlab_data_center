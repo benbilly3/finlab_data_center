{
 "cells": [
  {
   "cell_type": "code",
   "execution_count": null,
   "metadata": {},
   "outputs": [],
   "source": [
    "import sys,os\n",
    "sys.path.append(\"..\")\n",
    "import django\n",
    "django.setup()\n",
    "\n",
    "from tw_data.tasks import divide_tw_pkl,tw_fdata_path,table_path\n",
    "import logging\n",
    "import datetime\n",
    "\n",
    "logging.basicConfig(level=logging.INFO)\n"
   ]
  },
  {
   "cell_type": "markdown",
   "metadata": {},
   "source": [
    "# 台股股價"
   ]
  },
  {
   "cell_type": "code",
   "execution_count": null,
   "metadata": {},
   "outputs": [],
   "source": [
    "from etl.sql_interface import PickleUpdate\n",
    "from etl.git import git_init, git_commit\n",
    "import os\n",
    "import logging\n",
    "\n",
    "logging.basicConfig(level=logging.INFO)\n",
    "# base_path = os.path.dirname(os.path.abspath(\"__file__\"))\n",
    "table_path ='/Users/benbilly3/finlab/finlab_data_center/finlab_data_center/tw_data/pickle_table/'\n",
    "tw_fdata_path = '/Users/benbilly3/finlab/finlab_data_center/finlab_data_center/tw_data/tw_fdata/'\n",
    "\n",
    "\n",
    "def divide_tw_pkl():\n",
    "    git_init(work_dir=tw_fdata_path)\n",
    "    for t in ['stock_price', 'monthly_revenue', 'tej_fundamental']:\n",
    "        df = PickleUpdate().update_pkl(table_path, 'stock_data', t, pivot_data_path=tw_fdata_path)\n",
    "        git_commit()\n",
    "    return df\n",
    "\n",
    "divide_tw_pkl()"
   ]
  },
  {
   "cell_type": "code",
   "execution_count": null,
   "metadata": {},
   "outputs": [],
   "source": []
  }
 ],
 "metadata": {
  "kernelspec": {
   "display_name": "Django Shell-Plus",
   "language": "python",
   "name": "django_extensions"
  },
  "language_info": {
   "codemirror_mode": {
    "name": "ipython",
    "version": 3
   },
   "file_extension": ".py",
   "mimetype": "text/x-python",
   "name": "python",
   "nbconvert_exporter": "python",
   "pygments_lexer": "ipython3",
   "version": "3.7.4"
  }
 },
 "nbformat": 4,
 "nbformat_minor": 4
}
