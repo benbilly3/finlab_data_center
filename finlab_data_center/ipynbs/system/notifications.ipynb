{
 "cells": [
  {
   "cell_type": "code",
   "execution_count": 1,
   "metadata": {},
   "outputs": [],
   "source": [
    "import sys,os\n",
    "sys.path.append(\"..\")\n",
    "import django\n",
    "django.setup()\n",
    "import datetime\n",
    "from django_q.models import Success, Failure, Schedule, OrmQ\n",
    "from etl.notifications import EmailNotification\n",
    "from django.conf import settings\n",
    "import logging\n",
    "\n",
    "# Get an instance of a logger\n",
    "logger = logging.getLogger(__name__)"
   ]
  },
  {
   "cell_type": "code",
   "execution_count": 2,
   "metadata": {},
   "outputs": [
    {
     "name": "stdout",
     "output_type": "stream",
     "text": [
      "2020-11-05 22:12:10.446842\n"
     ]
    },
    {
     "data": {
      "text/plain": [
       "'Finish!sent daily crawlers processed report by email'"
      ]
     },
     "execution_count": 2,
     "metadata": {},
     "output_type": "execute_result"
    }
   ],
   "source": [
    "EmailNotification.push_crawlers_processed_report()"
   ]
  },
  {
   "cell_type": "code",
   "execution_count": 3,
   "metadata": {},
   "outputs": [
    {
     "name": "stdout",
     "output_type": "stream",
     "text": [
      "2020-11-05 22:12:15.982454\n"
     ]
    },
    {
     "data": {
      "text/plain": [
       "'Finish!sent daily crawlers processed report by email'"
      ]
     },
     "execution_count": 3,
     "metadata": {},
     "output_type": "execute_result"
    }
   ],
   "source": [
    "EmailNotification.push_crawlers_processed_report()"
   ]
  },
  {
   "cell_type": "markdown",
   "metadata": {},
   "source": [
    "#  Edit"
   ]
  },
  {
   "cell_type": "code",
   "execution_count": null,
   "metadata": {},
   "outputs": [],
   "source": [
    "import smtplib\n",
    "from email.mime.multipart import MIMEMultipart\n",
    "from email.mime.text import MIMEText\n",
    "\n",
    "class EmailNotification:\n",
    "\n",
    "    @classmethod\n",
    "    def send_email(cls, sender, sender_password, receivers, subject, content):\n",
    "        msg = MIMEMultipart('alternative')\n",
    "        msg['Subject'] = subject\n",
    "        msg['From'] = sender\n",
    "        msg['To'] = \", \".join(receivers)\n",
    "\n",
    "        text = MIMEText(content, 'html')\n",
    "        msg.attach(text)\n",
    "\n",
    "        server = smtplib.SMTP_SSL('smtp.gmail.com', 465)\n",
    "        server.ehlo()\n",
    "        server.login(sender, sender_password)\n",
    "        server.sendmail(sender, receivers, msg.as_string())\n",
    "        server.close()\n",
    "\n",
    "    @classmethod\n",
    "    def crawler_html_table(cls, subtitle, obj_list):\n",
    "        content = f\"<h2>{subtitle}({len(obj_list)})</h2>\\\n",
    "        <table border='1'><tr><td>Id</td><td>Group</td><td>Started</td><td>Stopped</td><td>Result</td></tr>\"\n",
    "        if len(obj_list) > 0:\n",
    "            for i, f in enumerate(obj_list):\n",
    "                msg = f\"<tr><td>{i + 1}</td><td>{f['group']}</td><td>{f['started']}</td><td>{f['stopped']}</td><td>\" \\\n",
    "                      f\"{f['result']}</td></tr>\"\n",
    "                content += msg\n",
    "        content += \"</table>\"\n",
    "        return content\n",
    "\n",
    "    @classmethod\n",
    "    def push_crawlers_processed_report(cls):\n",
    "        now = datetime.date.today()\n",
    "        success = Success.objects.filter(started__gt=now).order_by('started').values('started', 'stopped', 'group',\n",
    "                                                                                         'result')\n",
    "        success_get_data = []\n",
    "        success_but_data_not_existed = []\n",
    "        exception_fail = []\n",
    "        for i in range(len(success)):\n",
    "            if 'Finish' in str(success[i]['result']):\n",
    "                success_get_data.append(success[i])\n",
    "            elif 'Fail' in str(success[i]['result']):\n",
    "                success_but_data_not_existed.append(success[i])\n",
    "            else:\n",
    "                exception_fail.append(success[i])\n",
    "        fail = list(\n",
    "            Failure.objects.filter(started__gt=now).order_by('started').values('started', 'stopped', 'group',\n",
    "                                                                                   'result'))\n",
    "        fail += exception_fail\n",
    "        subtitle_list = ['Fail', 'Success but data not existed', 'Success get data']\n",
    "        obj_list = [fail, success_but_data_not_existed, success_get_data]\n",
    "\n",
    "        content = ''\n",
    "        for subtitle, obj in zip(subtitle_list, obj_list):\n",
    "            content += cls.crawler_html_table(subtitle, obj)\n",
    "\n",
    "        gmail_user = os.getenv('GMAIL', settings.CONFIG_DATA.get(\"GMAIL\"))\n",
    "        gmail_password = os.getenv('GMAIL_PASSWORD', settings.CONFIG_DATA.get(\"GMAIL_PASSWORD\"))\n",
    "        receivers = [gmail_user]\n",
    "        now_str = str(now.strftime(\"%Y-%m-%d\"))\n",
    "        subject = f\"【Finlab Data-Center Crawlers Process Report-{now_str}】\"\n",
    "        cls.send_email(gmail_user, gmail_password, receivers, subject, content)\n",
    "        msg = \"Finish!sent daily crawlers processed report by email\"\n",
    "        return msg\n",
    "\n",
    "\n",
    "EmailNotification.push_crawlers_processed_report()"
   ]
  },
  {
   "cell_type": "code",
   "execution_count": null,
   "metadata": {},
   "outputs": [],
   "source": [
    "now=datetime.date.today()\n",
    "success=Success.objects.filter(started__gt=now).order_by('started').values('started','stopped','group','result')\n",
    "success"
   ]
  },
  {
   "cell_type": "code",
   "execution_count": null,
   "metadata": {},
   "outputs": [],
   "source": [
    "success_get_data=[success[i] for i in range(len(success)) if 'Finish' in str(success[i]['result'])]\n",
    "success_get_data"
   ]
  },
  {
   "cell_type": "code",
   "execution_count": null,
   "metadata": {},
   "outputs": [],
   "source": [
    "fail=list(Failure.objects.filter(started__gt=now).order_by('started').values('started','stopped','group','result'))\n",
    "fail"
   ]
  },
  {
   "cell_type": "code",
   "execution_count": null,
   "metadata": {},
   "outputs": [],
   "source": [
    "success_but_data_not_existed=[success[i] for i in range(len(success)) if 'Fail' in success[i]['result']]\n",
    "success_but_data_not_existed"
   ]
  },
  {
   "cell_type": "code",
   "execution_count": null,
   "metadata": {},
   "outputs": [],
   "source": [
    "# gmail_user = 'finlab.company@gmail.com'\n",
    "# gmail_password = 'xxxxxx' # use the correct password\n",
    "gmail_user = 'benbilly3@gmail.com'\n",
    "gmail_password = 'benbilly3@' # use the correct password\n",
    "receivers = ['benbilly3@gmail.com']\n",
    "now_str = str(datetime.date.today().strftime(\"%Y-%m-%d %H:%M\"))\n",
    "subject = f\"【Finlab Data-Center Crawlers Process Report】-{now_str}\"\n",
    "\n",
    "\n"
   ]
  },
  {
   "cell_type": "code",
   "execution_count": null,
   "metadata": {},
   "outputs": [],
   "source": [
    "def crawler_html_table(subtitle,obj_list):\n",
    "    content = f\"<h2>{subtitle}</h2>\\\n",
    "    <table border='1'><tr><td>Group</td><td>Started</td><td>Stopped</td><td>Result</td></tr>\"\n",
    "    for f in obj_list:\n",
    "        msg=f\"<tr><td>{f['group']}</td><td>{f['started']}</td><td>{f['stopped']}</td><td>{f['result']}</td></tr>\"\n",
    "        content+=msg\n",
    "    content+=\"</table>\"\n",
    "    return content\n",
    "\n",
    "\n",
    "\n",
    "subtitle_list=['Fail','Success but data not existed','Success get data']\n",
    "obj_list=[fail,success_but_data_not_existed,success_get_data]\n",
    "\n",
    "content=''\n",
    "for subtitle,obj in zip(subtitle_list,obj_list):\n",
    "    content+=crawler_html_table(subtitle,obj)\n",
    "content\n"
   ]
  },
  {
   "cell_type": "code",
   "execution_count": null,
   "metadata": {},
   "outputs": [],
   "source": [
    "send_email(gmail_user, gmail_password, receivers, subject, content)"
   ]
  },
  {
   "cell_type": "code",
   "execution_count": null,
   "metadata": {},
   "outputs": [],
   "source": [
    "len(success)"
   ]
  },
  {
   "cell_type": "code",
   "execution_count": null,
   "metadata": {},
   "outputs": [],
   "source": [
    "for i in range(len(success)):\n",
    "    if 'Finish' in success[i]['result']:\n",
    "        print(i,success[i])"
   ]
  },
  {
   "cell_type": "code",
   "execution_count": null,
   "metadata": {},
   "outputs": [],
   "source": [
    "a=str(success[0]['result'])\n",
    "a"
   ]
  },
  {
   "cell_type": "code",
   "execution_count": null,
   "metadata": {},
   "outputs": [],
   "source": [
    "'Finish' in a"
   ]
  },
  {
   "cell_type": "code",
   "execution_count": null,
   "metadata": {},
   "outputs": [],
   "source": []
  }
 ],
 "metadata": {
  "kernelspec": {
   "display_name": "Django Shell-Plus",
   "language": "python",
   "name": "django_extensions"
  },
  "language_info": {
   "codemirror_mode": {
    "name": "ipython",
    "version": 3
   },
   "file_extension": ".py",
   "mimetype": "text/x-python",
   "name": "python",
   "nbconvert_exporter": "python",
   "pygments_lexer": "ipython3",
   "version": "3.7.4"
  }
 },
 "nbformat": 4,
 "nbformat_minor": 4
}
