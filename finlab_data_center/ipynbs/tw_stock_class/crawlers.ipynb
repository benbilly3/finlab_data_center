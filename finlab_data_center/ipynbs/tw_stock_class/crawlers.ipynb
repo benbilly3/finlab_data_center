{
 "cells": [
  {
   "cell_type": "code",
   "execution_count": 1,
   "metadata": {},
   "outputs": [],
   "source": [
    "import sys,os\n",
    "sys.path.append(\"..\")\n",
    "import django\n",
    "django.setup()\n",
    "import datetime\n",
    "import pandas as pd\n",
    "from tw_stock_class.finlab.crawler import (\n",
    "    # 爬蟲們\n",
    "    crawl_price,\n",
    "    crawl_bargin,\n",
    "    crawl_pe,\n",
    "    crawl_benchmark,\n",
    "    crawl_monthly_report,\n",
    "    crawl_twse_divide_ratio,\n",
    "    crawl_otc_divide_ratio,\n",
    "    crawl_twse_cap_reduction,\n",
    "    crawl_otc_cap_reduction,\n",
    "\n",
    ")\n",
    "import logging\n",
    "from django.conf import settings\n",
    "\n",
    "logging.basicConfig(level=logging.INFO)\n",
    "BASE_DIR='/Users/benbilly3/finlab/finlab_data_center/finlab_data_center/tw_stock_class'"
   ]
  },
  {
   "cell_type": "markdown",
   "metadata": {},
   "source": [
    "# Download today data"
   ]
  },
  {
   "cell_type": "code",
   "execution_count": 6,
   "metadata": {},
   "outputs": [],
   "source": [
    "def git_init():\n",
    "    user_name = os.getenv(\"GITLAB_NAME\", settings.CONFIG_DATA.get(\"GITLAB_NAME\"))\n",
    "    user_password = os.getenv(\"GITLAB_PASSWORD\", settings.CONFIG_DATA.get(\"GITLAB_PASSWORD\"))\n",
    "    mail = os.getenv(\"GMAIL\", settings.CONFIG_DATA.get(\"GMAIL\"))\n",
    "    os.chdir(BASE_DIR)\n",
    "    os.system(f\"git config --local user.email {mail}\")\n",
    "    os.system(f\"git config --local user.name {user_name}\")\n",
    " \n",
    "\n",
    "def git_commit():\n",
    "    git_init()\n",
    "    now = datetime.datetime.now()\n",
    "    now = str(now.strftime(\"%Y-%m-%d %H:%M\"))\n",
    "    os.system(\"git add data/\")\n",
    "    os.system(\"git commit -m '%s update data'\" % now)\n",
    "    os.system(\"git push -u origin master\")\n",
    "    info = \"Finish!git push successfully\"\n",
    "    return info"
   ]
  },
  {
   "cell_type": "code",
   "execution_count": 7,
   "metadata": {},
   "outputs": [],
   "source": [
    "class TwStockClassPickler:\n",
    "    crawlers_list = ['crawl_price', 'crawl_bargin', 'crawl_pe', 'crawl_benchmark', 'crawl_monthly_report']\n",
    "    crawlers_once_list = ['crawl_twse_divide_ratio', 'crawl_otc_divide_ratio', 'crawl_twse_cap_reduction',\n",
    "                          'crawl_otc_cap_reduction']\n",
    "\n",
    "    def download_single(self, func: str, dt=False, once=False):\n",
    "        if dt is False:\n",
    "            dt = datetime.datetime.now()\n",
    "        dir_name = func[func.index('_') + 1:]\n",
    "\n",
    "        if func != 'crawl_monthly_report':\n",
    "            file_name = dt.strftime('%Y%m%d')\n",
    "        else:\n",
    "            file_name = dt.strftime('%Y%m')\n",
    "\n",
    "        if once:\n",
    "            df = eval(func)()\n",
    "            if df.empty is False:\n",
    "                df.to_pickle(f'{BASE_DIR}/data/{dir_name}/{dir_name}.pickle')\n",
    "        else:\n",
    "            df = eval(func)(dt)\n",
    "            if df.empty is False:\n",
    "                df.to_pickle(f'{BASE_DIR}/data/{dir_name}/{file_name}.pickle')\n",
    "        return df\n",
    "\n",
    "    def download_all(self, dt=False):\n",
    "        git_init()\n",
    "        os.system(\"git pull origin master\")\n",
    "        if dt is False:\n",
    "            dt = datetime.date.today()\n",
    "            dt = datetime.datetime(dt.year, dt.month, dt.day)\n",
    "        for crawler_name in self.crawlers_list:\n",
    "            self.download_single(crawler_name, dt)\n",
    "\n",
    "        for crawler_name in self.crawlers_once_list:\n",
    "            self.download_single(crawler_name, once=True)\n",
    "        info = 'Finish!download class data and divide pickle file'\n",
    "        return info\n",
    "# TwStockClassPickler().download_all()"
   ]
  },
  {
   "cell_type": "code",
   "execution_count": 9,
   "metadata": {},
   "outputs": [
    {
     "data": {
      "text/plain": [
       "'Finish!git push successfully'"
      ]
     },
     "execution_count": 9,
     "metadata": {},
     "output_type": "execute_result"
    }
   ],
   "source": [
    "git_commit()"
   ]
  },
  {
   "cell_type": "code",
   "execution_count": null,
   "metadata": {},
   "outputs": [],
   "source": [
    "# import urllib.request\n",
    "# import pickle\n",
    "# import requests\n",
    "\n",
    "# def crawl_gitlab_backup(target:str,date=None):\n",
    "#     crawlers_once_list=['twse_divide_ratio','otc_divide_ratio','twse_cap_reduction','otc_cap_reduction']\n",
    "#     headers = {\n",
    "#                     'User-Agent': 'Mozilla/5.0 (Macintosh; Intel Mac OS X 10_10_1) AppleWebKit/537.36 (KHTML, like Gecko)'\n",
    "#                                   ' Chrome/39.0.2171.95 Safari/537.36'\n",
    "#     }\n",
    "    \n",
    "#     if date is not None:\n",
    "#         date_str=date.strftime('%Y%m%d')\n",
    "#         if target== 'monthly_report':\n",
    "#             date_str=date.strftime('%Y%m')\n",
    "\n",
    "#     if target in crawlers_once_list:\n",
    "#         url=f'https://gitlab.com/finlab_company_class/tw_stock/-/raw/master/data/{target}/{target}.pickle?inline=false'\n",
    "#     else:\n",
    "#         url=f'https://gitlab.com/finlab_company_class/tw_stock/-/raw/master/data/{target}/{date_str}.pickle?inline=false'\n",
    "#     try:\n",
    "#         req = urllib.request.Request(url=url, headers=headers)\n",
    "#         df = pickle.load(urllib.request.urlopen(req))\n",
    "#         return df\n",
    "#     except:\n",
    "#         return None\n",
    "    \n",
    "\n",
    "# date=date=datetime.datetime(2020, 10, 5, 0, 0)\n",
    "# # crawl_gitlab_backup('twse_divide_ratio')\n",
    "# # crawl_gitlab_backup('price',date)\n",
    "# crawl_gitlab_backup('monthly_report',date)\n"
   ]
  },
  {
   "cell_type": "code",
   "execution_count": 8,
   "metadata": {},
   "outputs": [
    {
     "name": "stderr",
     "output_type": "stream",
     "text": [
      "--- Logging error ---\n",
      "Traceback (most recent call last):\n",
      "  File \"/Users/benbilly3/opt/anaconda3/lib/python3.7/logging/__init__.py\", line 1025, in emit\n",
      "    msg = self.format(record)\n",
      "  File \"/Users/benbilly3/opt/anaconda3/lib/python3.7/logging/__init__.py\", line 869, in format\n",
      "    return fmt.format(record)\n",
      "  File \"/Users/benbilly3/opt/anaconda3/lib/python3.7/logging/__init__.py\", line 608, in format\n",
      "    record.message = record.getMessage()\n",
      "  File \"/Users/benbilly3/opt/anaconda3/lib/python3.7/logging/__init__.py\", line 369, in getMessage\n",
      "    msg = msg % self.args\n",
      "TypeError: not all arguments converted during string formatting\n",
      "Call stack:\n",
      "  File \"/Users/benbilly3/opt/anaconda3/lib/python3.7/runpy.py\", line 193, in _run_module_as_main\n",
      "    \"__main__\", mod_spec)\n",
      "  File \"/Users/benbilly3/opt/anaconda3/lib/python3.7/runpy.py\", line 85, in _run_code\n",
      "    exec(code, run_globals)\n",
      "  File \"/Users/benbilly3/finlab/finlab_data_center/venv/lib/python3.7/site-packages/ipykernel_launcher.py\", line 16, in <module>\n",
      "    app.launch_new_instance()\n",
      "  File \"/Users/benbilly3/finlab/finlab_data_center/venv/lib/python3.7/site-packages/traitlets/config/application.py\", line 837, in launch_instance\n",
      "    app.start()\n",
      "  File \"/Users/benbilly3/finlab/finlab_data_center/venv/lib/python3.7/site-packages/ipykernel/kernelapp.py\", line 612, in start\n",
      "    self.io_loop.start()\n",
      "  File \"/Users/benbilly3/finlab/finlab_data_center/venv/lib/python3.7/site-packages/tornado/platform/asyncio.py\", line 149, in start\n",
      "    self.asyncio_loop.run_forever()\n",
      "  File \"/Users/benbilly3/opt/anaconda3/lib/python3.7/asyncio/base_events.py\", line 534, in run_forever\n",
      "    self._run_once()\n",
      "  File \"/Users/benbilly3/opt/anaconda3/lib/python3.7/asyncio/base_events.py\", line 1771, in _run_once\n",
      "    handle._run()\n",
      "  File \"/Users/benbilly3/opt/anaconda3/lib/python3.7/asyncio/events.py\", line 88, in _run\n",
      "    self._context.run(self._callback, *self._args)\n",
      "  File \"/Users/benbilly3/finlab/finlab_data_center/venv/lib/python3.7/site-packages/tornado/ioloop.py\", line 690, in <lambda>\n",
      "    lambda f: self._run_callback(functools.partial(callback, future))\n",
      "  File \"/Users/benbilly3/finlab/finlab_data_center/venv/lib/python3.7/site-packages/tornado/ioloop.py\", line 743, in _run_callback\n",
      "    ret = callback()\n",
      "  File \"/Users/benbilly3/finlab/finlab_data_center/venv/lib/python3.7/site-packages/tornado/gen.py\", line 787, in inner\n",
      "    self.run()\n",
      "  File \"/Users/benbilly3/finlab/finlab_data_center/venv/lib/python3.7/site-packages/tornado/gen.py\", line 748, in run\n",
      "    yielded = self.gen.send(value)\n",
      "  File \"/Users/benbilly3/finlab/finlab_data_center/venv/lib/python3.7/site-packages/ipykernel/kernelbase.py\", line 365, in process_one\n",
      "    yield gen.maybe_future(dispatch(*args))\n",
      "  File \"/Users/benbilly3/finlab/finlab_data_center/venv/lib/python3.7/site-packages/tornado/gen.py\", line 209, in wrapper\n",
      "    yielded = next(result)\n",
      "  File \"/Users/benbilly3/finlab/finlab_data_center/venv/lib/python3.7/site-packages/ipykernel/kernelbase.py\", line 268, in dispatch_shell\n",
      "    yield gen.maybe_future(handler(stream, idents, msg))\n",
      "  File \"/Users/benbilly3/finlab/finlab_data_center/venv/lib/python3.7/site-packages/tornado/gen.py\", line 209, in wrapper\n",
      "    yielded = next(result)\n",
      "  File \"/Users/benbilly3/finlab/finlab_data_center/venv/lib/python3.7/site-packages/ipykernel/kernelbase.py\", line 545, in execute_request\n",
      "    user_expressions, allow_stdin,\n",
      "  File \"/Users/benbilly3/finlab/finlab_data_center/venv/lib/python3.7/site-packages/tornado/gen.py\", line 209, in wrapper\n",
      "    yielded = next(result)\n",
      "  File \"/Users/benbilly3/finlab/finlab_data_center/venv/lib/python3.7/site-packages/ipykernel/ipkernel.py\", line 306, in do_execute\n",
      "    res = shell.run_cell(code, store_history=store_history, silent=silent)\n",
      "  File \"/Users/benbilly3/finlab/finlab_data_center/venv/lib/python3.7/site-packages/ipykernel/zmqshell.py\", line 536, in run_cell\n",
      "    return super(ZMQInteractiveShell, self).run_cell(*args, **kwargs)\n",
      "  File \"/Users/benbilly3/finlab/finlab_data_center/venv/lib/python3.7/site-packages/IPython/core/interactiveshell.py\", line 2877, in run_cell\n",
      "    raw_cell, store_history, silent, shell_futures)\n",
      "  File \"/Users/benbilly3/finlab/finlab_data_center/venv/lib/python3.7/site-packages/IPython/core/interactiveshell.py\", line 2922, in _run_cell\n",
      "    return runner(coro)\n",
      "  File \"/Users/benbilly3/finlab/finlab_data_center/venv/lib/python3.7/site-packages/IPython/core/async_helpers.py\", line 68, in _pseudo_sync_runner\n",
      "    coro.send(None)\n",
      "  File \"/Users/benbilly3/finlab/finlab_data_center/venv/lib/python3.7/site-packages/IPython/core/interactiveshell.py\", line 3146, in run_cell_async\n",
      "    interactivity=interactivity, compiler=compiler, result=result)\n",
      "  File \"/Users/benbilly3/finlab/finlab_data_center/venv/lib/python3.7/site-packages/IPython/core/interactiveshell.py\", line 3337, in run_ast_nodes\n",
      "    if (await self.run_code(code, result,  async_=asy)):\n",
      "  File \"/Users/benbilly3/finlab/finlab_data_center/venv/lib/python3.7/site-packages/IPython/core/interactiveshell.py\", line 3417, in run_code\n",
      "    exec(code_obj, self.user_global_ns, self.user_ns)\n",
      "  File \"<ipython-input-8-6cf9a5c704a5>\", line 5, in <module>\n",
      "    c.download_all(test_dt)\n",
      "  File \"<ipython-input-7-a7463b25652e>\", line 33, in download_all\n",
      "    self.download_single(crawler_name, dt)\n",
      "  File \"<ipython-input-7-a7463b25652e>\", line 21, in download_single\n",
      "    df = eval(func)(dt)\n",
      "  File \"/Users/benbilly3/finlab/finlab_data_center/finlab_data_center/tw_stock_class/finlab/crawler.py\", line 824, in crawl_price\n",
      "    dftwe = price_twe(date)\n",
      "  File \"/Users/benbilly3/finlab/finlab_data_center/finlab_data_center/tw_stock_class/finlab/crawler.py\", line 495, in price_twe\n",
      "    'https://www.twse.com.tw/exchangeReport/MI_INDEX?response=csv&date=' + date_str + '&type=ALLBUT0999')\n",
      "  File \"/Users/benbilly3/finlab/finlab_data_center/finlab_data_center/tw_stock_class/finlab/crawler.py\", line 343, in requests_get\n",
      "    ses = find_best_session()\n",
      "  File \"/Users/benbilly3/finlab/finlab_data_center/finlab_data_center/tw_stock_class/finlab/crawler.py\", line 317, in find_best_session\n",
      "    logger.info('獲取新的Session 第', i, '回合')\n",
      "Message: '獲取新的Session 第'\n",
      "Arguments: (0, '回合')\n",
      "INFO:tw_stock_class.finlab.crawler:成功！\n",
      "INFO:tw_stock_class.finlab.crawler:https://mops.twse.com.tw/nas/t21/sii/t21sc03_109_11.html\n",
      "/Users/benbilly3/finlab/finlab_data_center/venv/lib/python3.7/site-packages/urllib3/connectionpool.py:988: InsecureRequestWarning: Unverified HTTPS request is being made to host 'mops.twse.com.tw'. Adding certificate verification is strongly advised. See: https://urllib3.readthedocs.io/en/latest/advanced-usage.html#ssl-warnings\n",
      "  InsecureRequestWarning,\n",
      "INFO:tw_stock_class.finlab.crawler:https://mops.twse.com.tw/nas/t21/otc/t21sc03_109_11.html\n",
      "/Users/benbilly3/finlab/finlab_data_center/venv/lib/python3.7/site-packages/urllib3/connectionpool.py:988: InsecureRequestWarning: Unverified HTTPS request is being made to host 'mops.twse.com.tw'. Adding certificate verification is strongly advised. See: https://urllib3.readthedocs.io/en/latest/advanced-usage.html#ssl-warnings\n",
      "  InsecureRequestWarning,\n",
      "INFO:tw_stock_class.finlab.crawler:https://mops.twse.com.tw/nas/t21/sii/t21sc03_109_11.html\n",
      "/Users/benbilly3/finlab/finlab_data_center/venv/lib/python3.7/site-packages/urllib3/connectionpool.py:988: InsecureRequestWarning: Unverified HTTPS request is being made to host 'mops.twse.com.tw'. Adding certificate verification is strongly advised. See: https://urllib3.readthedocs.io/en/latest/advanced-usage.html#ssl-warnings\n",
      "  InsecureRequestWarning,\n",
      "INFO:tw_stock_class.finlab.crawler:https://mops.twse.com.tw/nas/t21/otc/t21sc03_109_11.html\n",
      "/Users/benbilly3/finlab/finlab_data_center/venv/lib/python3.7/site-packages/urllib3/connectionpool.py:988: InsecureRequestWarning: Unverified HTTPS request is being made to host 'mops.twse.com.tw'. Adding certificate verification is strongly advised. See: https://urllib3.readthedocs.io/en/latest/advanced-usage.html#ssl-warnings\n",
      "  InsecureRequestWarning,\n",
      "INFO:tw_stock_class.finlab.crawler:https://mops.twse.com.tw/nas/t21/sii/t21sc03_109_11.html\n",
      "/Users/benbilly3/finlab/finlab_data_center/venv/lib/python3.7/site-packages/urllib3/connectionpool.py:988: InsecureRequestWarning: Unverified HTTPS request is being made to host 'mops.twse.com.tw'. Adding certificate verification is strongly advised. See: https://urllib3.readthedocs.io/en/latest/advanced-usage.html#ssl-warnings\n",
      "  InsecureRequestWarning,\n"
     ]
    },
    {
     "name": "stderr",
     "output_type": "stream",
     "text": [
      "INFO:tw_stock_class.finlab.crawler:https://mops.twse.com.tw/nas/t21/otc/t21sc03_109_11.html\n",
      "/Users/benbilly3/finlab/finlab_data_center/venv/lib/python3.7/site-packages/urllib3/connectionpool.py:988: InsecureRequestWarning: Unverified HTTPS request is being made to host 'mops.twse.com.tw'. Adding certificate verification is strongly advised. See: https://urllib3.readthedocs.io/en/latest/advanced-usage.html#ssl-warnings\n",
      "  InsecureRequestWarning,\n",
      "INFO:tw_stock_class.finlab.crawler:https://mops.twse.com.tw/nas/t21/sii/t21sc03_109_11.html\n",
      "/Users/benbilly3/finlab/finlab_data_center/venv/lib/python3.7/site-packages/urllib3/connectionpool.py:988: InsecureRequestWarning: Unverified HTTPS request is being made to host 'mops.twse.com.tw'. Adding certificate verification is strongly advised. See: https://urllib3.readthedocs.io/en/latest/advanced-usage.html#ssl-warnings\n",
      "  InsecureRequestWarning,\n",
      "INFO:tw_stock_class.finlab.crawler:https://mops.twse.com.tw/nas/t21/otc/t21sc03_109_11.html\n",
      "/Users/benbilly3/finlab/finlab_data_center/venv/lib/python3.7/site-packages/urllib3/connectionpool.py:988: InsecureRequestWarning: Unverified HTTPS request is being made to host 'mops.twse.com.tw'. Adding certificate verification is strongly advised. See: https://urllib3.readthedocs.io/en/latest/advanced-usage.html#ssl-warnings\n",
      "  InsecureRequestWarning,\n",
      "INFO:tw_stock_class.finlab.crawler:https://mops.twse.com.tw/nas/t21/sii/t21sc03_109_11.html\n",
      "/Users/benbilly3/finlab/finlab_data_center/venv/lib/python3.7/site-packages/urllib3/connectionpool.py:988: InsecureRequestWarning: Unverified HTTPS request is being made to host 'mops.twse.com.tw'. Adding certificate verification is strongly advised. See: https://urllib3.readthedocs.io/en/latest/advanced-usage.html#ssl-warnings\n",
      "  InsecureRequestWarning,\n",
      "INFO:tw_stock_class.finlab.crawler:https://mops.twse.com.tw/nas/t21/otc/t21sc03_109_11.html\n",
      "/Users/benbilly3/finlab/finlab_data_center/venv/lib/python3.7/site-packages/urllib3/connectionpool.py:988: InsecureRequestWarning: Unverified HTTPS request is being made to host 'mops.twse.com.tw'. Adding certificate verification is strongly advised. See: https://urllib3.readthedocs.io/en/latest/advanced-usage.html#ssl-warnings\n",
      "  InsecureRequestWarning,\n",
      "ERROR:tw_stock_class.finlab.crawler:holiday\n",
      "ERROR:tw_stock_class.finlab.crawler:holiday\n",
      "ERROR:tw_stock_class.finlab.crawler:holiday\n",
      "ERROR:tw_stock_class.finlab.crawler:holiday\n",
      "ERROR:tw_stock_class.finlab.crawler:holiday\n",
      "INFO:tw_stock_class.finlab.crawler:https://mops.twse.com.tw/nas/t21/sii/t21sc03_109_11.html\n",
      "/Users/benbilly3/finlab/finlab_data_center/venv/lib/python3.7/site-packages/urllib3/connectionpool.py:988: InsecureRequestWarning: Unverified HTTPS request is being made to host 'mops.twse.com.tw'. Adding certificate verification is strongly advised. See: https://urllib3.readthedocs.io/en/latest/advanced-usage.html#ssl-warnings\n",
      "  InsecureRequestWarning,\n",
      "INFO:tw_stock_class.finlab.crawler:https://mops.twse.com.tw/nas/t21/otc/t21sc03_109_11.html\n",
      "/Users/benbilly3/finlab/finlab_data_center/venv/lib/python3.7/site-packages/urllib3/connectionpool.py:988: InsecureRequestWarning: Unverified HTTPS request is being made to host 'mops.twse.com.tw'. Adding certificate verification is strongly advised. See: https://urllib3.readthedocs.io/en/latest/advanced-usage.html#ssl-warnings\n",
      "  InsecureRequestWarning,\n",
      "ERROR:tw_stock_class.finlab.crawler:holiday\n",
      "ERROR:tw_stock_class.finlab.crawler:holiday\n",
      "ERROR:tw_stock_class.finlab.crawler:holiday\n",
      "ERROR:tw_stock_class.finlab.crawler:holiday\n",
      "ERROR:tw_stock_class.finlab.crawler:holiday\n",
      "INFO:tw_stock_class.finlab.crawler:https://mops.twse.com.tw/nas/t21/sii/t21sc03_109_11.html\n",
      "/Users/benbilly3/finlab/finlab_data_center/venv/lib/python3.7/site-packages/urllib3/connectionpool.py:988: InsecureRequestWarning: Unverified HTTPS request is being made to host 'mops.twse.com.tw'. Adding certificate verification is strongly advised. See: https://urllib3.readthedocs.io/en/latest/advanced-usage.html#ssl-warnings\n",
      "  InsecureRequestWarning,\n",
      "INFO:tw_stock_class.finlab.crawler:https://mops.twse.com.tw/nas/t21/otc/t21sc03_109_11.html\n",
      "/Users/benbilly3/finlab/finlab_data_center/venv/lib/python3.7/site-packages/urllib3/connectionpool.py:988: InsecureRequestWarning: Unverified HTTPS request is being made to host 'mops.twse.com.tw'. Adding certificate verification is strongly advised. See: https://urllib3.readthedocs.io/en/latest/advanced-usage.html#ssl-warnings\n",
      "  InsecureRequestWarning,\n",
      "INFO:tw_stock_class.finlab.crawler:https://mops.twse.com.tw/nas/t21/sii/t21sc03_109_11.html\n",
      "/Users/benbilly3/finlab/finlab_data_center/venv/lib/python3.7/site-packages/urllib3/connectionpool.py:988: InsecureRequestWarning: Unverified HTTPS request is being made to host 'mops.twse.com.tw'. Adding certificate verification is strongly advised. See: https://urllib3.readthedocs.io/en/latest/advanced-usage.html#ssl-warnings\n",
      "  InsecureRequestWarning,\n",
      "INFO:tw_stock_class.finlab.crawler:https://mops.twse.com.tw/nas/t21/otc/t21sc03_109_11.html\n",
      "/Users/benbilly3/finlab/finlab_data_center/venv/lib/python3.7/site-packages/urllib3/connectionpool.py:988: InsecureRequestWarning: Unverified HTTPS request is being made to host 'mops.twse.com.tw'. Adding certificate verification is strongly advised. See: https://urllib3.readthedocs.io/en/latest/advanced-usage.html#ssl-warnings\n",
      "  InsecureRequestWarning,\n",
      "INFO:tw_stock_class.finlab.crawler:https://mops.twse.com.tw/nas/t21/sii/t21sc03_109_11.html\n",
      "/Users/benbilly3/finlab/finlab_data_center/venv/lib/python3.7/site-packages/urllib3/connectionpool.py:988: InsecureRequestWarning: Unverified HTTPS request is being made to host 'mops.twse.com.tw'. Adding certificate verification is strongly advised. See: https://urllib3.readthedocs.io/en/latest/advanced-usage.html#ssl-warnings\n",
      "  InsecureRequestWarning,\n",
      "INFO:tw_stock_class.finlab.crawler:https://mops.twse.com.tw/nas/t21/otc/t21sc03_109_11.html\n",
      "/Users/benbilly3/finlab/finlab_data_center/venv/lib/python3.7/site-packages/urllib3/connectionpool.py:988: InsecureRequestWarning: Unverified HTTPS request is being made to host 'mops.twse.com.tw'. Adding certificate verification is strongly advised. See: https://urllib3.readthedocs.io/en/latest/advanced-usage.html#ssl-warnings\n",
      "  InsecureRequestWarning,\n",
      "INFO:tw_stock_class.finlab.crawler:https://mops.twse.com.tw/nas/t21/sii/t21sc03_109_11.html\n",
      "/Users/benbilly3/finlab/finlab_data_center/venv/lib/python3.7/site-packages/urllib3/connectionpool.py:988: InsecureRequestWarning: Unverified HTTPS request is being made to host 'mops.twse.com.tw'. Adding certificate verification is strongly advised. See: https://urllib3.readthedocs.io/en/latest/advanced-usage.html#ssl-warnings\n",
      "  InsecureRequestWarning,\n",
      "INFO:tw_stock_class.finlab.crawler:https://mops.twse.com.tw/nas/t21/otc/t21sc03_109_11.html\n",
      "/Users/benbilly3/finlab/finlab_data_center/venv/lib/python3.7/site-packages/urllib3/connectionpool.py:988: InsecureRequestWarning: Unverified HTTPS request is being made to host 'mops.twse.com.tw'. Adding certificate verification is strongly advised. See: https://urllib3.readthedocs.io/en/latest/advanced-usage.html#ssl-warnings\n",
      "  InsecureRequestWarning,\n"
     ]
    }
   ],
   "source": [
    "import time\n",
    "c=TwStockClassPickler()\n",
    "date_list=pd.date_range(start='21/12/2020', end='30/12/2020')\n",
    "for test_dt in date_list:\n",
    "    c.download_all(test_dt)\n",
    "    time.sleep(5)"
   ]
  },
  {
   "cell_type": "code",
   "execution_count": 4,
   "metadata": {},
   "outputs": [
    {
     "data": {
      "text/plain": [
       "'git config --global user.email finlab.company@gmail.com'"
      ]
     },
     "execution_count": 4,
     "metadata": {},
     "output_type": "execute_result"
    }
   ],
   "source": [
    "mail = os.getenv('GMAIL', settings.CONFIG_DATA.get(\"GMAIL\"))\n",
    "f\"git config --global user.email {mail}\""
   ]
  },
  {
   "cell_type": "code",
   "execution_count": 4,
   "metadata": {},
   "outputs": [
    {
     "data": {
      "text/plain": [
       "DatetimeIndex(['2020-12-21', '2020-12-22', '2020-12-23', '2020-12-24',\n",
       "               '2020-12-25', '2020-12-26', '2020-12-27', '2020-12-28',\n",
       "               '2020-12-29', '2020-12-30'],\n",
       "              dtype='datetime64[ns]', freq='D')"
      ]
     },
     "execution_count": 4,
     "metadata": {},
     "output_type": "execute_result"
    }
   ],
   "source": [
    "pd.date_range(start='21/12/2020', end='30/12/2020')"
   ]
  },
  {
   "cell_type": "code",
   "execution_count": null,
   "metadata": {},
   "outputs": [],
   "source": []
  }
 ],
 "metadata": {
  "kernelspec": {
   "display_name": "Django Shell-Plus",
   "language": "python",
   "name": "django_extensions"
  },
  "language_info": {
   "codemirror_mode": {
    "name": "ipython",
    "version": 3
   },
   "file_extension": ".py",
   "mimetype": "text/x-python",
   "name": "python",
   "nbconvert_exporter": "python",
   "pygments_lexer": "ipython3",
   "version": "3.7.4"
  }
 },
 "nbformat": 4,
 "nbformat_minor": 4
}
